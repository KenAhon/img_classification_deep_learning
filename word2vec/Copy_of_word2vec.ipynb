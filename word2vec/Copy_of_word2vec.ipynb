{
  "nbformat": 4,
  "nbformat_minor": 0,
  "metadata": {
    "colab": {
      "name": "Copy of word2vec.ipynb",
      "version": "0.3.2",
      "views": {},
      "default_view": {},
      "provenance": [
        {
          "file_id": "1IJDVf2vVmmqF9_ar5qATiws5LSldk27O",
          "timestamp": 1518174133720
        }
      ],
      "collapsed_sections": []
    },
    "kernelspec": {
      "name": "python3",
      "display_name": "Python 3"
    },
    "accelerator": "GPU"
  },
  "cells": [
    {
      "metadata": {
        "id": "zyKleV-Nd4_B",
        "colab_type": "text"
      },
      "cell_type": "markdown",
      "source": [
        ""
      ]
    },
    {
      "metadata": {
        "id": "_ymvhA6tYhKZ",
        "colab_type": "code",
        "colab": {
          "autoexec": {
            "startup": false,
            "wait_interval": 0
          },
          "output_extras": [
            {
              "item_id": 146
            },
            {
              "item_id": 288
            }
          ],
          "base_uri": "https://localhost:8080/",
          "height": 224
        },
        "outputId": "2bb65b99-3aec-46a4-bc91-0d6d16c3ad20",
        "executionInfo": {
          "status": "ok",
          "timestamp": 1520509353200,
          "user_tz": -60,
          "elapsed": 158324,
          "user": {
            "displayName": "vamshi mohan",
            "photoUrl": "//lh3.googleusercontent.com/-TAZZi9peDlc/AAAAAAAAAAI/AAAAAAAACjA/t8Q8saPzQyw/s50-c-k-no/photo.jpg",
            "userId": "110829417576474053160"
          }
        }
      },
      "cell_type": "code",
      "source": [
        "!wget https://s3-us-west-1.amazonaws.com/fasttext-vectors/wiki.en.vec"
      ],
      "execution_count": 2,
      "outputs": [
        {
          "output_type": "stream",
          "text": [
            "--2018-03-08 11:39:55--  https://s3-us-west-1.amazonaws.com/fasttext-vectors/wiki.en.vec\r\n",
            "Resolving s3-us-west-1.amazonaws.com (s3-us-west-1.amazonaws.com)... 52.219.24.137\n",
            "Connecting to s3-us-west-1.amazonaws.com (s3-us-west-1.amazonaws.com)|52.219.24.137|:443... connected.\n",
            "HTTP request sent, awaiting response... 200 OK\n",
            "Length: 6597238061 (6.1G) [binary/octet-stream]\n",
            "Saving to: ‘wiki.en.vec’\n",
            "\n",
            "wiki.en.vec          26%[====>               ]   1.60G  41.4MB/s    eta 2m 1s  "
          ],
          "name": "stdout"
        },
        {
          "output_type": "stream",
          "text": [
            "wiki.en.vec         100%[===================>]   6.14G  40.8MB/s    in 2m 37s  \n",
            "\n",
            "2018-03-08 11:42:32 (40.1 MB/s) - ‘wiki.en.vec’ saved [6597238061/6597238061]\n",
            "\n"
          ],
          "name": "stdout"
        }
      ]
    },
    {
      "metadata": {
        "id": "tEyevPBTbhfU",
        "colab_type": "code",
        "colab": {
          "autoexec": {
            "startup": false,
            "wait_interval": 0
          }
        }
      },
      "cell_type": "code",
      "source": [
        ""
      ],
      "execution_count": 0,
      "outputs": []
    },
    {
      "metadata": {
        "id": "2o4kkFebeC8j",
        "colab_type": "code",
        "colab": {
          "autoexec": {
            "startup": false,
            "wait_interval": 0
          },
          "output_extras": [
            {
              "item_id": 25
            }
          ],
          "base_uri": "https://localhost:8080/",
          "height": 734
        },
        "outputId": "c94a8fef-8261-46c4-dfa3-1308e8ba44b5",
        "executionInfo": {
          "status": "ok",
          "timestamp": 1520509628705,
          "user_tz": -60,
          "elapsed": 12990,
          "user": {
            "displayName": "vamshi mohan",
            "photoUrl": "//lh3.googleusercontent.com/-TAZZi9peDlc/AAAAAAAAAAI/AAAAAAAACjA/t8Q8saPzQyw/s50-c-k-no/photo.jpg",
            "userId": "110829417576474053160"
          }
        }
      },
      "cell_type": "code",
      "source": [
        "!pip install gensim"
      ],
      "execution_count": 6,
      "outputs": [
        {
          "output_type": "stream",
          "text": [
            "Collecting gensim\n",
            "  Downloading gensim-3.4.0-cp36-cp36m-manylinux1_x86_64.whl (22.6MB)\n",
            "\u001b[K    100% |████████████████████████████████| 22.6MB 61kB/s \n",
            "\u001b[?25hRequirement already satisfied: six>=1.5.0 in /usr/local/lib/python3.6/dist-packages (from gensim)\n",
            "Requirement already satisfied: scipy>=0.18.1 in /usr/local/lib/python3.6/dist-packages (from gensim)\n",
            "Collecting smart-open>=1.2.1 (from gensim)\n",
            "  Downloading smart_open-1.5.6.tar.gz\n",
            "Requirement already satisfied: numpy>=1.11.3 in /usr/local/lib/python3.6/dist-packages (from gensim)\n",
            "Collecting boto3 (from smart-open>=1.2.1->gensim)\n",
            "  Downloading boto3-1.6.5-py2.py3-none-any.whl (128kB)\n",
            "\u001b[K    100% |████████████████████████████████| 133kB 8.5MB/s \n",
            "\u001b[?25hCollecting boto>=2.32 (from smart-open>=1.2.1->gensim)\n",
            "  Downloading boto-2.48.0-py2.py3-none-any.whl (1.4MB)\n",
            "\u001b[K    100% |████████████████████████████████| 1.4MB 1.0MB/s \n",
            "\u001b[?25hCollecting bz2file (from smart-open>=1.2.1->gensim)\n",
            "  Downloading bz2file-0.98.tar.gz\n",
            "Requirement already satisfied: requests in /usr/local/lib/python3.6/dist-packages (from smart-open>=1.2.1->gensim)\n",
            "Collecting botocore<1.10.0,>=1.9.5 (from boto3->smart-open>=1.2.1->gensim)\n",
            "  Downloading botocore-1.9.5-py2.py3-none-any.whl (4.1MB)\n",
            "\u001b[K    100% |████████████████████████████████| 4.1MB 343kB/s \n",
            "\u001b[?25hCollecting s3transfer<0.2.0,>=0.1.10 (from boto3->smart-open>=1.2.1->gensim)\n",
            "  Downloading s3transfer-0.1.13-py2.py3-none-any.whl (59kB)\n",
            "\u001b[K    100% |████████████████████████████████| 61kB 9.4MB/s \n",
            "\u001b[?25hCollecting jmespath<1.0.0,>=0.7.1 (from boto3->smart-open>=1.2.1->gensim)\n",
            "  Downloading jmespath-0.9.3-py2.py3-none-any.whl\n",
            "Requirement already satisfied: chardet<3.1.0,>=3.0.2 in /usr/local/lib/python3.6/dist-packages (from requests->smart-open>=1.2.1->gensim)\n",
            "Requirement already satisfied: idna<2.7,>=2.5 in /usr/local/lib/python3.6/dist-packages (from requests->smart-open>=1.2.1->gensim)\n",
            "Requirement already satisfied: certifi>=2017.4.17 in /usr/local/lib/python3.6/dist-packages (from requests->smart-open>=1.2.1->gensim)\n",
            "Requirement already satisfied: urllib3<1.23,>=1.21.1 in /usr/local/lib/python3.6/dist-packages (from requests->smart-open>=1.2.1->gensim)\n",
            "Collecting docutils>=0.10 (from botocore<1.10.0,>=1.9.5->boto3->smart-open>=1.2.1->gensim)\n",
            "  Downloading docutils-0.14-py3-none-any.whl (543kB)\n",
            "\u001b[K    100% |████████████████████████████████| 552kB 2.2MB/s \n",
            "\u001b[?25hRequirement already satisfied: python-dateutil<3.0.0,>=2.1 in /usr/local/lib/python3.6/dist-packages (from botocore<1.10.0,>=1.9.5->boto3->smart-open>=1.2.1->gensim)\n",
            "Building wheels for collected packages: smart-open, bz2file\n",
            "  Running setup.py bdist_wheel for smart-open ... \u001b[?25l-\b \bdone\n",
            "\u001b[?25h  Stored in directory: /content/.cache/pip/wheels/36/48/35/97efc2bd1b233627131c9a936c9de23681846db707b907d353\n",
            "  Running setup.py bdist_wheel for bz2file ... \u001b[?25l-\b \bdone\n",
            "\u001b[?25h  Stored in directory: /content/.cache/pip/wheels/31/9c/20/996d65ca104cbca940b1b053299b68459391c01c774d073126\n",
            "Successfully built smart-open bz2file\n",
            "Installing collected packages: docutils, jmespath, botocore, s3transfer, boto3, boto, bz2file, smart-open, gensim\n",
            "Successfully installed boto-2.48.0 boto3-1.6.5 botocore-1.9.5 bz2file-0.98 docutils-0.14 gensim-3.4.0 jmespath-0.9.3 s3transfer-0.1.13 smart-open-1.5.6\n"
          ],
          "name": "stdout"
        }
      ]
    },
    {
      "metadata": {
        "id": "VAdivciaWjPX",
        "colab_type": "code",
        "colab": {
          "autoexec": {
            "startup": false,
            "wait_interval": 0
          },
          "output_extras": [
            {
              "item_id": 1
            }
          ],
          "base_uri": "https://localhost:8080/",
          "height": 68
        },
        "outputId": "3712b91e-326c-44b3-9e27-e63a547bcdcc",
        "executionInfo": {
          "status": "ok",
          "timestamp": 1520509635124,
          "user_tz": -60,
          "elapsed": 928,
          "user": {
            "displayName": "vamshi mohan",
            "photoUrl": "//lh3.googleusercontent.com/-TAZZi9peDlc/AAAAAAAAAAI/AAAAAAAACjA/t8Q8saPzQyw/s50-c-k-no/photo.jpg",
            "userId": "110829417576474053160"
          }
        }
      },
      "cell_type": "code",
      "source": [
        "!ls -l"
      ],
      "execution_count": 7,
      "outputs": [
        {
          "output_type": "stream",
          "text": [
            "total 6442628\r\n",
            "drwxr-xr-x 1 root root       4096 Mar  8 11:12 datalab\r\n",
            "-rw-r--r-- 1 root root 6597238061 May  2  2017 wiki.en.vec\r\n"
          ],
          "name": "stdout"
        }
      ]
    },
    {
      "metadata": {
        "id": "ynQHwEcbYVi-",
        "colab_type": "code",
        "colab": {
          "autoexec": {
            "startup": false,
            "wait_interval": 0
          }
        }
      },
      "cell_type": "code",
      "source": [
        "import gensim \n",
        "import numpy as np\n",
        "import json\n",
        "import pandas as pd"
      ],
      "execution_count": 0,
      "outputs": []
    },
    {
      "metadata": {
        "id": "nwXzXWH-Ycf1",
        "colab_type": "code",
        "colab": {
          "autoexec": {
            "startup": false,
            "wait_interval": 0
          }
        }
      },
      "cell_type": "code",
      "source": [
        "sentences = [['first', 'sentence'], ['second', 'sentence']]\n",
        "# train word2vec on the two sentences\n",
        "model = gensim.models.Word2Vec(sentences, min_count=1)"
      ],
      "execution_count": 0,
      "outputs": []
    },
    {
      "metadata": {
        "id": "KVdITewRY-6s",
        "colab_type": "code",
        "colab": {
          "autoexec": {
            "startup": false,
            "wait_interval": 0
          }
        }
      },
      "cell_type": "code",
      "source": [
        "new_model = gensim.models.KeyedVectors.load_word2vec_format('wiki.en.vec')\n"
      ],
      "execution_count": 0,
      "outputs": []
    },
    {
      "metadata": {
        "id": "sdaVegxoCOEq",
        "colab_type": "code",
        "colab": {
          "autoexec": {
            "startup": false,
            "wait_interval": 0
          },
          "output_extras": [
            {
              "item_id": 1
            }
          ],
          "base_uri": "https://localhost:8080/",
          "height": 34
        },
        "outputId": "c72643b2-c45b-49ba-e3ea-437d99017e62",
        "executionInfo": {
          "status": "ok",
          "timestamp": 1520512879511,
          "user_tz": -60,
          "elapsed": 6828,
          "user": {
            "displayName": "vamshi mohan",
            "photoUrl": "//lh3.googleusercontent.com/-TAZZi9peDlc/AAAAAAAAAAI/AAAAAAAACjA/t8Q8saPzQyw/s50-c-k-no/photo.jpg",
            "userId": "110829417576474053160"
          }
        }
      },
      "cell_type": "code",
      "source": [
        "new_model.similarity('baby',  \"womaniya\")"
      ],
      "execution_count": 11,
      "outputs": [
        {
          "output_type": "execute_result",
          "data": {
            "text/plain": [
              "0.322546842626893"
            ]
          },
          "metadata": {
            "tags": []
          },
          "execution_count": 11
        }
      ]
    },
    {
      "metadata": {
        "id": "-32mp7PKe5S2",
        "colab_type": "code",
        "colab": {
          "autoexec": {
            "startup": false,
            "wait_interval": 0
          },
          "output_extras": [
            {
              "item_id": 1
            }
          ],
          "base_uri": "https://localhost:8080/",
          "height": 34
        },
        "outputId": "03ce0b13-830c-4d8e-c6c2-e0dad2849cbd",
        "executionInfo": {
          "status": "ok",
          "timestamp": 1520518256657,
          "user_tz": -60,
          "elapsed": 506,
          "user": {
            "displayName": "vamshi mohan",
            "photoUrl": "//lh3.googleusercontent.com/-TAZZi9peDlc/AAAAAAAAAAI/AAAAAAAACjA/t8Q8saPzQyw/s50-c-k-no/photo.jpg",
            "userId": "110829417576474053160"
          }
        }
      },
      "cell_type": "code",
      "source": [
        "new_model.most_similar_to_given('womaniya', [\"woman\", \"india\",\"elizabeth\"])"
      ],
      "execution_count": 14,
      "outputs": [
        {
          "output_type": "execute_result",
          "data": {
            "text/plain": [
              "'woman'"
            ]
          },
          "metadata": {
            "tags": []
          },
          "execution_count": 14
        }
      ]
    },
    {
      "metadata": {
        "id": "z07aXus3Ohcd",
        "colab_type": "code",
        "colab": {
          "autoexec": {
            "startup": false,
            "wait_interval": 0
          },
          "output_extras": [
            {}
          ],
          "base_uri": "https://localhost:8080/",
          "height": 34
        },
        "outputId": "ecb5bde8-5947-40e9-a5a7-1bd71c69f5be",
        "executionInfo": {
          "status": "ok",
          "timestamp": 1518090243845,
          "user_tz": -60,
          "elapsed": 626,
          "user": {
            "displayName": "aadil rasheed",
            "photoUrl": "//lh4.googleusercontent.com/-t1-SWR2z5ao/AAAAAAAAAAI/AAAAAAAAFXM/xrBNZ6PeMqo/s50-c-k-no/photo.jpg",
            "userId": "111662666524430506017"
          }
        }
      },
      "cell_type": "code",
      "source": [
        "new_model.most_similar_to_given('womaniya', [\"india\",\"usa\", \"girl\",\"female\"])"
      ],
      "execution_count": 0,
      "outputs": [
        {
          "output_type": "execute_result",
          "data": {
            "text/plain": [
              "'girl'"
            ]
          },
          "metadata": {
            "tags": []
          },
          "execution_count": 21
        }
      ]
    },
    {
      "metadata": {
        "id": "KwkoLEB2gIYU",
        "colab_type": "code",
        "colab": {
          "autoexec": {
            "startup": false,
            "wait_interval": 0
          },
          "output_extras": [
            {}
          ],
          "base_uri": "https://localhost:8080/",
          "height": 34
        },
        "outputId": "3fae4393-3ff8-412b-e176-0c097267f133",
        "executionInfo": {
          "status": "ok",
          "timestamp": 1518090443708,
          "user_tz": -60,
          "elapsed": 719,
          "user": {
            "displayName": "aadil rasheed",
            "photoUrl": "//lh4.googleusercontent.com/-t1-SWR2z5ao/AAAAAAAAAAI/AAAAAAAAFXM/xrBNZ6PeMqo/s50-c-k-no/photo.jpg",
            "userId": "111662666524430506017"
          }
        }
      },
      "cell_type": "code",
      "source": [
        "new_model.most_similar_to_given('ketchup', [ \"heinz\",\"elizabeth\", \"usa\",\"dabur\" ])"
      ],
      "execution_count": 0,
      "outputs": [
        {
          "output_type": "execute_result",
          "data": {
            "text/plain": [
              "'heinz'"
            ]
          },
          "metadata": {
            "tags": []
          },
          "execution_count": 22
        }
      ]
    },
    {
      "metadata": {
        "id": "KD-TdNpwg3C3",
        "colab_type": "code",
        "colab": {
          "autoexec": {
            "startup": false,
            "wait_interval": 0
          },
          "output_extras": [
            {}
          ],
          "base_uri": "https://localhost:8080/",
          "height": 34
        },
        "outputId": "6a9577e0-e14c-4eb5-d9a0-5221b724f852",
        "executionInfo": {
          "status": "ok",
          "timestamp": 1518090471978,
          "user_tz": -60,
          "elapsed": 519,
          "user": {
            "displayName": "aadil rasheed",
            "photoUrl": "//lh4.googleusercontent.com/-t1-SWR2z5ao/AAAAAAAAAAI/AAAAAAAAFXM/xrBNZ6PeMqo/s50-c-k-no/photo.jpg",
            "userId": "111662666524430506017"
          }
        }
      },
      "cell_type": "code",
      "source": [
        "new_model.distances('ketchup', [ \"heinz\",\"elizabeth\", \"usa\",\"dabur\"])"
      ],
      "execution_count": 0,
      "outputs": [
        {
          "output_type": "execute_result",
          "data": {
            "text/plain": [
              "array([0.6255188, 0.881154 , 0.8296606, 0.7066767], dtype=float32)"
            ]
          },
          "metadata": {
            "tags": []
          },
          "execution_count": 24
        }
      ]
    },
    {
      "metadata": {
        "id": "PtYZvbskPhl5",
        "colab_type": "text"
      },
      "cell_type": "markdown",
      "source": [
        ""
      ]
    },
    {
      "metadata": {
        "id": "t3oSIEW8lQuU",
        "colab_type": "text"
      },
      "cell_type": "markdown",
      "source": [
        ""
      ]
    },
    {
      "metadata": {
        "id": "cUIaX4EXl5fQ",
        "colab_type": "code",
        "colab": {
          "autoexec": {
            "startup": false,
            "wait_interval": 0
          }
        }
      },
      "cell_type": "code",
      "source": [
        ""
      ],
      "execution_count": 0,
      "outputs": []
    }
  ]
}