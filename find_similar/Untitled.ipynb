{
 "cells": [
  {
   "cell_type": "code",
   "execution_count": 1,
   "metadata": {
    "collapsed": true
   },
   "outputs": [],
   "source": [
    "import pandas as pd \n",
    "import numpy as np\n",
    "from os import listdir\n",
    "from os.path import isfile, join"
   ]
  },
  {
   "cell_type": "code",
   "execution_count": 2,
   "metadata": {
    "collapsed": true
   },
   "outputs": [],
   "source": [
    "img_dir = \"../../dataset/images/\"\n",
    "# distances = \"../data/ol_neighborfood/distances_manhattan.csv\" \n",
    "indices = \"../data/ol_neighborfood/indices_manhattan.csv\"\n",
    "# distances = \"../data/\""
   ]
  },
  {
   "cell_type": "code",
   "execution_count": 3,
   "metadata": {
    "collapsed": true
   },
   "outputs": [],
   "source": [
    "def load_img_names(path):\n",
    "    \"\"\" Returns list of img names on specified path\n",
    "    \"\"\"\n",
    "    images = [f for f in listdir(path) if isfile(join(path, f))]\n",
    "    df = pd.DataFrame(images)\n",
    "    df.columns = [\"img\"]\n",
    "    df = df.sort_values(\"img\")\n",
    "    return df[\"img\"].values\n",
    "\n",
    "def get_img_map(img_names):\n",
    "    \"\"\" Maps ordererd integer values to image names, example img  2 > 000002.jpg, 45 > 000045.jpg\n",
    "    \"\"\"\n",
    "    img_map = {}\n",
    "    for i in range(0,len(img_names)):\n",
    "        img_map[i] = img_names[i]\n",
    "    return img_map"
   ]
  },
  {
   "cell_type": "code",
   "execution_count": 4,
   "metadata": {},
   "outputs": [],
   "source": [
    "def transform(nested_array, img_map):\n",
    "    \"\"\" \n",
    "    \"\"\"\n",
    "#     x = np.array([1, 2, 3, 4, 5])\n",
    "    squarer = lambda t: img_map[t]\n",
    "    vfunc = np.vectorize(squarer, otypes=[np.str])\n",
    "    return np.array([vfunc(i) for i in nested_array])\n",
    "        "
   ]
  },
  {
   "cell_type": "code",
   "execution_count": 5,
   "metadata": {},
   "outputs": [],
   "source": [
    "imgs = load_img_names(img_dir)\n",
    "# imgs[:10]"
   ]
  },
  {
   "cell_type": "code",
   "execution_count": 6,
   "metadata": {
    "collapsed": true
   },
   "outputs": [],
   "source": [
    "img_map = get_img_map(imgs)"
   ]
  },
  {
   "cell_type": "code",
   "execution_count": 7,
   "metadata": {},
   "outputs": [],
   "source": [
    "# img_map.items()"
   ]
  },
  {
   "cell_type": "code",
   "execution_count": 8,
   "metadata": {},
   "outputs": [],
   "source": [
    "indices = np.genfromtxt(indices, delimiter=',')"
   ]
  },
  {
   "cell_type": "code",
   "execution_count": 9,
   "metadata": {},
   "outputs": [],
   "source": [
    "# indices[0]"
   ]
  },
  {
   "cell_type": "code",
   "execution_count": 14,
   "metadata": {},
   "outputs": [
    {
     "data": {
      "text/plain": [
       "(37545, 50)"
      ]
     },
     "execution_count": 14,
     "metadata": {},
     "output_type": "execute_result"
    }
   ],
   "source": [
    "transformed_indices = transform(indices, img_map)\n",
    "transformed_indices"
   ]
  },
  {
   "cell_type": "code",
   "execution_count": 15,
   "metadata": {},
   "outputs": [],
   "source": [
    "np.savetxt(\"../data/ol_neighborfood/test.csv\",transformed_indices,fmt='%s',delimiter=\",\")"
   ]
  },
  {
   "cell_type": "code",
   "execution_count": null,
   "metadata": {
    "collapsed": true
   },
   "outputs": [],
   "source": []
  }
 ],
 "metadata": {
  "kernelspec": {
   "display_name": "Python 3",
   "language": "python",
   "name": "python3"
  },
  "language_info": {
   "codemirror_mode": {
    "name": "ipython",
    "version": 3
   },
   "file_extension": ".py",
   "mimetype": "text/x-python",
   "name": "python",
   "nbconvert_exporter": "python",
   "pygments_lexer": "ipython3",
   "version": "3.6.3"
  }
 },
 "nbformat": 4,
 "nbformat_minor": 2
}
