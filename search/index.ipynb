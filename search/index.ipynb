{
 "cells": [
  {
   "cell_type": "code",
   "execution_count": 1,
   "metadata": {
    "collapsed": true
   },
   "outputs": [],
   "source": [
    "import pandas as pd \n",
    "from elasticsearch import Elasticsearch\n",
    "from elasticsearch import helpers"
   ]
  },
  {
   "cell_type": "markdown",
   "metadata": {},
   "source": [
    "# Paths"
   ]
  },
  {
   "cell_type": "code",
   "execution_count": 2,
   "metadata": {
    "collapsed": true
   },
   "outputs": [],
   "source": [
    "img_path = \"/home/etd2a/dataset/images/\"\n",
    "data_path = \"../parser/final_out.csv\""
   ]
  },
  {
   "cell_type": "markdown",
   "metadata": {},
   "source": [
    "# Load the data"
   ]
  },
  {
   "cell_type": "code",
   "execution_count": 3,
   "metadata": {},
   "outputs": [
    {
     "data": {
      "text/html": [
       "<div>\n",
       "<style>\n",
       "    .dataframe thead tr:only-child th {\n",
       "        text-align: right;\n",
       "    }\n",
       "\n",
       "    .dataframe thead th {\n",
       "        text-align: left;\n",
       "    }\n",
       "\n",
       "    .dataframe tbody tr th {\n",
       "        vertical-align: top;\n",
       "    }\n",
       "</style>\n",
       "<table border=\"1\" class=\"dataframe\">\n",
       "  <thead>\n",
       "    <tr style=\"text-align: right;\">\n",
       "      <th></th>\n",
       "      <th>images</th>\n",
       "      <th>paths</th>\n",
       "      <th>caption</th>\n",
       "      <th>path1</th>\n",
       "      <th>path2</th>\n",
       "      <th>name1</th>\n",
       "      <th>name2</th>\n",
       "    </tr>\n",
       "  </thead>\n",
       "  <tbody>\n",
       "    <tr>\n",
       "      <th>0</th>\n",
       "      <td>image 1: a view of a mountain range from the g...</td>\n",
       "      <td>cp \"./images/029599.jpg\" vis/imgs/img1.jpg\\t</td>\n",
       "      <td>a view of a mountain range from the ground</td>\n",
       "      <td>\"./images/029599.jpg\"</td>\n",
       "      <td>vis/imgs/img1.jpg\\t</td>\n",
       "      <td>029599.jpg</td>\n",
       "      <td>img1.jpg</td>\n",
       "    </tr>\n",
       "    <tr>\n",
       "      <th>1</th>\n",
       "      <td>image 2: a person on a boat in the water\\t</td>\n",
       "      <td>cp \"./images/013369.jpg\" vis/imgs/img2.jpg\\t</td>\n",
       "      <td>a person on a boat in the water</td>\n",
       "      <td>\"./images/013369.jpg\"</td>\n",
       "      <td>vis/imgs/img2.jpg\\t</td>\n",
       "      <td>013369.jpg</td>\n",
       "      <td>img2.jpg</td>\n",
       "    </tr>\n",
       "    <tr>\n",
       "      <th>2</th>\n",
       "      <td>image 3: a view of a building with a clock tow...</td>\n",
       "      <td>cp \"./images/023620.jpg\" vis/imgs/img3.jpg\\t</td>\n",
       "      <td>a view of a building with a clock tower</td>\n",
       "      <td>\"./images/023620.jpg\"</td>\n",
       "      <td>vis/imgs/img3.jpg\\t</td>\n",
       "      <td>023620.jpg</td>\n",
       "      <td>img3.jpg</td>\n",
       "    </tr>\n",
       "    <tr>\n",
       "      <th>3</th>\n",
       "      <td>image 4: a street sign on the side of a road\\t</td>\n",
       "      <td>cp \"./images/004139.jpg\" vis/imgs/img4.jpg\\t</td>\n",
       "      <td>a street sign on the side of a road</td>\n",
       "      <td>\"./images/004139.jpg\"</td>\n",
       "      <td>vis/imgs/img4.jpg\\t</td>\n",
       "      <td>004139.jpg</td>\n",
       "      <td>img4.jpg</td>\n",
       "    </tr>\n",
       "    <tr>\n",
       "      <th>4</th>\n",
       "      <td>image 5: a man in a suit and tie standing in a...</td>\n",
       "      <td>cp \"./images/036728.jpg\" vis/imgs/img5.jpg\\t</td>\n",
       "      <td>a man in a suit and tie standing in a parking lot</td>\n",
       "      <td>\"./images/036728.jpg\"</td>\n",
       "      <td>vis/imgs/img5.jpg\\t</td>\n",
       "      <td>036728.jpg</td>\n",
       "      <td>img5.jpg</td>\n",
       "    </tr>\n",
       "  </tbody>\n",
       "</table>\n",
       "</div>"
      ],
      "text/plain": [
       "                                              images  \\\n",
       "0  image 1: a view of a mountain range from the g...   \n",
       "1         image 2: a person on a boat in the water\\t   \n",
       "2  image 3: a view of a building with a clock tow...   \n",
       "3     image 4: a street sign on the side of a road\\t   \n",
       "4  image 5: a man in a suit and tie standing in a...   \n",
       "\n",
       "                                          paths  \\\n",
       "0  cp \"./images/029599.jpg\" vis/imgs/img1.jpg\\t   \n",
       "1  cp \"./images/013369.jpg\" vis/imgs/img2.jpg\\t   \n",
       "2  cp \"./images/023620.jpg\" vis/imgs/img3.jpg\\t   \n",
       "3  cp \"./images/004139.jpg\" vis/imgs/img4.jpg\\t   \n",
       "4  cp \"./images/036728.jpg\" vis/imgs/img5.jpg\\t   \n",
       "\n",
       "                                             caption                  path1  \\\n",
       "0         a view of a mountain range from the ground  \"./images/029599.jpg\"   \n",
       "1                    a person on a boat in the water  \"./images/013369.jpg\"   \n",
       "2            a view of a building with a clock tower  \"./images/023620.jpg\"   \n",
       "3                a street sign on the side of a road  \"./images/004139.jpg\"   \n",
       "4  a man in a suit and tie standing in a parking lot  \"./images/036728.jpg\"   \n",
       "\n",
       "                 path2       name1     name2  \n",
       "0  vis/imgs/img1.jpg\\t  029599.jpg  img1.jpg  \n",
       "1  vis/imgs/img2.jpg\\t  013369.jpg  img2.jpg  \n",
       "2  vis/imgs/img3.jpg\\t  023620.jpg  img3.jpg  \n",
       "3  vis/imgs/img4.jpg\\t  004139.jpg  img4.jpg  \n",
       "4  vis/imgs/img5.jpg\\t  036728.jpg  img5.jpg  "
      ]
     },
     "execution_count": 3,
     "metadata": {},
     "output_type": "execute_result"
    }
   ],
   "source": [
    "data = pd.read_csv(data_path)\n",
    "data.head()"
   ]
  },
  {
   "cell_type": "markdown",
   "metadata": {},
   "source": [
    "# Changing the shape"
   ]
  },
  {
   "cell_type": "code",
   "execution_count": 4,
   "metadata": {},
   "outputs": [
    {
     "data": {
      "text/html": [
       "<div>\n",
       "<style>\n",
       "    .dataframe thead tr:only-child th {\n",
       "        text-align: right;\n",
       "    }\n",
       "\n",
       "    .dataframe thead th {\n",
       "        text-align: left;\n",
       "    }\n",
       "\n",
       "    .dataframe tbody tr th {\n",
       "        vertical-align: top;\n",
       "    }\n",
       "</style>\n",
       "<table border=\"1\" class=\"dataframe\">\n",
       "  <thead>\n",
       "    <tr style=\"text-align: right;\">\n",
       "      <th></th>\n",
       "      <th>caption</th>\n",
       "      <th>path1</th>\n",
       "      <th>path2</th>\n",
       "      <th>name1</th>\n",
       "      <th>name2</th>\n",
       "    </tr>\n",
       "  </thead>\n",
       "  <tbody>\n",
       "    <tr>\n",
       "      <th>0</th>\n",
       "      <td>a view of a mountain range from the ground</td>\n",
       "      <td>\"./images/029599.jpg\"</td>\n",
       "      <td>vis/imgs/img1.jpg\\t</td>\n",
       "      <td>029599.jpg</td>\n",
       "      <td>img1.jpg</td>\n",
       "    </tr>\n",
       "    <tr>\n",
       "      <th>1</th>\n",
       "      <td>a person on a boat in the water</td>\n",
       "      <td>\"./images/013369.jpg\"</td>\n",
       "      <td>vis/imgs/img2.jpg\\t</td>\n",
       "      <td>013369.jpg</td>\n",
       "      <td>img2.jpg</td>\n",
       "    </tr>\n",
       "    <tr>\n",
       "      <th>2</th>\n",
       "      <td>a view of a building with a clock tower</td>\n",
       "      <td>\"./images/023620.jpg\"</td>\n",
       "      <td>vis/imgs/img3.jpg\\t</td>\n",
       "      <td>023620.jpg</td>\n",
       "      <td>img3.jpg</td>\n",
       "    </tr>\n",
       "    <tr>\n",
       "      <th>3</th>\n",
       "      <td>a street sign on the side of a road</td>\n",
       "      <td>\"./images/004139.jpg\"</td>\n",
       "      <td>vis/imgs/img4.jpg\\t</td>\n",
       "      <td>004139.jpg</td>\n",
       "      <td>img4.jpg</td>\n",
       "    </tr>\n",
       "    <tr>\n",
       "      <th>4</th>\n",
       "      <td>a man in a suit and tie standing in a parking lot</td>\n",
       "      <td>\"./images/036728.jpg\"</td>\n",
       "      <td>vis/imgs/img5.jpg\\t</td>\n",
       "      <td>036728.jpg</td>\n",
       "      <td>img5.jpg</td>\n",
       "    </tr>\n",
       "  </tbody>\n",
       "</table>\n",
       "</div>"
      ],
      "text/plain": [
       "                                             caption                  path1  \\\n",
       "0         a view of a mountain range from the ground  \"./images/029599.jpg\"   \n",
       "1                    a person on a boat in the water  \"./images/013369.jpg\"   \n",
       "2            a view of a building with a clock tower  \"./images/023620.jpg\"   \n",
       "3                a street sign on the side of a road  \"./images/004139.jpg\"   \n",
       "4  a man in a suit and tie standing in a parking lot  \"./images/036728.jpg\"   \n",
       "\n",
       "                 path2       name1     name2  \n",
       "0  vis/imgs/img1.jpg\\t  029599.jpg  img1.jpg  \n",
       "1  vis/imgs/img2.jpg\\t  013369.jpg  img2.jpg  \n",
       "2  vis/imgs/img3.jpg\\t  023620.jpg  img3.jpg  \n",
       "3  vis/imgs/img4.jpg\\t  004139.jpg  img4.jpg  \n",
       "4  vis/imgs/img5.jpg\\t  036728.jpg  img5.jpg  "
      ]
     },
     "execution_count": 4,
     "metadata": {},
     "output_type": "execute_result"
    }
   ],
   "source": [
    "data = data[[\"caption\", \"path1\", \"path2\",\"name1\", \"name2\"]]\n",
    "data.head()"
   ]
  },
  {
   "cell_type": "code",
   "execution_count": 5,
   "metadata": {
    "collapsed": true
   },
   "outputs": [],
   "source": [
    "documents = data.to_dict(orient='index')"
   ]
  },
  {
   "cell_type": "code",
   "execution_count": 6,
   "metadata": {},
   "outputs": [
    {
     "data": {
      "text/plain": [
       "{'caption': 'a building with a clock on the side of it',\n",
       " 'name1': '016238.jpg',\n",
       " 'name2': 'img13000.jpg',\n",
       " 'path1': '\"./images/016238.jpg\"',\n",
       " 'path2': 'vis/imgs/img13000.jpg\\t'}"
      ]
     },
     "execution_count": 6,
     "metadata": {},
     "output_type": "execute_result"
    }
   ],
   "source": [
    "documents[12999]"
   ]
  },
  {
   "cell_type": "markdown",
   "metadata": {},
   "source": [
    "# Indexing"
   ]
  },
  {
   "cell_type": "code",
   "execution_count": 7,
   "metadata": {
    "collapsed": true
   },
   "outputs": [],
   "source": [
    "es = Elasticsearch()"
   ]
  },
  {
   "cell_type": "code",
   "execution_count": 8,
   "metadata": {
    "collapsed": true
   },
   "outputs": [],
   "source": [
    "def create_index(index_name, data,type_name=\"integer\"):\n",
    "    # creates index from a python dict like {0:{key:val}, 1:...}\n",
    "    \n",
    "    INDEX_NAME = index_name\n",
    "    TYPE_NAME = type_name\n",
    "    \n",
    "    # filling bulk_data list with two dicts, one contains documents, the other\n",
    "    # has indexes of those documents\n",
    "    bulk_data = [] \n",
    "    for index, doc in documents.items():\n",
    "        data_dict = {}\n",
    "        data_dict = doc\n",
    "        op_dict = {\n",
    "            \"index\": {\n",
    "                \"_index\": INDEX_NAME, \n",
    "                \"_type\": TYPE_NAME, \n",
    "                \"_id\": int(str(index)),\n",
    "            }\n",
    "        }\n",
    "        bulk_data.append(op_dict)\n",
    "        bulk_data.append(data_dict)\n",
    "        \n",
    "    # checking if index already exists\n",
    "    if es.indices.exists(INDEX_NAME):\n",
    "        print(\"deleting '%s' index...\" % (INDEX_NAME))\n",
    "    res = es.indices.delete(index = INDEX_NAME)\n",
    "    print(\" response: '%s'\" % (res))\n",
    "    \n",
    "    # since we are running locally, use one shard and no replicas\n",
    "    request_body = {\n",
    "        \"settings\" : {\n",
    "            \"number_of_shards\": 1,\n",
    "            \"number_of_replicas\": 0\n",
    "        }\n",
    "    }\n",
    "    print(\"creating '%s' index...\" % (INDEX_NAME))\n",
    "    res = es.indices.create(index = INDEX_NAME, body = request_body)\n",
    "    print(\" response: '%s'\" % (res))\n",
    "    \n",
    "    # this is where indexing of our data is done\n",
    "    print(\"bulk indexing...\")\n",
    "    res = es.bulk(index = INDEX_NAME, body = bulk_data, refresh = True)\n",
    "#     print(res)\n",
    "    print(\"Indexed documents: \", len(res[\"items\"]))"
   ]
  },
  {
   "cell_type": "code",
   "execution_count": 9,
   "metadata": {
    "collapsed": true
   },
   "outputs": [],
   "source": [
    "# search = es.search(index = INDEX_NAME, size=2, body={\"query\": {\n",
    "#         \"match\": {\n",
    "#             \"caption\": \"\"\n",
    "#         }\n",
    "#     }})\n",
    "# print(\" response: '%s'\" % (search))"
   ]
  },
  {
   "cell_type": "code",
   "execution_count": 10,
   "metadata": {},
   "outputs": [
    {
     "name": "stdout",
     "output_type": "stream",
     "text": [
      "deleting 'images' index...\n",
      " response: '{'acknowledged': True}'\n",
      "creating 'images' index...\n",
      " response: '{'acknowledged': True, 'shards_acknowledged': True, 'index': 'images'}'\n",
      "bulk indexing...\n",
      "Indexed documents:  37545\n"
     ]
    }
   ],
   "source": [
    "create_index(\"images\", documents)"
   ]
  },
  {
   "cell_type": "code",
   "execution_count": null,
   "metadata": {
    "collapsed": true
   },
   "outputs": [],
   "source": []
  }
 ],
 "metadata": {
  "kernelspec": {
   "display_name": "Python 3",
   "language": "python",
   "name": "python3"
  },
  "language_info": {
   "codemirror_mode": {
    "name": "ipython",
    "version": 3
   },
   "file_extension": ".py",
   "mimetype": "text/x-python",
   "name": "python",
   "nbconvert_exporter": "python",
   "pygments_lexer": "ipython3",
   "version": "3.6.3"
  }
 },
 "nbformat": 4,
 "nbformat_minor": 2
}
