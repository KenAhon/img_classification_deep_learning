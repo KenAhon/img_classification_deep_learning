{
 "cells": [
  {
   "cell_type": "code",
   "execution_count": 15,
   "metadata": {
    "collapsed": true
   },
   "outputs": [],
   "source": [
    "import pandas as pd \n",
    "from elasticsearch import Elasticsearch\n",
    "from elasticsearch import helpers"
   ]
  },
  {
   "cell_type": "markdown",
   "metadata": {},
   "source": [
    "# Paths"
   ]
  },
  {
   "cell_type": "code",
   "execution_count": 2,
   "metadata": {
    "collapsed": true
   },
   "outputs": [],
   "source": [
    "img_path = \"/home/etd2a/dataset/images/\"\n",
    "data_path = \"../parser/extracted.csv\""
   ]
  },
  {
   "cell_type": "markdown",
   "metadata": {},
   "source": [
    "# Load the data"
   ]
  },
  {
   "cell_type": "code",
   "execution_count": 4,
   "metadata": {},
   "outputs": [
    {
     "data": {
      "text/html": [
       "<div>\n",
       "<style>\n",
       "    .dataframe thead tr:only-child th {\n",
       "        text-align: right;\n",
       "    }\n",
       "\n",
       "    .dataframe thead th {\n",
       "        text-align: left;\n",
       "    }\n",
       "\n",
       "    .dataframe tbody tr th {\n",
       "        vertical-align: top;\n",
       "    }\n",
       "</style>\n",
       "<table border=\"1\" class=\"dataframe\">\n",
       "  <thead>\n",
       "    <tr style=\"text-align: right;\">\n",
       "      <th></th>\n",
       "      <th>Unnamed: 0</th>\n",
       "      <th>images</th>\n",
       "      <th>paths</th>\n",
       "      <th>caption</th>\n",
       "      <th>path1</th>\n",
       "      <th>path2</th>\n",
       "      <th>name1</th>\n",
       "      <th>name2</th>\n",
       "    </tr>\n",
       "  </thead>\n",
       "  <tbody>\n",
       "    <tr>\n",
       "      <th>0</th>\n",
       "      <td>0</td>\n",
       "      <td>image 1: a large clock tower towering over a c...</td>\n",
       "      <td>cp \"./cv/images/035669.jpg\" vis/imgs/img1.jpg\\t</td>\n",
       "      <td>a large clock tower towering over a city</td>\n",
       "      <td>\"./cv/images/035669.jpg\"</td>\n",
       "      <td>vis/imgs/img1.jpg\\t</td>\n",
       "      <td>035669.jpg</td>\n",
       "      <td>img1.jpg</td>\n",
       "    </tr>\n",
       "    <tr>\n",
       "      <th>1</th>\n",
       "      <td>1</td>\n",
       "      <td>image 2: a woman is holding a cell phone in he...</td>\n",
       "      <td>cp \"./cv/images/036736.jpg\" vis/imgs/img2.jpg\\t</td>\n",
       "      <td>a woman is holding a cell phone in her hand</td>\n",
       "      <td>\"./cv/images/036736.jpg\"</td>\n",
       "      <td>vis/imgs/img2.jpg\\t</td>\n",
       "      <td>036736.jpg</td>\n",
       "      <td>img2.jpg</td>\n",
       "    </tr>\n",
       "    <tr>\n",
       "      <th>2</th>\n",
       "      <td>2</td>\n",
       "      <td>image 3: a herd of animals grazing on a lush g...</td>\n",
       "      <td>cp \"./cv/images/021069.jpg\" vis/imgs/img3.jpg\\t</td>\n",
       "      <td>a herd of animals grazing on a lush green hill...</td>\n",
       "      <td>\"./cv/images/021069.jpg\"</td>\n",
       "      <td>vis/imgs/img3.jpg\\t</td>\n",
       "      <td>021069.jpg</td>\n",
       "      <td>img3.jpg</td>\n",
       "    </tr>\n",
       "    <tr>\n",
       "      <th>3</th>\n",
       "      <td>3</td>\n",
       "      <td>image 4: a sign that says UNK UNK on the side ...</td>\n",
       "      <td>cp \"./cv/images/003021.jpg\" vis/imgs/img4.jpg\\t</td>\n",
       "      <td>a sign that says UNK UNK on the side of it</td>\n",
       "      <td>\"./cv/images/003021.jpg\"</td>\n",
       "      <td>vis/imgs/img4.jpg\\t</td>\n",
       "      <td>003021.jpg</td>\n",
       "      <td>img4.jpg</td>\n",
       "    </tr>\n",
       "    <tr>\n",
       "      <th>4</th>\n",
       "      <td>4</td>\n",
       "      <td>image 5: a couple of people that are in a field\\t</td>\n",
       "      <td>cp \"./cv/images/006736.jpg\" vis/imgs/img5.jpg\\t</td>\n",
       "      <td>a couple of people that are in a field</td>\n",
       "      <td>\"./cv/images/006736.jpg\"</td>\n",
       "      <td>vis/imgs/img5.jpg\\t</td>\n",
       "      <td>006736.jpg</td>\n",
       "      <td>img5.jpg</td>\n",
       "    </tr>\n",
       "  </tbody>\n",
       "</table>\n",
       "</div>"
      ],
      "text/plain": [
       "   Unnamed: 0                                             images  \\\n",
       "0           0  image 1: a large clock tower towering over a c...   \n",
       "1           1  image 2: a woman is holding a cell phone in he...   \n",
       "2           2  image 3: a herd of animals grazing on a lush g...   \n",
       "3           3  image 4: a sign that says UNK UNK on the side ...   \n",
       "4           4  image 5: a couple of people that are in a field\\t   \n",
       "\n",
       "                                             paths  \\\n",
       "0  cp \"./cv/images/035669.jpg\" vis/imgs/img1.jpg\\t   \n",
       "1  cp \"./cv/images/036736.jpg\" vis/imgs/img2.jpg\\t   \n",
       "2  cp \"./cv/images/021069.jpg\" vis/imgs/img3.jpg\\t   \n",
       "3  cp \"./cv/images/003021.jpg\" vis/imgs/img4.jpg\\t   \n",
       "4  cp \"./cv/images/006736.jpg\" vis/imgs/img5.jpg\\t   \n",
       "\n",
       "                                             caption  \\\n",
       "0           a large clock tower towering over a city   \n",
       "1        a woman is holding a cell phone in her hand   \n",
       "2  a herd of animals grazing on a lush green hill...   \n",
       "3         a sign that says UNK UNK on the side of it   \n",
       "4             a couple of people that are in a field   \n",
       "\n",
       "                      path1                path2       name1     name2  \n",
       "0  \"./cv/images/035669.jpg\"  vis/imgs/img1.jpg\\t  035669.jpg  img1.jpg  \n",
       "1  \"./cv/images/036736.jpg\"  vis/imgs/img2.jpg\\t  036736.jpg  img2.jpg  \n",
       "2  \"./cv/images/021069.jpg\"  vis/imgs/img3.jpg\\t  021069.jpg  img3.jpg  \n",
       "3  \"./cv/images/003021.jpg\"  vis/imgs/img4.jpg\\t  003021.jpg  img4.jpg  \n",
       "4  \"./cv/images/006736.jpg\"  vis/imgs/img5.jpg\\t  006736.jpg  img5.jpg  "
      ]
     },
     "execution_count": 4,
     "metadata": {},
     "output_type": "execute_result"
    }
   ],
   "source": [
    "data = pd.read_csv(data_path)\n",
    "data.head()"
   ]
  },
  {
   "cell_type": "markdown",
   "metadata": {},
   "source": [
    "# Changing the shape"
   ]
  },
  {
   "cell_type": "code",
   "execution_count": 5,
   "metadata": {},
   "outputs": [
    {
     "data": {
      "text/html": [
       "<div>\n",
       "<style>\n",
       "    .dataframe thead tr:only-child th {\n",
       "        text-align: right;\n",
       "    }\n",
       "\n",
       "    .dataframe thead th {\n",
       "        text-align: left;\n",
       "    }\n",
       "\n",
       "    .dataframe tbody tr th {\n",
       "        vertical-align: top;\n",
       "    }\n",
       "</style>\n",
       "<table border=\"1\" class=\"dataframe\">\n",
       "  <thead>\n",
       "    <tr style=\"text-align: right;\">\n",
       "      <th></th>\n",
       "      <th>caption</th>\n",
       "      <th>path1</th>\n",
       "      <th>path2</th>\n",
       "      <th>name1</th>\n",
       "      <th>name2</th>\n",
       "    </tr>\n",
       "  </thead>\n",
       "  <tbody>\n",
       "    <tr>\n",
       "      <th>0</th>\n",
       "      <td>a large clock tower towering over a city</td>\n",
       "      <td>\"./cv/images/035669.jpg\"</td>\n",
       "      <td>vis/imgs/img1.jpg\\t</td>\n",
       "      <td>035669.jpg</td>\n",
       "      <td>img1.jpg</td>\n",
       "    </tr>\n",
       "    <tr>\n",
       "      <th>1</th>\n",
       "      <td>a woman is holding a cell phone in her hand</td>\n",
       "      <td>\"./cv/images/036736.jpg\"</td>\n",
       "      <td>vis/imgs/img2.jpg\\t</td>\n",
       "      <td>036736.jpg</td>\n",
       "      <td>img2.jpg</td>\n",
       "    </tr>\n",
       "    <tr>\n",
       "      <th>2</th>\n",
       "      <td>a herd of animals grazing on a lush green hill...</td>\n",
       "      <td>\"./cv/images/021069.jpg\"</td>\n",
       "      <td>vis/imgs/img3.jpg\\t</td>\n",
       "      <td>021069.jpg</td>\n",
       "      <td>img3.jpg</td>\n",
       "    </tr>\n",
       "    <tr>\n",
       "      <th>3</th>\n",
       "      <td>a sign that says UNK UNK on the side of it</td>\n",
       "      <td>\"./cv/images/003021.jpg\"</td>\n",
       "      <td>vis/imgs/img4.jpg\\t</td>\n",
       "      <td>003021.jpg</td>\n",
       "      <td>img4.jpg</td>\n",
       "    </tr>\n",
       "    <tr>\n",
       "      <th>4</th>\n",
       "      <td>a couple of people that are in a field</td>\n",
       "      <td>\"./cv/images/006736.jpg\"</td>\n",
       "      <td>vis/imgs/img5.jpg\\t</td>\n",
       "      <td>006736.jpg</td>\n",
       "      <td>img5.jpg</td>\n",
       "    </tr>\n",
       "  </tbody>\n",
       "</table>\n",
       "</div>"
      ],
      "text/plain": [
       "                                             caption  \\\n",
       "0           a large clock tower towering over a city   \n",
       "1        a woman is holding a cell phone in her hand   \n",
       "2  a herd of animals grazing on a lush green hill...   \n",
       "3         a sign that says UNK UNK on the side of it   \n",
       "4             a couple of people that are in a field   \n",
       "\n",
       "                      path1                path2       name1     name2  \n",
       "0  \"./cv/images/035669.jpg\"  vis/imgs/img1.jpg\\t  035669.jpg  img1.jpg  \n",
       "1  \"./cv/images/036736.jpg\"  vis/imgs/img2.jpg\\t  036736.jpg  img2.jpg  \n",
       "2  \"./cv/images/021069.jpg\"  vis/imgs/img3.jpg\\t  021069.jpg  img3.jpg  \n",
       "3  \"./cv/images/003021.jpg\"  vis/imgs/img4.jpg\\t  003021.jpg  img4.jpg  \n",
       "4  \"./cv/images/006736.jpg\"  vis/imgs/img5.jpg\\t  006736.jpg  img5.jpg  "
      ]
     },
     "execution_count": 5,
     "metadata": {},
     "output_type": "execute_result"
    }
   ],
   "source": [
    "data = data[[\"caption\", \"path1\", \"path2\",\"name1\", \"name2\"]]\n",
    "data.head()"
   ]
  },
  {
   "cell_type": "code",
   "execution_count": 28,
   "metadata": {},
   "outputs": [],
   "source": [
    "documents = data.to_dict(orient='index')"
   ]
  },
  {
   "cell_type": "code",
   "execution_count": 48,
   "metadata": {},
   "outputs": [
    {
     "data": {
      "text/plain": [
       "{'caption': 'a person is sitting in front of a mirror',\n",
       " 'name1': '014001.jpg',\n",
       " 'name2': 'img13000.jpg',\n",
       " 'path1': '\"./cv/images/014001.jpg\"',\n",
       " 'path2': 'vis/imgs/img13000.jpg\\t'}"
      ]
     },
     "execution_count": 48,
     "metadata": {},
     "output_type": "execute_result"
    }
   ],
   "source": [
    "documents[12999]"
   ]
  },
  {
   "cell_type": "markdown",
   "metadata": {},
   "source": [
    "# Indexing"
   ]
  },
  {
   "cell_type": "code",
   "execution_count": 10,
   "metadata": {
    "collapsed": true
   },
   "outputs": [],
   "source": [
    "es = Elasticsearch()"
   ]
  },
  {
   "cell_type": "code",
   "execution_count": 96,
   "metadata": {},
   "outputs": [],
   "source": [
    "def create_index(index_name, data,type_name=\"integer\"):\n",
    "    # creates index from a python dict like {0:{key:val}, 1:...}\n",
    "    \n",
    "    INDEX_NAME = index_name\n",
    "    TYPE_NAME = type_name\n",
    "    \n",
    "    # filling bulk_data list with two dicts, one contains documents, the other\n",
    "    # has indexes of those documents\n",
    "    bulk_data = [] \n",
    "    for index, doc in documents.items():\n",
    "        data_dict = {}\n",
    "        data_dict = doc\n",
    "        op_dict = {\n",
    "            \"index\": {\n",
    "                \"_index\": INDEX_NAME, \n",
    "                \"_type\": TYPE_NAME, \n",
    "                \"_id\": int(str(index)),\n",
    "            }\n",
    "        }\n",
    "        bulk_data.append(op_dict)\n",
    "        bulk_data.append(data_dict)\n",
    "        \n",
    "    # checking if index already exists\n",
    "    if es.indices.exists(INDEX_NAME):\n",
    "        print(\"deleting '%s' index...\" % (INDEX_NAME))\n",
    "    res = es.indices.delete(index = INDEX_NAME)\n",
    "    print(\" response: '%s'\" % (res))\n",
    "    \n",
    "    # since we are running locally, use one shard and no replicas\n",
    "    request_body = {\n",
    "        \"settings\" : {\n",
    "            \"number_of_shards\": 1,\n",
    "            \"number_of_replicas\": 0\n",
    "        }\n",
    "    }\n",
    "    print(\"creating '%s' index...\" % (INDEX_NAME))\n",
    "    res = es.indices.create(index = INDEX_NAME, body = request_body)\n",
    "    print(\" response: '%s'\" % (res))\n",
    "    \n",
    "    # this is where indexing of our data is done\n",
    "    print(\"bulk indexing...\")\n",
    "    res = es.bulk(index = INDEX_NAME, body = bulk_data, refresh = True)\n",
    "#     print(res)\n",
    "    print(\"Indexed documents: \", len(res[\"items\"]))"
   ]
  },
  {
   "cell_type": "code",
   "execution_count": 97,
   "metadata": {},
   "outputs": [],
   "source": [
    "# search = es.search(index = INDEX_NAME, size=2, body={\"query\": {\n",
    "#         \"match\": {\n",
    "#             \"caption\": \"\"\n",
    "#         }\n",
    "#     }})\n",
    "# print(\" response: '%s'\" % (search))"
   ]
  },
  {
   "cell_type": "code",
   "execution_count": 98,
   "metadata": {},
   "outputs": [
    {
     "name": "stdout",
     "output_type": "stream",
     "text": [
      "deleting 'images' index...\n",
      " response: '{'acknowledged': True}'\n",
      "creating 'images' index...\n",
      " response: '{'acknowledged': True, 'shards_acknowledged': True, 'index': 'images'}'\n",
      "bulk indexing...\n",
      "Indexed documents:  13000\n"
     ]
    }
   ],
   "source": [
    "create_index(\"images\", documents)"
   ]
  },
  {
   "cell_type": "code",
   "execution_count": null,
   "metadata": {
    "collapsed": true
   },
   "outputs": [],
   "source": []
  }
 ],
 "metadata": {
  "kernelspec": {
   "display_name": "Python 3",
   "language": "python",
   "name": "python3"
  },
  "language_info": {
   "codemirror_mode": {
    "name": "ipython",
    "version": 3
   },
   "file_extension": ".py",
   "mimetype": "text/x-python",
   "name": "python",
   "nbconvert_exporter": "python",
   "pygments_lexer": "ipython3",
   "version": "3.6.3"
  }
 },
 "nbformat": 4,
 "nbformat_minor": 2
}
