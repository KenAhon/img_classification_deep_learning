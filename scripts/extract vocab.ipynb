{
 "cells": [
  {
   "cell_type": "code",
   "execution_count": 1,
   "metadata": {},
   "outputs": [],
   "source": [
    "import spacy\n",
    "import pandas as pd\n",
    "import gensim"
   ]
  },
  {
   "cell_type": "code",
   "execution_count": 2,
   "metadata": {},
   "outputs": [],
   "source": [
    "nlp = spacy.load('en')"
   ]
  },
  {
   "cell_type": "code",
   "execution_count": 25,
   "metadata": {},
   "outputs": [],
   "source": [
    "output = pd.read_pickle(\"../dataset/inception_output_layer\")"
   ]
  },
  {
   "cell_type": "code",
   "execution_count": 26,
   "metadata": {},
   "outputs": [
    {
     "data": {
      "text/html": [
       "<div>\n",
       "<style scoped>\n",
       "    .dataframe tbody tr th:only-of-type {\n",
       "        vertical-align: middle;\n",
       "    }\n",
       "\n",
       "    .dataframe tbody tr th {\n",
       "        vertical-align: top;\n",
       "    }\n",
       "\n",
       "    .dataframe thead th {\n",
       "        text-align: right;\n",
       "    }\n",
       "</style>\n",
       "<table border=\"1\" class=\"dataframe\">\n",
       "  <thead>\n",
       "    <tr style=\"text-align: right;\">\n",
       "      <th></th>\n",
       "      <th>img</th>\n",
       "      <th>output layer</th>\n",
       "      <th>scores</th>\n",
       "    </tr>\n",
       "  </thead>\n",
       "  <tbody>\n",
       "    <tr>\n",
       "      <th>0</th>\n",
       "      <td>029599.jpg</td>\n",
       "      <td>[8.56041e-06, 7.97617e-06, 1.79152e-05, 3.7247...</td>\n",
       "      <td>{'alp': 0.967034, 'valley, vale': 0.0136182, '...</td>\n",
       "    </tr>\n",
       "    <tr>\n",
       "      <th>1</th>\n",
       "      <td>013369.jpg</td>\n",
       "      <td>[2.58352e-05, 1.43098e-05, 3.03804e-05, 1.8103...</td>\n",
       "      <td>{'breakwater, groin, groyne, mole, bulwark, se...</td>\n",
       "    </tr>\n",
       "    <tr>\n",
       "      <th>2</th>\n",
       "      <td>023620.jpg</td>\n",
       "      <td>[2.48684e-05, 2.80843e-05, 1.79409e-05, 1.1612...</td>\n",
       "      <td>{'barn': 0.948197, 'boathouse': 0.010576, 'wor...</td>\n",
       "    </tr>\n",
       "    <tr>\n",
       "      <th>3</th>\n",
       "      <td>004139.jpg</td>\n",
       "      <td>[0.00025399, 0.000173421, 0.000117245, 0.00025...</td>\n",
       "      <td>{'pot, flowerpot': 0.346745, 'patio, terrace':...</td>\n",
       "    </tr>\n",
       "    <tr>\n",
       "      <th>4</th>\n",
       "      <td>036728.jpg</td>\n",
       "      <td>[0.000127009, 5.8184e-05, 0.000140877, 0.00025...</td>\n",
       "      <td>{'jean, blue jean, denim': 0.312845, 'cellular...</td>\n",
       "    </tr>\n",
       "  </tbody>\n",
       "</table>\n",
       "</div>"
      ],
      "text/plain": [
       "          img                                       output layer  \\\n",
       "0  029599.jpg  [8.56041e-06, 7.97617e-06, 1.79152e-05, 3.7247...   \n",
       "1  013369.jpg  [2.58352e-05, 1.43098e-05, 3.03804e-05, 1.8103...   \n",
       "2  023620.jpg  [2.48684e-05, 2.80843e-05, 1.79409e-05, 1.1612...   \n",
       "3  004139.jpg  [0.00025399, 0.000173421, 0.000117245, 0.00025...   \n",
       "4  036728.jpg  [0.000127009, 5.8184e-05, 0.000140877, 0.00025...   \n",
       "\n",
       "                                              scores  \n",
       "0  {'alp': 0.967034, 'valley, vale': 0.0136182, '...  \n",
       "1  {'breakwater, groin, groyne, mole, bulwark, se...  \n",
       "2  {'barn': 0.948197, 'boathouse': 0.010576, 'wor...  \n",
       "3  {'pot, flowerpot': 0.346745, 'patio, terrace':...  \n",
       "4  {'jean, blue jean, denim': 0.312845, 'cellular...  "
      ]
     },
     "execution_count": 26,
     "metadata": {},
     "output_type": "execute_result"
    }
   ],
   "source": [
    "output.head(5)"
   ]
  },
  {
   "cell_type": "code",
   "execution_count": 27,
   "metadata": {},
   "outputs": [],
   "source": [
    "scores = output.scores"
   ]
  },
  {
   "cell_type": "code",
   "execution_count": 28,
   "metadata": {},
   "outputs": [
    {
     "data": {
      "text/plain": [
       "{'alp': 0.96703446,\n",
       " 'cliff, drop, drop-off': 0.00088864344,\n",
       " 'marmot': 0.00077028183,\n",
       " 'mountain tent': 0.0034724902,\n",
       " 'valley, vale': 0.013618188}"
      ]
     },
     "execution_count": 28,
     "metadata": {},
     "output_type": "execute_result"
    }
   ],
   "source": [
    "scores.iloc[0]"
   ]
  },
  {
   "cell_type": "code",
   "execution_count": 11,
   "metadata": {},
   "outputs": [],
   "source": [
    "def convert_scores(score_key):\n",
    "    image_scores = {}\n",
    "    for text, score in score_key.items():\n",
    "        doc = nlp(text)\n",
    "        for token in doc:\n",
    "            if(token.pos_ == \"NOUN\"):\n",
    "                image_scores[token.lemma_] = score \n",
    "    return image_scores"
   ]
  },
  {
   "cell_type": "code",
   "execution_count": 34,
   "metadata": {},
   "outputs": [],
   "source": [
    "output.drop(columns=[\"scores\"], inplace=True)"
   ]
  },
  {
   "cell_type": "code",
   "execution_count": 42,
   "metadata": {},
   "outputs": [],
   "source": [
    "cleaned = pd.Series(scores.apply(convert_scores))\n"
   ]
  },
  {
   "cell_type": "code",
   "execution_count": 37,
   "metadata": {},
   "outputs": [
    {
     "data": {
      "text/plain": [
       "0    {'alp': 0.967034, 'valley': 0.0136182, 'mounta...\n",
       "1    {'groin': 0.952986, 'groyne': 0.952986, 'mole'...\n",
       "2    {'barn': 0.948197, 'boathouse': 0.010576, 'wor...\n",
       "3    {'pot': 0.346745, 'flowerpot': 0.346745, 'terr...\n",
       "4    {'jean': 0.312845, 'denim': 0.312845, 'telepho...\n",
       "Name: scores, dtype: object"
      ]
     },
     "execution_count": 37,
     "metadata": {},
     "output_type": "execute_result"
    }
   ],
   "source": [
    "cleaned.head()"
   ]
  },
  {
   "cell_type": "code",
   "execution_count": 38,
   "metadata": {},
   "outputs": [
    {
     "data": {
      "text/html": [
       "<div>\n",
       "<style scoped>\n",
       "    .dataframe tbody tr th:only-of-type {\n",
       "        vertical-align: middle;\n",
       "    }\n",
       "\n",
       "    .dataframe tbody tr th {\n",
       "        vertical-align: top;\n",
       "    }\n",
       "\n",
       "    .dataframe thead th {\n",
       "        text-align: right;\n",
       "    }\n",
       "</style>\n",
       "<table border=\"1\" class=\"dataframe\">\n",
       "  <thead>\n",
       "    <tr style=\"text-align: right;\">\n",
       "      <th></th>\n",
       "      <th>img</th>\n",
       "      <th>output layer</th>\n",
       "      <th>scores</th>\n",
       "    </tr>\n",
       "  </thead>\n",
       "  <tbody>\n",
       "    <tr>\n",
       "      <th>0</th>\n",
       "      <td>029599.jpg</td>\n",
       "      <td>[8.56041e-06, 7.97617e-06, 1.79152e-05, 3.7247...</td>\n",
       "      <td>{'alp': 0.967034, 'valley': 0.0136182, 'mounta...</td>\n",
       "    </tr>\n",
       "    <tr>\n",
       "      <th>1</th>\n",
       "      <td>013369.jpg</td>\n",
       "      <td>[2.58352e-05, 1.43098e-05, 3.03804e-05, 1.8103...</td>\n",
       "      <td>{'groin': 0.952986, 'groyne': 0.952986, 'mole'...</td>\n",
       "    </tr>\n",
       "    <tr>\n",
       "      <th>2</th>\n",
       "      <td>023620.jpg</td>\n",
       "      <td>[2.48684e-05, 2.80843e-05, 1.79409e-05, 1.1612...</td>\n",
       "      <td>{'barn': 0.948197, 'boathouse': 0.010576, 'wor...</td>\n",
       "    </tr>\n",
       "    <tr>\n",
       "      <th>3</th>\n",
       "      <td>004139.jpg</td>\n",
       "      <td>[0.00025399, 0.000173421, 0.000117245, 0.00025...</td>\n",
       "      <td>{'pot': 0.346745, 'flowerpot': 0.346745, 'terr...</td>\n",
       "    </tr>\n",
       "    <tr>\n",
       "      <th>4</th>\n",
       "      <td>036728.jpg</td>\n",
       "      <td>[0.000127009, 5.8184e-05, 0.000140877, 0.00025...</td>\n",
       "      <td>{'jean': 0.312845, 'denim': 0.312845, 'telepho...</td>\n",
       "    </tr>\n",
       "  </tbody>\n",
       "</table>\n",
       "</div>"
      ],
      "text/plain": [
       "          img                                       output layer  \\\n",
       "0  029599.jpg  [8.56041e-06, 7.97617e-06, 1.79152e-05, 3.7247...   \n",
       "1  013369.jpg  [2.58352e-05, 1.43098e-05, 3.03804e-05, 1.8103...   \n",
       "2  023620.jpg  [2.48684e-05, 2.80843e-05, 1.79409e-05, 1.1612...   \n",
       "3  004139.jpg  [0.00025399, 0.000173421, 0.000117245, 0.00025...   \n",
       "4  036728.jpg  [0.000127009, 5.8184e-05, 0.000140877, 0.00025...   \n",
       "\n",
       "                                              scores  \n",
       "0  {'alp': 0.967034, 'valley': 0.0136182, 'mounta...  \n",
       "1  {'groin': 0.952986, 'groyne': 0.952986, 'mole'...  \n",
       "2  {'barn': 0.948197, 'boathouse': 0.010576, 'wor...  \n",
       "3  {'pot': 0.346745, 'flowerpot': 0.346745, 'terr...  \n",
       "4  {'jean': 0.312845, 'denim': 0.312845, 'telepho...  "
      ]
     },
     "execution_count": 38,
     "metadata": {},
     "output_type": "execute_result"
    }
   ],
   "source": [
    "output[\"scores\"] = cleaned\n",
    "output.head()"
   ]
  },
  {
   "cell_type": "code",
   "execution_count": 39,
   "metadata": {},
   "outputs": [],
   "source": [
    "with open(\"../dataset/inception_output_layer_f2\", 'wb') as f:\n",
    "        pkl.dump(output, f, protocol=2)"
   ]
  },
  {
   "cell_type": "code",
   "execution_count": 40,
   "metadata": {},
   "outputs": [],
   "source": [
    "processed_scores = pd.read_pickle(\"../dataset/inception_output_layer_f2\");"
   ]
  },
  {
   "cell_type": "code",
   "execution_count": 41,
   "metadata": {},
   "outputs": [
    {
     "data": {
      "text/html": [
       "<div>\n",
       "<style scoped>\n",
       "    .dataframe tbody tr th:only-of-type {\n",
       "        vertical-align: middle;\n",
       "    }\n",
       "\n",
       "    .dataframe tbody tr th {\n",
       "        vertical-align: top;\n",
       "    }\n",
       "\n",
       "    .dataframe thead th {\n",
       "        text-align: right;\n",
       "    }\n",
       "</style>\n",
       "<table border=\"1\" class=\"dataframe\">\n",
       "  <thead>\n",
       "    <tr style=\"text-align: right;\">\n",
       "      <th></th>\n",
       "      <th>img</th>\n",
       "      <th>output layer</th>\n",
       "      <th>scores</th>\n",
       "    </tr>\n",
       "  </thead>\n",
       "  <tbody>\n",
       "    <tr>\n",
       "      <th>0</th>\n",
       "      <td>029599.jpg</td>\n",
       "      <td>[8.56041e-06, 7.97617e-06, 1.79152e-05, 3.7247...</td>\n",
       "      <td>{'alp': 0.967034, 'valley': 0.0136182, 'mounta...</td>\n",
       "    </tr>\n",
       "    <tr>\n",
       "      <th>1</th>\n",
       "      <td>013369.jpg</td>\n",
       "      <td>[2.58352e-05, 1.43098e-05, 3.03804e-05, 1.8103...</td>\n",
       "      <td>{'groin': 0.952986, 'groyne': 0.952986, 'mole'...</td>\n",
       "    </tr>\n",
       "    <tr>\n",
       "      <th>2</th>\n",
       "      <td>023620.jpg</td>\n",
       "      <td>[2.48684e-05, 2.80843e-05, 1.79409e-05, 1.1612...</td>\n",
       "      <td>{'barn': 0.948197, 'boathouse': 0.010576, 'wor...</td>\n",
       "    </tr>\n",
       "    <tr>\n",
       "      <th>3</th>\n",
       "      <td>004139.jpg</td>\n",
       "      <td>[0.00025399, 0.000173421, 0.000117245, 0.00025...</td>\n",
       "      <td>{'pot': 0.346745, 'flowerpot': 0.346745, 'terr...</td>\n",
       "    </tr>\n",
       "    <tr>\n",
       "      <th>4</th>\n",
       "      <td>036728.jpg</td>\n",
       "      <td>[0.000127009, 5.8184e-05, 0.000140877, 0.00025...</td>\n",
       "      <td>{'jean': 0.312845, 'denim': 0.312845, 'telepho...</td>\n",
       "    </tr>\n",
       "  </tbody>\n",
       "</table>\n",
       "</div>"
      ],
      "text/plain": [
       "          img                                       output layer  \\\n",
       "0  029599.jpg  [8.56041e-06, 7.97617e-06, 1.79152e-05, 3.7247...   \n",
       "1  013369.jpg  [2.58352e-05, 1.43098e-05, 3.03804e-05, 1.8103...   \n",
       "2  023620.jpg  [2.48684e-05, 2.80843e-05, 1.79409e-05, 1.1612...   \n",
       "3  004139.jpg  [0.00025399, 0.000173421, 0.000117245, 0.00025...   \n",
       "4  036728.jpg  [0.000127009, 5.8184e-05, 0.000140877, 0.00025...   \n",
       "\n",
       "                                              scores  \n",
       "0  {'alp': 0.967034, 'valley': 0.0136182, 'mounta...  \n",
       "1  {'groin': 0.952986, 'groyne': 0.952986, 'mole'...  \n",
       "2  {'barn': 0.948197, 'boathouse': 0.010576, 'wor...  \n",
       "3  {'pot': 0.346745, 'flowerpot': 0.346745, 'terr...  \n",
       "4  {'jean': 0.312845, 'denim': 0.312845, 'telepho...  "
      ]
     },
     "execution_count": 41,
     "metadata": {},
     "output_type": "execute_result"
    }
   ],
   "source": [
    "processed_scores.head()"
   ]
  },
  {
   "cell_type": "code",
   "execution_count": 44,
   "metadata": {},
   "outputs": [],
   "source": [
    "vocab = set()\n",
    "processed_scores.scores.apply(lambda d: vocab.update(list(d.keys())))\n",
    "pd.DataFrame({\"vocab\":list(vocab)}).to_csv(\"../dataset/vocab.csv\")"
   ]
  },
  {
   "cell_type": "code",
   "execution_count": 52,
   "metadata": {},
   "outputs": [],
   "source": [
    "new_model = gensim.models.KeyedVectors.load_word2vec_format(\"GoogleNews-vectors-negative300.bin.gz\", binary=True)"
   ]
  },
  {
   "cell_type": "code",
   "execution_count": 50,
   "metadata": {},
   "outputs": [],
   "source": [
    "v_token = []\n",
    "for t in list(vocab):\n",
    "    if t  in new_model.vocab:\n",
    "        v_token.append(t)\n",
    "pd.DataFrame({\"word2vec\":v_token}).to_csv(\"../dataset/word2vecvocab.csv\")"
   ]
  },
  {
   "cell_type": "code",
   "execution_count": 53,
   "metadata": {},
   "outputs": [
    {
     "name": "stderr",
     "output_type": "stream",
     "text": [
      "/Users/aadilrasheed/anaconda3/lib/python3.6/site-packages/gensim/models/keyedvectors.py:759: RuntimeWarning: divide by zero encountered in true_divide\n",
      "  similarities = dot_products / (norm * all_norms)\n"
     ]
    },
    {
     "data": {
      "text/plain": [
       "array([-inf, -inf, -inf, ..., -inf, -inf, -inf], dtype=float32)"
      ]
     },
     "execution_count": 53,
     "metadata": {},
     "output_type": "execute_result"
    }
   ],
   "source": [
    "new_model.distances('cat',list(v_token))"
   ]
  },
  {
   "cell_type": "code",
   "execution_count": 55,
   "metadata": {},
   "outputs": [
    {
     "data": {
      "text/plain": [
       "'dog'"
      ]
     },
     "execution_count": 55,
     "metadata": {},
     "output_type": "execute_result"
    }
   ],
   "source": [
    "new_model.most_similar_to_given('dog',list(v_token))"
   ]
  },
  {
   "cell_type": "code",
   "execution_count": 57,
   "metadata": {},
   "outputs": [
    {
     "data": {
      "text/plain": [
       "[('dogs', 0.868048906326294), ('puppy', 0.8106427788734436)]"
      ]
     },
     "execution_count": 57,
     "metadata": {},
     "output_type": "execute_result"
    }
   ],
   "source": [
    "new_model.most_similar('dog',topn=2)"
   ]
  },
  {
   "cell_type": "code",
   "execution_count": 40,
   "metadata": {},
   "outputs": [],
   "source": [
    "a=pd.read_csv(\"../dataset/word2vecvocab.csv\")"
   ]
  },
  {
   "cell_type": "code",
   "execution_count": 41,
   "metadata": {},
   "outputs": [],
   "source": [
    "b = pd.DataFrame( index= a[\"word2vec\"], columns = [\"image\"])"
   ]
  },
  {
   "cell_type": "code",
   "execution_count": 43,
   "metadata": {},
   "outputs": [
    {
     "data": {
      "text/html": [
       "<div>\n",
       "<style scoped>\n",
       "    .dataframe tbody tr th:only-of-type {\n",
       "        vertical-align: middle;\n",
       "    }\n",
       "\n",
       "    .dataframe tbody tr th {\n",
       "        vertical-align: top;\n",
       "    }\n",
       "\n",
       "    .dataframe thead th {\n",
       "        text-align: right;\n",
       "    }\n",
       "</style>\n",
       "<table border=\"1\" class=\"dataframe\">\n",
       "  <thead>\n",
       "    <tr style=\"text-align: right;\">\n",
       "      <th></th>\n",
       "      <th>image</th>\n",
       "    </tr>\n",
       "    <tr>\n",
       "      <th>word2vec</th>\n",
       "      <th></th>\n",
       "    </tr>\n",
       "  </thead>\n",
       "  <tbody>\n",
       "    <tr>\n",
       "      <th>dock</th>\n",
       "      <td>NaN</td>\n",
       "    </tr>\n",
       "    <tr>\n",
       "      <th>wagon</th>\n",
       "      <td>NaN</td>\n",
       "    </tr>\n",
       "    <tr>\n",
       "      <th>bullet</th>\n",
       "      <td>NaN</td>\n",
       "    </tr>\n",
       "    <tr>\n",
       "      <th>carton</th>\n",
       "      <td>NaN</td>\n",
       "    </tr>\n",
       "    <tr>\n",
       "      <th>balance</th>\n",
       "      <td>NaN</td>\n",
       "    </tr>\n",
       "  </tbody>\n",
       "</table>\n",
       "</div>"
      ],
      "text/plain": [
       "         image\n",
       "word2vec      \n",
       "dock       NaN\n",
       "wagon      NaN\n",
       "bullet     NaN\n",
       "carton     NaN\n",
       "balance    NaN"
      ]
     },
     "execution_count": 43,
     "metadata": {},
     "output_type": "execute_result"
    }
   ],
   "source": [
    "b.head()"
   ]
  },
  {
   "cell_type": "code",
   "execution_count": 44,
   "metadata": {},
   "outputs": [
    {
     "data": {
      "text/plain": [
       "nan"
      ]
     },
     "execution_count": 44,
     "metadata": {},
     "output_type": "execute_result"
    }
   ],
   "source": [
    "b.loc[\"dock\"][\"image\"]"
   ]
  },
  {
   "cell_type": "code",
   "execution_count": null,
   "metadata": {},
   "outputs": [],
   "source": []
  }
 ],
 "metadata": {
  "kernelspec": {
   "display_name": "Python 3",
   "language": "python",
   "name": "python3"
  },
  "language_info": {
   "codemirror_mode": {
    "name": "ipython",
    "version": 3
   },
   "file_extension": ".py",
   "mimetype": "text/x-python",
   "name": "python",
   "nbconvert_exporter": "python",
   "pygments_lexer": "ipython3",
   "version": "3.6.3"
  }
 },
 "nbformat": 4,
 "nbformat_minor": 2
}
