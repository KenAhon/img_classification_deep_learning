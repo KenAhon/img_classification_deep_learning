{
 "cells": [
  {
   "cell_type": "code",
   "execution_count": 1,
   "metadata": {
    "collapsed": true
   },
   "outputs": [],
   "source": [
    "import pandas as pd"
   ]
  },
  {
   "cell_type": "code",
   "execution_count": 2,
   "metadata": {
    "collapsed": true
   },
   "outputs": [],
   "source": [
    "path = \"output.txt\"\n",
    "path_save = \"extracted.csv\""
   ]
  },
  {
   "cell_type": "markdown",
   "metadata": {},
   "source": [
    "# Read TXT File"
   ]
  },
  {
   "cell_type": "code",
   "execution_count": 3,
   "metadata": {
    "collapsed": false
   },
   "outputs": [],
   "source": [
    "df = pd.read_csv(path)"
   ]
  },
  {
   "cell_type": "code",
   "execution_count": 4,
   "metadata": {
    "collapsed": false
   },
   "outputs": [
    {
     "data": {
      "text/html": [
       "<div>\n",
       "<style>\n",
       "    .dataframe thead tr:only-child th {\n",
       "        text-align: right;\n",
       "    }\n",
       "\n",
       "    .dataframe thead th {\n",
       "        text-align: left;\n",
       "    }\n",
       "\n",
       "    .dataframe tbody tr th {\n",
       "        vertical-align: top;\n",
       "    }\n",
       "</style>\n",
       "<table border=\"1\" class=\"dataframe\">\n",
       "  <thead>\n",
       "    <tr style=\"text-align: right;\">\n",
       "      <th></th>\n",
       "      <th>nohup: ignoring input</th>\n",
       "    </tr>\n",
       "  </thead>\n",
       "  <tbody>\n",
       "    <tr>\n",
       "      <th>0</th>\n",
       "      <td>tput: No value for $TERM and no -T specified</td>\n",
       "    </tr>\n",
       "    <tr>\n",
       "      <th>1</th>\n",
       "      <td>DataLoaderRaw loading images from folder: \\t./...</td>\n",
       "    </tr>\n",
       "    <tr>\n",
       "      <th>2</th>\n",
       "      <td>listing all images in directory ./cv/images\\t</td>\n",
       "    </tr>\n",
       "    <tr>\n",
       "      <th>3</th>\n",
       "      <td>DataLoaderRaw found 37547 images\\t</td>\n",
       "    </tr>\n",
       "    <tr>\n",
       "      <th>4</th>\n",
       "      <td>constructing clones inside the LanguageModel\\t</td>\n",
       "    </tr>\n",
       "    <tr>\n",
       "      <th>5</th>\n",
       "      <td>cp \"./cv/images/035669.jpg\" vis/imgs/img1.jpg\\t</td>\n",
       "    </tr>\n",
       "    <tr>\n",
       "      <th>6</th>\n",
       "      <td>image 1: a large clock tower towering over a c...</td>\n",
       "    </tr>\n",
       "    <tr>\n",
       "      <th>7</th>\n",
       "      <td>evaluating performance... 1/13000 (0.000000)\\t</td>\n",
       "    </tr>\n",
       "    <tr>\n",
       "      <th>8</th>\n",
       "      <td>cp \"./cv/images/036736.jpg\" vis/imgs/img2.jpg\\t</td>\n",
       "    </tr>\n",
       "    <tr>\n",
       "      <th>9</th>\n",
       "      <td>image 2: a woman is holding a cell phone in he...</td>\n",
       "    </tr>\n",
       "  </tbody>\n",
       "</table>\n",
       "</div>"
      ],
      "text/plain": [
       "                               nohup: ignoring input\n",
       "0       tput: No value for $TERM and no -T specified\n",
       "1  DataLoaderRaw loading images from folder: \\t./...\n",
       "2      listing all images in directory ./cv/images\\t\n",
       "3                 DataLoaderRaw found 37547 images\\t\n",
       "4     constructing clones inside the LanguageModel\\t\n",
       "5    cp \"./cv/images/035669.jpg\" vis/imgs/img1.jpg\\t\n",
       "6  image 1: a large clock tower towering over a c...\n",
       "7     evaluating performance... 1/13000 (0.000000)\\t\n",
       "8    cp \"./cv/images/036736.jpg\" vis/imgs/img2.jpg\\t\n",
       "9  image 2: a woman is holding a cell phone in he..."
      ]
     },
     "execution_count": 4,
     "metadata": {},
     "output_type": "execute_result"
    }
   ],
   "source": [
    "df.head(10)"
   ]
  },
  {
   "cell_type": "code",
   "execution_count": 5,
   "metadata": {
    "collapsed": false
   },
   "outputs": [
    {
     "data": {
      "text/html": [
       "<div>\n",
       "<style>\n",
       "    .dataframe thead tr:only-child th {\n",
       "        text-align: right;\n",
       "    }\n",
       "\n",
       "    .dataframe thead th {\n",
       "        text-align: left;\n",
       "    }\n",
       "\n",
       "    .dataframe tbody tr th {\n",
       "        vertical-align: top;\n",
       "    }\n",
       "</style>\n",
       "<table border=\"1\" class=\"dataframe\">\n",
       "  <thead>\n",
       "    <tr style=\"text-align: right;\">\n",
       "      <th></th>\n",
       "      <th>nohup: ignoring input</th>\n",
       "    </tr>\n",
       "  </thead>\n",
       "  <tbody>\n",
       "    <tr>\n",
       "      <th>38996</th>\n",
       "      <td>cp \"./cv/images/014450.jpg\" vis/imgs/img12998....</td>\n",
       "    </tr>\n",
       "    <tr>\n",
       "      <th>38997</th>\n",
       "      <td>image 12998: a large clock tower towering over...</td>\n",
       "    </tr>\n",
       "    <tr>\n",
       "      <th>38998</th>\n",
       "      <td>evaluating performance... 12998/13000 (0.00000...</td>\n",
       "    </tr>\n",
       "    <tr>\n",
       "      <th>38999</th>\n",
       "      <td>cp \"./cv/images/014080.jpg\" vis/imgs/img12999....</td>\n",
       "    </tr>\n",
       "    <tr>\n",
       "      <th>39000</th>\n",
       "      <td>image 12999: a person holding a flower in a va...</td>\n",
       "    </tr>\n",
       "    <tr>\n",
       "      <th>39001</th>\n",
       "      <td>evaluating performance... 12999/13000 (0.00000...</td>\n",
       "    </tr>\n",
       "    <tr>\n",
       "      <th>39002</th>\n",
       "      <td>cp \"./cv/images/014001.jpg\" vis/imgs/img13000....</td>\n",
       "    </tr>\n",
       "    <tr>\n",
       "      <th>39003</th>\n",
       "      <td>image 13000: a person is sitting in front of a...</td>\n",
       "    </tr>\n",
       "    <tr>\n",
       "      <th>39004</th>\n",
       "      <td>evaluating performance... 13000/13000 (0.00000...</td>\n",
       "    </tr>\n",
       "    <tr>\n",
       "      <th>39005</th>\n",
       "      <td>loss: \\tnan\\t</td>\n",
       "    </tr>\n",
       "  </tbody>\n",
       "</table>\n",
       "</div>"
      ],
      "text/plain": [
       "                                   nohup: ignoring input\n",
       "38996  cp \"./cv/images/014450.jpg\" vis/imgs/img12998....\n",
       "38997  image 12998: a large clock tower towering over...\n",
       "38998  evaluating performance... 12998/13000 (0.00000...\n",
       "38999  cp \"./cv/images/014080.jpg\" vis/imgs/img12999....\n",
       "39000  image 12999: a person holding a flower in a va...\n",
       "39001  evaluating performance... 12999/13000 (0.00000...\n",
       "39002  cp \"./cv/images/014001.jpg\" vis/imgs/img13000....\n",
       "39003  image 13000: a person is sitting in front of a...\n",
       "39004  evaluating performance... 13000/13000 (0.00000...\n",
       "39005                                      loss: \\tnan\\t"
      ]
     },
     "execution_count": 5,
     "metadata": {},
     "output_type": "execute_result"
    }
   ],
   "source": [
    "df.tail(10)"
   ]
  },
  {
   "cell_type": "markdown",
   "metadata": {},
   "source": [
    "# Remove redundant starting lines"
   ]
  },
  {
   "cell_type": "code",
   "execution_count": 6,
   "metadata": {
    "collapsed": true
   },
   "outputs": [],
   "source": [
    "def trim_lines(df, x=5):\n",
    "    \"\"\" Removes first {x} rows from dataframe and the last row.\n",
    "    \"\"\"\n",
    "    df = df.iloc[x:-1]\n",
    "    return df"
   ]
  },
  {
   "cell_type": "code",
   "execution_count": 7,
   "metadata": {
    "collapsed": false
   },
   "outputs": [],
   "source": [
    "df = trim_lines(df)"
   ]
  },
  {
   "cell_type": "code",
   "execution_count": 8,
   "metadata": {
    "collapsed": false
   },
   "outputs": [
    {
     "data": {
      "text/html": [
       "<div>\n",
       "<style>\n",
       "    .dataframe thead tr:only-child th {\n",
       "        text-align: right;\n",
       "    }\n",
       "\n",
       "    .dataframe thead th {\n",
       "        text-align: left;\n",
       "    }\n",
       "\n",
       "    .dataframe tbody tr th {\n",
       "        vertical-align: top;\n",
       "    }\n",
       "</style>\n",
       "<table border=\"1\" class=\"dataframe\">\n",
       "  <thead>\n",
       "    <tr style=\"text-align: right;\">\n",
       "      <th></th>\n",
       "      <th>nohup: ignoring input</th>\n",
       "    </tr>\n",
       "  </thead>\n",
       "  <tbody>\n",
       "    <tr>\n",
       "      <th>5</th>\n",
       "      <td>cp \"./cv/images/035669.jpg\" vis/imgs/img1.jpg\\t</td>\n",
       "    </tr>\n",
       "    <tr>\n",
       "      <th>6</th>\n",
       "      <td>image 1: a large clock tower towering over a c...</td>\n",
       "    </tr>\n",
       "    <tr>\n",
       "      <th>7</th>\n",
       "      <td>evaluating performance... 1/13000 (0.000000)\\t</td>\n",
       "    </tr>\n",
       "    <tr>\n",
       "      <th>8</th>\n",
       "      <td>cp \"./cv/images/036736.jpg\" vis/imgs/img2.jpg\\t</td>\n",
       "    </tr>\n",
       "    <tr>\n",
       "      <th>9</th>\n",
       "      <td>image 2: a woman is holding a cell phone in he...</td>\n",
       "    </tr>\n",
       "  </tbody>\n",
       "</table>\n",
       "</div>"
      ],
      "text/plain": [
       "                               nohup: ignoring input\n",
       "5    cp \"./cv/images/035669.jpg\" vis/imgs/img1.jpg\\t\n",
       "6  image 1: a large clock tower towering over a c...\n",
       "7     evaluating performance... 1/13000 (0.000000)\\t\n",
       "8    cp \"./cv/images/036736.jpg\" vis/imgs/img2.jpg\\t\n",
       "9  image 2: a woman is holding a cell phone in he..."
      ]
     },
     "execution_count": 8,
     "metadata": {},
     "output_type": "execute_result"
    }
   ],
   "source": [
    "df.head(5)"
   ]
  },
  {
   "cell_type": "code",
   "execution_count": 9,
   "metadata": {
    "collapsed": false
   },
   "outputs": [
    {
     "data": {
      "text/html": [
       "<div>\n",
       "<style>\n",
       "    .dataframe thead tr:only-child th {\n",
       "        text-align: right;\n",
       "    }\n",
       "\n",
       "    .dataframe thead th {\n",
       "        text-align: left;\n",
       "    }\n",
       "\n",
       "    .dataframe tbody tr th {\n",
       "        vertical-align: top;\n",
       "    }\n",
       "</style>\n",
       "<table border=\"1\" class=\"dataframe\">\n",
       "  <thead>\n",
       "    <tr style=\"text-align: right;\">\n",
       "      <th></th>\n",
       "      <th>nohup: ignoring input</th>\n",
       "    </tr>\n",
       "  </thead>\n",
       "  <tbody>\n",
       "    <tr>\n",
       "      <th>39000</th>\n",
       "      <td>image 12999: a person holding a flower in a va...</td>\n",
       "    </tr>\n",
       "    <tr>\n",
       "      <th>39001</th>\n",
       "      <td>evaluating performance... 12999/13000 (0.00000...</td>\n",
       "    </tr>\n",
       "    <tr>\n",
       "      <th>39002</th>\n",
       "      <td>cp \"./cv/images/014001.jpg\" vis/imgs/img13000....</td>\n",
       "    </tr>\n",
       "    <tr>\n",
       "      <th>39003</th>\n",
       "      <td>image 13000: a person is sitting in front of a...</td>\n",
       "    </tr>\n",
       "    <tr>\n",
       "      <th>39004</th>\n",
       "      <td>evaluating performance... 13000/13000 (0.00000...</td>\n",
       "    </tr>\n",
       "  </tbody>\n",
       "</table>\n",
       "</div>"
      ],
      "text/plain": [
       "                                   nohup: ignoring input\n",
       "39000  image 12999: a person holding a flower in a va...\n",
       "39001  evaluating performance... 12999/13000 (0.00000...\n",
       "39002  cp \"./cv/images/014001.jpg\" vis/imgs/img13000....\n",
       "39003  image 13000: a person is sitting in front of a...\n",
       "39004  evaluating performance... 13000/13000 (0.00000..."
      ]
     },
     "execution_count": 9,
     "metadata": {},
     "output_type": "execute_result"
    }
   ],
   "source": [
    "df.tail(5)"
   ]
  },
  {
   "cell_type": "markdown",
   "metadata": {},
   "source": [
    "### Adding column name"
   ]
  },
  {
   "cell_type": "code",
   "execution_count": 10,
   "metadata": {
    "collapsed": false
   },
   "outputs": [],
   "source": [
    "df.columns = [\"original\"]"
   ]
  },
  {
   "cell_type": "markdown",
   "metadata": {},
   "source": [
    "# Removing evaluation"
   ]
  },
  {
   "cell_type": "code",
   "execution_count": 11,
   "metadata": {
    "collapsed": true
   },
   "outputs": [],
   "source": [
    "def label_evaluation(x):\n",
    "    \"\"\" Needed for apply function\n",
    "    \"\"\"\n",
    "    if \"evaluating performance... \" in x:\n",
    "        return \"yes\"\n",
    "    else:\n",
    "        return \"no\""
   ]
  },
  {
   "cell_type": "code",
   "execution_count": 12,
   "metadata": {
    "collapsed": true
   },
   "outputs": [],
   "source": [
    "def filter_evaluation(df):\n",
    "    \"\"\" Filters evaluation lines\n",
    "    \"\"\"\n",
    "    # label\n",
    "    df[\"eval\"] = df.original.apply(lambda x: label_evaluation(x))\n",
    "    # filter\n",
    "    df = df[df[\"eval\"] == \"no\"]\n",
    "    df = df.drop([\"eval\"], axis=1)\n",
    "    return df"
   ]
  },
  {
   "cell_type": "code",
   "execution_count": 13,
   "metadata": {
    "collapsed": true
   },
   "outputs": [],
   "source": [
    "df = filter_evaluation(df)"
   ]
  },
  {
   "cell_type": "code",
   "execution_count": 14,
   "metadata": {
    "collapsed": false
   },
   "outputs": [
    {
     "data": {
      "text/html": [
       "<div>\n",
       "<style>\n",
       "    .dataframe thead tr:only-child th {\n",
       "        text-align: right;\n",
       "    }\n",
       "\n",
       "    .dataframe thead th {\n",
       "        text-align: left;\n",
       "    }\n",
       "\n",
       "    .dataframe tbody tr th {\n",
       "        vertical-align: top;\n",
       "    }\n",
       "</style>\n",
       "<table border=\"1\" class=\"dataframe\">\n",
       "  <thead>\n",
       "    <tr style=\"text-align: right;\">\n",
       "      <th></th>\n",
       "      <th>original</th>\n",
       "    </tr>\n",
       "  </thead>\n",
       "  <tbody>\n",
       "    <tr>\n",
       "      <th>5</th>\n",
       "      <td>cp \"./cv/images/035669.jpg\" vis/imgs/img1.jpg\\t</td>\n",
       "    </tr>\n",
       "    <tr>\n",
       "      <th>6</th>\n",
       "      <td>image 1: a large clock tower towering over a c...</td>\n",
       "    </tr>\n",
       "    <tr>\n",
       "      <th>8</th>\n",
       "      <td>cp \"./cv/images/036736.jpg\" vis/imgs/img2.jpg\\t</td>\n",
       "    </tr>\n",
       "    <tr>\n",
       "      <th>9</th>\n",
       "      <td>image 2: a woman is holding a cell phone in he...</td>\n",
       "    </tr>\n",
       "    <tr>\n",
       "      <th>11</th>\n",
       "      <td>cp \"./cv/images/021069.jpg\" vis/imgs/img3.jpg\\t</td>\n",
       "    </tr>\n",
       "  </tbody>\n",
       "</table>\n",
       "</div>"
      ],
      "text/plain": [
       "                                             original\n",
       "5     cp \"./cv/images/035669.jpg\" vis/imgs/img1.jpg\\t\n",
       "6   image 1: a large clock tower towering over a c...\n",
       "8     cp \"./cv/images/036736.jpg\" vis/imgs/img2.jpg\\t\n",
       "9   image 2: a woman is holding a cell phone in he...\n",
       "11    cp \"./cv/images/021069.jpg\" vis/imgs/img3.jpg\\t"
      ]
     },
     "execution_count": 14,
     "metadata": {},
     "output_type": "execute_result"
    }
   ],
   "source": [
    "df.head()"
   ]
  },
  {
   "cell_type": "markdown",
   "metadata": {},
   "source": [
    "# Extracting patahs, img names and caption"
   ]
  },
  {
   "cell_type": "code",
   "execution_count": 15,
   "metadata": {
    "collapsed": true
   },
   "outputs": [],
   "source": [
    "def extract_data(df):\n",
    "    \"\"\" Extracts two columns for paths where images are located, image names, and caption for each image\n",
    "    \"\"\"\n",
    "    paths = list(df.iloc[::2, :].values)\n",
    "    paths = [path[0] for path in paths]\n",
    "    images = list(df.iloc[1:].iloc[::2, :].values)\n",
    "    images = [img[0] for img in images]\n",
    "    \n",
    "    df = pd.DataFrame({\n",
    "    \"paths\": paths,\n",
    "    \"images\": images\n",
    "    })\n",
    "    \n",
    "    df[\"caption\"] = df.images.apply(lambda x: x.split(\": \")[1].replace(\"\\t\",\"\"))\n",
    "    df[\"path1\"] = df.paths.apply(lambda x: x.split(\" \")[1])\n",
    "    df[\"path2\"] = df.paths.apply(lambda x: x.split(\" \")[2])\n",
    "    df[\"name1\"] = df.path1.apply(lambda x: x.split(\"/\")[-1].strip('\"'))\n",
    "    df[\"name2\"] = df.path2.apply(lambda x: x.split(\"/\")[-1].strip('\\t\"'))\n",
    "    \n",
    "    return df"
   ]
  },
  {
   "cell_type": "code",
   "execution_count": 16,
   "metadata": {
    "collapsed": false
   },
   "outputs": [
    {
     "data": {
      "text/html": [
       "<div>\n",
       "<style>\n",
       "    .dataframe thead tr:only-child th {\n",
       "        text-align: right;\n",
       "    }\n",
       "\n",
       "    .dataframe thead th {\n",
       "        text-align: left;\n",
       "    }\n",
       "\n",
       "    .dataframe tbody tr th {\n",
       "        vertical-align: top;\n",
       "    }\n",
       "</style>\n",
       "<table border=\"1\" class=\"dataframe\">\n",
       "  <thead>\n",
       "    <tr style=\"text-align: right;\">\n",
       "      <th></th>\n",
       "      <th>images</th>\n",
       "      <th>paths</th>\n",
       "      <th>caption</th>\n",
       "      <th>path1</th>\n",
       "      <th>path2</th>\n",
       "      <th>name1</th>\n",
       "      <th>name2</th>\n",
       "    </tr>\n",
       "  </thead>\n",
       "  <tbody>\n",
       "    <tr>\n",
       "      <th>0</th>\n",
       "      <td>image 1: a large clock tower towering over a c...</td>\n",
       "      <td>cp \"./cv/images/035669.jpg\" vis/imgs/img1.jpg\\t</td>\n",
       "      <td>a large clock tower towering over a city</td>\n",
       "      <td>\"./cv/images/035669.jpg\"</td>\n",
       "      <td>vis/imgs/img1.jpg\\t</td>\n",
       "      <td>035669.jpg</td>\n",
       "      <td>img1.jpg</td>\n",
       "    </tr>\n",
       "    <tr>\n",
       "      <th>1</th>\n",
       "      <td>image 2: a woman is holding a cell phone in he...</td>\n",
       "      <td>cp \"./cv/images/036736.jpg\" vis/imgs/img2.jpg\\t</td>\n",
       "      <td>a woman is holding a cell phone in her hand</td>\n",
       "      <td>\"./cv/images/036736.jpg\"</td>\n",
       "      <td>vis/imgs/img2.jpg\\t</td>\n",
       "      <td>036736.jpg</td>\n",
       "      <td>img2.jpg</td>\n",
       "    </tr>\n",
       "    <tr>\n",
       "      <th>2</th>\n",
       "      <td>image 3: a herd of animals grazing on a lush g...</td>\n",
       "      <td>cp \"./cv/images/021069.jpg\" vis/imgs/img3.jpg\\t</td>\n",
       "      <td>a herd of animals grazing on a lush green hill...</td>\n",
       "      <td>\"./cv/images/021069.jpg\"</td>\n",
       "      <td>vis/imgs/img3.jpg\\t</td>\n",
       "      <td>021069.jpg</td>\n",
       "      <td>img3.jpg</td>\n",
       "    </tr>\n",
       "    <tr>\n",
       "      <th>3</th>\n",
       "      <td>image 4: a sign that says UNK UNK on the side ...</td>\n",
       "      <td>cp \"./cv/images/003021.jpg\" vis/imgs/img4.jpg\\t</td>\n",
       "      <td>a sign that says UNK UNK on the side of it</td>\n",
       "      <td>\"./cv/images/003021.jpg\"</td>\n",
       "      <td>vis/imgs/img4.jpg\\t</td>\n",
       "      <td>003021.jpg</td>\n",
       "      <td>img4.jpg</td>\n",
       "    </tr>\n",
       "    <tr>\n",
       "      <th>4</th>\n",
       "      <td>image 5: a couple of people that are in a field\\t</td>\n",
       "      <td>cp \"./cv/images/006736.jpg\" vis/imgs/img5.jpg\\t</td>\n",
       "      <td>a couple of people that are in a field</td>\n",
       "      <td>\"./cv/images/006736.jpg\"</td>\n",
       "      <td>vis/imgs/img5.jpg\\t</td>\n",
       "      <td>006736.jpg</td>\n",
       "      <td>img5.jpg</td>\n",
       "    </tr>\n",
       "  </tbody>\n",
       "</table>\n",
       "</div>"
      ],
      "text/plain": [
       "                                              images  \\\n",
       "0  image 1: a large clock tower towering over a c...   \n",
       "1  image 2: a woman is holding a cell phone in he...   \n",
       "2  image 3: a herd of animals grazing on a lush g...   \n",
       "3  image 4: a sign that says UNK UNK on the side ...   \n",
       "4  image 5: a couple of people that are in a field\\t   \n",
       "\n",
       "                                             paths  \\\n",
       "0  cp \"./cv/images/035669.jpg\" vis/imgs/img1.jpg\\t   \n",
       "1  cp \"./cv/images/036736.jpg\" vis/imgs/img2.jpg\\t   \n",
       "2  cp \"./cv/images/021069.jpg\" vis/imgs/img3.jpg\\t   \n",
       "3  cp \"./cv/images/003021.jpg\" vis/imgs/img4.jpg\\t   \n",
       "4  cp \"./cv/images/006736.jpg\" vis/imgs/img5.jpg\\t   \n",
       "\n",
       "                                             caption  \\\n",
       "0           a large clock tower towering over a city   \n",
       "1        a woman is holding a cell phone in her hand   \n",
       "2  a herd of animals grazing on a lush green hill...   \n",
       "3         a sign that says UNK UNK on the side of it   \n",
       "4             a couple of people that are in a field   \n",
       "\n",
       "                      path1                path2       name1     name2  \n",
       "0  \"./cv/images/035669.jpg\"  vis/imgs/img1.jpg\\t  035669.jpg  img1.jpg  \n",
       "1  \"./cv/images/036736.jpg\"  vis/imgs/img2.jpg\\t  036736.jpg  img2.jpg  \n",
       "2  \"./cv/images/021069.jpg\"  vis/imgs/img3.jpg\\t  021069.jpg  img3.jpg  \n",
       "3  \"./cv/images/003021.jpg\"  vis/imgs/img4.jpg\\t  003021.jpg  img4.jpg  \n",
       "4  \"./cv/images/006736.jpg\"  vis/imgs/img5.jpg\\t  006736.jpg  img5.jpg  "
      ]
     },
     "execution_count": 16,
     "metadata": {},
     "output_type": "execute_result"
    }
   ],
   "source": [
    "df = extract_data(df)\n",
    "df.head()"
   ]
  },
  {
   "cell_type": "code",
   "execution_count": 17,
   "metadata": {
    "collapsed": true
   },
   "outputs": [],
   "source": [
    "def save(df, save_path):\n",
    "    df.to_csv(save_path, encoding=\"utf-8\")\n",
    "    print(\"File saved at: \", save_path)"
   ]
  },
  {
   "cell_type": "code",
   "execution_count": 18,
   "metadata": {
    "collapsed": false
   },
   "outputs": [
    {
     "name": "stdout",
     "output_type": "stream",
     "text": [
      "File saved at:  extracted.csv\n"
     ]
    }
   ],
   "source": [
    "save(df, path_save)"
   ]
  }
 ],
 "metadata": {
  "kernelspec": {
   "display_name": "Python 3",
   "language": "python",
   "name": "python3"
  },
  "language_info": {
   "codemirror_mode": {
    "name": "ipython",
    "version": 3
   },
   "file_extension": ".py",
   "mimetype": "text/x-python",
   "name": "python",
   "nbconvert_exporter": "python",
   "pygments_lexer": "ipython3",
   "version": "3.6.0"
  }
 },
 "nbformat": 4,
 "nbformat_minor": 2
}
