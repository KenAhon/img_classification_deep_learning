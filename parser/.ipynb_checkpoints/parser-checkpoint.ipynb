{
 "cells": [
  {
   "cell_type": "code",
   "execution_count": 1,
   "metadata": {
    "collapsed": true
   },
   "outputs": [],
   "source": [
    "import pandas as pd"
   ]
  },
  {
   "cell_type": "code",
   "execution_count": 2,
   "metadata": {
    "collapsed": true
   },
   "outputs": [],
   "source": [
    "path = \"karpathy_output.txt\"\n",
    "path_save = \"final_out.csv\""
   ]
  },
  {
   "cell_type": "markdown",
   "metadata": {},
   "source": [
    "# Read TXT File"
   ]
  },
  {
   "cell_type": "code",
   "execution_count": 3,
   "metadata": {},
   "outputs": [],
   "source": [
    "df = pd.read_csv(path)"
   ]
  },
  {
   "cell_type": "code",
   "execution_count": 4,
   "metadata": {},
   "outputs": [
    {
     "data": {
      "text/html": [
       "<div>\n",
       "<style>\n",
       "    .dataframe thead tr:only-child th {\n",
       "        text-align: right;\n",
       "    }\n",
       "\n",
       "    .dataframe thead th {\n",
       "        text-align: left;\n",
       "    }\n",
       "\n",
       "    .dataframe tbody tr th {\n",
       "        vertical-align: top;\n",
       "    }\n",
       "</style>\n",
       "<table border=\"1\" class=\"dataframe\">\n",
       "  <thead>\n",
       "    <tr style=\"text-align: right;\">\n",
       "      <th></th>\n",
       "      <th>nohup: ignoring input</th>\n",
       "    </tr>\n",
       "  </thead>\n",
       "  <tbody>\n",
       "    <tr>\n",
       "      <th>0</th>\n",
       "      <td>tput: No value for $TERM and no -T specified</td>\n",
       "    </tr>\n",
       "    <tr>\n",
       "      <th>1</th>\n",
       "      <td>DataLoaderRaw loading images from folder: \\t./...</td>\n",
       "    </tr>\n",
       "    <tr>\n",
       "      <th>2</th>\n",
       "      <td>listing all images in directory ./images/\\t</td>\n",
       "    </tr>\n",
       "    <tr>\n",
       "      <th>3</th>\n",
       "      <td>DataLoaderRaw found 37545 images\\t</td>\n",
       "    </tr>\n",
       "    <tr>\n",
       "      <th>4</th>\n",
       "      <td>constructing clones inside the LanguageModel\\t</td>\n",
       "    </tr>\n",
       "    <tr>\n",
       "      <th>5</th>\n",
       "      <td>./images/029599.jpg\\t</td>\n",
       "    </tr>\n",
       "    <tr>\n",
       "      <th>6</th>\n",
       "      <td>cp \"./images/029599.jpg\" vis/imgs/img1.jpg\\t</td>\n",
       "    </tr>\n",
       "    <tr>\n",
       "      <th>7</th>\n",
       "      <td>image 1: a view of a mountain range from the g...</td>\n",
       "    </tr>\n",
       "    <tr>\n",
       "      <th>8</th>\n",
       "      <td>evaluating performance... 1/-1 (0.000000)\\t</td>\n",
       "    </tr>\n",
       "    <tr>\n",
       "      <th>9</th>\n",
       "      <td>./images/013369.jpg\\t</td>\n",
       "    </tr>\n",
       "  </tbody>\n",
       "</table>\n",
       "</div>"
      ],
      "text/plain": [
       "                               nohup: ignoring input\n",
       "0       tput: No value for $TERM and no -T specified\n",
       "1  DataLoaderRaw loading images from folder: \\t./...\n",
       "2        listing all images in directory ./images/\\t\n",
       "3                 DataLoaderRaw found 37545 images\\t\n",
       "4     constructing clones inside the LanguageModel\\t\n",
       "5                              ./images/029599.jpg\\t\n",
       "6       cp \"./images/029599.jpg\" vis/imgs/img1.jpg\\t\n",
       "7  image 1: a view of a mountain range from the g...\n",
       "8        evaluating performance... 1/-1 (0.000000)\\t\n",
       "9                              ./images/013369.jpg\\t"
      ]
     },
     "execution_count": 4,
     "metadata": {},
     "output_type": "execute_result"
    }
   ],
   "source": [
    "df.head(10)"
   ]
  },
  {
   "cell_type": "code",
   "execution_count": 5,
   "metadata": {},
   "outputs": [
    {
     "data": {
      "text/html": [
       "<div>\n",
       "<style>\n",
       "    .dataframe thead tr:only-child th {\n",
       "        text-align: right;\n",
       "    }\n",
       "\n",
       "    .dataframe thead th {\n",
       "        text-align: left;\n",
       "    }\n",
       "\n",
       "    .dataframe tbody tr th {\n",
       "        vertical-align: top;\n",
       "    }\n",
       "</style>\n",
       "<table border=\"1\" class=\"dataframe\">\n",
       "  <thead>\n",
       "    <tr style=\"text-align: right;\">\n",
       "      <th></th>\n",
       "      <th>nohup: ignoring input</th>\n",
       "    </tr>\n",
       "  </thead>\n",
       "  <tbody>\n",
       "    <tr>\n",
       "      <th>150176</th>\n",
       "      <td>evaluating performance... 37543/-1 (0.000000)\\t</td>\n",
       "    </tr>\n",
       "    <tr>\n",
       "      <th>150177</th>\n",
       "      <td>./images/019838.jpg\\t</td>\n",
       "    </tr>\n",
       "    <tr>\n",
       "      <th>150178</th>\n",
       "      <td>cp \"./images/019838.jpg\" vis/imgs/img37544.jpg\\t</td>\n",
       "    </tr>\n",
       "    <tr>\n",
       "      <th>150179</th>\n",
       "      <td>image 37544: a man flying through the air whil...</td>\n",
       "    </tr>\n",
       "    <tr>\n",
       "      <th>150180</th>\n",
       "      <td>evaluating performance... 37544/-1 (0.000000)\\t</td>\n",
       "    </tr>\n",
       "    <tr>\n",
       "      <th>150181</th>\n",
       "      <td>./images/027636.jpg\\t</td>\n",
       "    </tr>\n",
       "    <tr>\n",
       "      <th>150182</th>\n",
       "      <td>cp \"./images/027636.jpg\" vis/imgs/img37545.jpg\\t</td>\n",
       "    </tr>\n",
       "    <tr>\n",
       "      <th>150183</th>\n",
       "      <td>image 37545: a close up of a teddy bear on a r...</td>\n",
       "    </tr>\n",
       "    <tr>\n",
       "      <th>150184</th>\n",
       "      <td>evaluating performance... 0/-1 (0.000000)\\t</td>\n",
       "    </tr>\n",
       "    <tr>\n",
       "      <th>150185</th>\n",
       "      <td>loss: \\tnan\\t</td>\n",
       "    </tr>\n",
       "  </tbody>\n",
       "</table>\n",
       "</div>"
      ],
      "text/plain": [
       "                                    nohup: ignoring input\n",
       "150176    evaluating performance... 37543/-1 (0.000000)\\t\n",
       "150177                              ./images/019838.jpg\\t\n",
       "150178   cp \"./images/019838.jpg\" vis/imgs/img37544.jpg\\t\n",
       "150179  image 37544: a man flying through the air whil...\n",
       "150180    evaluating performance... 37544/-1 (0.000000)\\t\n",
       "150181                              ./images/027636.jpg\\t\n",
       "150182   cp \"./images/027636.jpg\" vis/imgs/img37545.jpg\\t\n",
       "150183  image 37545: a close up of a teddy bear on a r...\n",
       "150184        evaluating performance... 0/-1 (0.000000)\\t\n",
       "150185                                      loss: \\tnan\\t"
      ]
     },
     "execution_count": 5,
     "metadata": {},
     "output_type": "execute_result"
    }
   ],
   "source": [
    "df.tail(10)"
   ]
  },
  {
   "cell_type": "markdown",
   "metadata": {},
   "source": [
    "# Remove redundant starting lines"
   ]
  },
  {
   "cell_type": "code",
   "execution_count": 6,
   "metadata": {
    "collapsed": true
   },
   "outputs": [],
   "source": [
    "def trim_lines(df, x=5):\n",
    "    \"\"\" Removes first {x} rows from dataframe and the last row.\n",
    "    \"\"\"\n",
    "    df = df.iloc[x:-1]\n",
    "    return df"
   ]
  },
  {
   "cell_type": "code",
   "execution_count": 7,
   "metadata": {},
   "outputs": [],
   "source": [
    "df = trim_lines(df)"
   ]
  },
  {
   "cell_type": "code",
   "execution_count": 8,
   "metadata": {},
   "outputs": [
    {
     "data": {
      "text/html": [
       "<div>\n",
       "<style>\n",
       "    .dataframe thead tr:only-child th {\n",
       "        text-align: right;\n",
       "    }\n",
       "\n",
       "    .dataframe thead th {\n",
       "        text-align: left;\n",
       "    }\n",
       "\n",
       "    .dataframe tbody tr th {\n",
       "        vertical-align: top;\n",
       "    }\n",
       "</style>\n",
       "<table border=\"1\" class=\"dataframe\">\n",
       "  <thead>\n",
       "    <tr style=\"text-align: right;\">\n",
       "      <th></th>\n",
       "      <th>nohup: ignoring input</th>\n",
       "    </tr>\n",
       "  </thead>\n",
       "  <tbody>\n",
       "    <tr>\n",
       "      <th>5</th>\n",
       "      <td>./images/029599.jpg\\t</td>\n",
       "    </tr>\n",
       "    <tr>\n",
       "      <th>6</th>\n",
       "      <td>cp \"./images/029599.jpg\" vis/imgs/img1.jpg\\t</td>\n",
       "    </tr>\n",
       "    <tr>\n",
       "      <th>7</th>\n",
       "      <td>image 1: a view of a mountain range from the g...</td>\n",
       "    </tr>\n",
       "    <tr>\n",
       "      <th>8</th>\n",
       "      <td>evaluating performance... 1/-1 (0.000000)\\t</td>\n",
       "    </tr>\n",
       "    <tr>\n",
       "      <th>9</th>\n",
       "      <td>./images/013369.jpg\\t</td>\n",
       "    </tr>\n",
       "  </tbody>\n",
       "</table>\n",
       "</div>"
      ],
      "text/plain": [
       "                               nohup: ignoring input\n",
       "5                              ./images/029599.jpg\\t\n",
       "6       cp \"./images/029599.jpg\" vis/imgs/img1.jpg\\t\n",
       "7  image 1: a view of a mountain range from the g...\n",
       "8        evaluating performance... 1/-1 (0.000000)\\t\n",
       "9                              ./images/013369.jpg\\t"
      ]
     },
     "execution_count": 8,
     "metadata": {},
     "output_type": "execute_result"
    }
   ],
   "source": [
    "df.head(5)"
   ]
  },
  {
   "cell_type": "code",
   "execution_count": 9,
   "metadata": {},
   "outputs": [
    {
     "data": {
      "text/html": [
       "<div>\n",
       "<style>\n",
       "    .dataframe thead tr:only-child th {\n",
       "        text-align: right;\n",
       "    }\n",
       "\n",
       "    .dataframe thead th {\n",
       "        text-align: left;\n",
       "    }\n",
       "\n",
       "    .dataframe tbody tr th {\n",
       "        vertical-align: top;\n",
       "    }\n",
       "</style>\n",
       "<table border=\"1\" class=\"dataframe\">\n",
       "  <thead>\n",
       "    <tr style=\"text-align: right;\">\n",
       "      <th></th>\n",
       "      <th>nohup: ignoring input</th>\n",
       "    </tr>\n",
       "  </thead>\n",
       "  <tbody>\n",
       "    <tr>\n",
       "      <th>150180</th>\n",
       "      <td>evaluating performance... 37544/-1 (0.000000)\\t</td>\n",
       "    </tr>\n",
       "    <tr>\n",
       "      <th>150181</th>\n",
       "      <td>./images/027636.jpg\\t</td>\n",
       "    </tr>\n",
       "    <tr>\n",
       "      <th>150182</th>\n",
       "      <td>cp \"./images/027636.jpg\" vis/imgs/img37545.jpg\\t</td>\n",
       "    </tr>\n",
       "    <tr>\n",
       "      <th>150183</th>\n",
       "      <td>image 37545: a close up of a teddy bear on a r...</td>\n",
       "    </tr>\n",
       "    <tr>\n",
       "      <th>150184</th>\n",
       "      <td>evaluating performance... 0/-1 (0.000000)\\t</td>\n",
       "    </tr>\n",
       "  </tbody>\n",
       "</table>\n",
       "</div>"
      ],
      "text/plain": [
       "                                    nohup: ignoring input\n",
       "150180    evaluating performance... 37544/-1 (0.000000)\\t\n",
       "150181                              ./images/027636.jpg\\t\n",
       "150182   cp \"./images/027636.jpg\" vis/imgs/img37545.jpg\\t\n",
       "150183  image 37545: a close up of a teddy bear on a r...\n",
       "150184        evaluating performance... 0/-1 (0.000000)\\t"
      ]
     },
     "execution_count": 9,
     "metadata": {},
     "output_type": "execute_result"
    }
   ],
   "source": [
    "df.tail(5)"
   ]
  },
  {
   "cell_type": "markdown",
   "metadata": {},
   "source": [
    "### Adding column name"
   ]
  },
  {
   "cell_type": "code",
   "execution_count": 10,
   "metadata": {},
   "outputs": [],
   "source": [
    "df.columns = [\"original\"]"
   ]
  },
  {
   "cell_type": "markdown",
   "metadata": {},
   "source": [
    "# Removing evaluation"
   ]
  },
  {
   "cell_type": "code",
   "execution_count": 11,
   "metadata": {
    "collapsed": true
   },
   "outputs": [],
   "source": [
    "def label_evaluation(x):\n",
    "    \"\"\" Needed for apply function\n",
    "    \"\"\"\n",
    "    if \"evaluating performance... \" in x:\n",
    "        return \"yes\"\n",
    "    else:\n",
    "        return \"no\""
   ]
  },
  {
   "cell_type": "code",
   "execution_count": 12,
   "metadata": {
    "collapsed": true
   },
   "outputs": [],
   "source": [
    "def filter_evaluation(df):\n",
    "    \"\"\" Filters evaluation lines\n",
    "    \"\"\"\n",
    "    # label\n",
    "    df[\"eval\"] = df.original.apply(lambda x: label_evaluation(x))\n",
    "    # filter\n",
    "    df = df[df[\"eval\"] == \"no\"]\n",
    "    df = df.drop([\"eval\"], axis=1)\n",
    "    return df"
   ]
  },
  {
   "cell_type": "code",
   "execution_count": 13,
   "metadata": {
    "collapsed": true
   },
   "outputs": [],
   "source": [
    "df = filter_evaluation(df)"
   ]
  },
  {
   "cell_type": "code",
   "execution_count": 14,
   "metadata": {},
   "outputs": [],
   "source": [
    "# df = df.reset_index(drop=True)\n",
    "# df.head(20)"
   ]
  },
  {
   "cell_type": "markdown",
   "metadata": {},
   "source": [
    "# Extracting patahs, img names and caption"
   ]
  },
  {
   "cell_type": "code",
   "execution_count": 15,
   "metadata": {
    "collapsed": true
   },
   "outputs": [],
   "source": [
    "def extract_data(df):\n",
    "    \"\"\" Extracts two columns for paths where images are located, image names, and caption for each image\n",
    "    \"\"\"\n",
    "    df = df.reset_index(drop=True)\n",
    "    df.head(20)\n",
    "    \n",
    "    paths = list(df.iloc[1::3, :].values)\n",
    "    paths = [path[0] for path in paths]\n",
    "    images = list(df.iloc[2::3, :].values)\n",
    "    images = [img[0] for img in images]\n",
    "    \n",
    "#     print(\"IMGS:\",len(images))\n",
    "#     print(\"PATHS:\",len(paths))\n",
    "#     print(paths[1])\n",
    "    \n",
    "    df = pd.DataFrame({\n",
    "    \"paths\": paths,\n",
    "    \"images\": images\n",
    "    })\n",
    "    \n",
    "    df[\"caption\"] = df.images.apply(lambda x: x.split(\": \")[1].replace(\"\\t\",\"\"))\n",
    "    df[\"path1\"] = df.paths.apply(lambda x: x.split(\" \")[1])\n",
    "    df[\"path2\"] = df.paths.apply(lambda x: x.split(\" \")[2])\n",
    "    df[\"name1\"] = df.path1.apply(lambda x: x.split(\"/\")[-1].strip('\"'))\n",
    "    df[\"name2\"] = df.path2.apply(lambda x: x.split(\"/\")[-1].strip('\\t\"'))\n",
    "    \n",
    "    return df"
   ]
  },
  {
   "cell_type": "code",
   "execution_count": 16,
   "metadata": {},
   "outputs": [
    {
     "name": "stdout",
     "output_type": "stream",
     "text": [
      "IMGS: 37545\n",
      "PATHS: 37545\n",
      "cp \"./images/013369.jpg\" vis/imgs/img2.jpg\t\n"
     ]
    },
    {
     "data": {
      "text/html": [
       "<div>\n",
       "<style>\n",
       "    .dataframe thead tr:only-child th {\n",
       "        text-align: right;\n",
       "    }\n",
       "\n",
       "    .dataframe thead th {\n",
       "        text-align: left;\n",
       "    }\n",
       "\n",
       "    .dataframe tbody tr th {\n",
       "        vertical-align: top;\n",
       "    }\n",
       "</style>\n",
       "<table border=\"1\" class=\"dataframe\">\n",
       "  <thead>\n",
       "    <tr style=\"text-align: right;\">\n",
       "      <th></th>\n",
       "      <th>images</th>\n",
       "      <th>paths</th>\n",
       "      <th>caption</th>\n",
       "      <th>path1</th>\n",
       "      <th>path2</th>\n",
       "      <th>name1</th>\n",
       "      <th>name2</th>\n",
       "    </tr>\n",
       "  </thead>\n",
       "  <tbody>\n",
       "    <tr>\n",
       "      <th>0</th>\n",
       "      <td>image 1: a view of a mountain range from the g...</td>\n",
       "      <td>cp \"./images/029599.jpg\" vis/imgs/img1.jpg\\t</td>\n",
       "      <td>a view of a mountain range from the ground</td>\n",
       "      <td>\"./images/029599.jpg\"</td>\n",
       "      <td>vis/imgs/img1.jpg\\t</td>\n",
       "      <td>029599.jpg</td>\n",
       "      <td>img1.jpg</td>\n",
       "    </tr>\n",
       "    <tr>\n",
       "      <th>1</th>\n",
       "      <td>image 2: a person on a boat in the water\\t</td>\n",
       "      <td>cp \"./images/013369.jpg\" vis/imgs/img2.jpg\\t</td>\n",
       "      <td>a person on a boat in the water</td>\n",
       "      <td>\"./images/013369.jpg\"</td>\n",
       "      <td>vis/imgs/img2.jpg\\t</td>\n",
       "      <td>013369.jpg</td>\n",
       "      <td>img2.jpg</td>\n",
       "    </tr>\n",
       "    <tr>\n",
       "      <th>2</th>\n",
       "      <td>image 3: a view of a building with a clock tow...</td>\n",
       "      <td>cp \"./images/023620.jpg\" vis/imgs/img3.jpg\\t</td>\n",
       "      <td>a view of a building with a clock tower</td>\n",
       "      <td>\"./images/023620.jpg\"</td>\n",
       "      <td>vis/imgs/img3.jpg\\t</td>\n",
       "      <td>023620.jpg</td>\n",
       "      <td>img3.jpg</td>\n",
       "    </tr>\n",
       "    <tr>\n",
       "      <th>3</th>\n",
       "      <td>image 4: a street sign on the side of a road\\t</td>\n",
       "      <td>cp \"./images/004139.jpg\" vis/imgs/img4.jpg\\t</td>\n",
       "      <td>a street sign on the side of a road</td>\n",
       "      <td>\"./images/004139.jpg\"</td>\n",
       "      <td>vis/imgs/img4.jpg\\t</td>\n",
       "      <td>004139.jpg</td>\n",
       "      <td>img4.jpg</td>\n",
       "    </tr>\n",
       "    <tr>\n",
       "      <th>4</th>\n",
       "      <td>image 5: a man in a suit and tie standing in a...</td>\n",
       "      <td>cp \"./images/036728.jpg\" vis/imgs/img5.jpg\\t</td>\n",
       "      <td>a man in a suit and tie standing in a parking lot</td>\n",
       "      <td>\"./images/036728.jpg\"</td>\n",
       "      <td>vis/imgs/img5.jpg\\t</td>\n",
       "      <td>036728.jpg</td>\n",
       "      <td>img5.jpg</td>\n",
       "    </tr>\n",
       "  </tbody>\n",
       "</table>\n",
       "</div>"
      ],
      "text/plain": [
       "                                              images  \\\n",
       "0  image 1: a view of a mountain range from the g...   \n",
       "1         image 2: a person on a boat in the water\\t   \n",
       "2  image 3: a view of a building with a clock tow...   \n",
       "3     image 4: a street sign on the side of a road\\t   \n",
       "4  image 5: a man in a suit and tie standing in a...   \n",
       "\n",
       "                                          paths  \\\n",
       "0  cp \"./images/029599.jpg\" vis/imgs/img1.jpg\\t   \n",
       "1  cp \"./images/013369.jpg\" vis/imgs/img2.jpg\\t   \n",
       "2  cp \"./images/023620.jpg\" vis/imgs/img3.jpg\\t   \n",
       "3  cp \"./images/004139.jpg\" vis/imgs/img4.jpg\\t   \n",
       "4  cp \"./images/036728.jpg\" vis/imgs/img5.jpg\\t   \n",
       "\n",
       "                                             caption                  path1  \\\n",
       "0         a view of a mountain range from the ground  \"./images/029599.jpg\"   \n",
       "1                    a person on a boat in the water  \"./images/013369.jpg\"   \n",
       "2            a view of a building with a clock tower  \"./images/023620.jpg\"   \n",
       "3                a street sign on the side of a road  \"./images/004139.jpg\"   \n",
       "4  a man in a suit and tie standing in a parking lot  \"./images/036728.jpg\"   \n",
       "\n",
       "                 path2       name1     name2  \n",
       "0  vis/imgs/img1.jpg\\t  029599.jpg  img1.jpg  \n",
       "1  vis/imgs/img2.jpg\\t  013369.jpg  img2.jpg  \n",
       "2  vis/imgs/img3.jpg\\t  023620.jpg  img3.jpg  \n",
       "3  vis/imgs/img4.jpg\\t  004139.jpg  img4.jpg  \n",
       "4  vis/imgs/img5.jpg\\t  036728.jpg  img5.jpg  "
      ]
     },
     "execution_count": 16,
     "metadata": {},
     "output_type": "execute_result"
    }
   ],
   "source": [
    "df = extract_data(df)\n",
    "df.head()"
   ]
  },
  {
   "cell_type": "code",
   "execution_count": 17,
   "metadata": {
    "collapsed": true
   },
   "outputs": [],
   "source": [
    "def save(df, save_path):\n",
    "    df.to_csv(save_path, encoding=\"utf-8\")\n",
    "    print(\"File saved at: \", save_path)"
   ]
  },
  {
   "cell_type": "code",
   "execution_count": 18,
   "metadata": {},
   "outputs": [
    {
     "name": "stdout",
     "output_type": "stream",
     "text": [
      "File saved at:  final_out.csv\n"
     ]
    }
   ],
   "source": [
    "save(df, path_save)"
   ]
  }
 ],
 "metadata": {
  "kernelspec": {
   "display_name": "Python 3",
   "language": "python",
   "name": "python3"
  },
  "language_info": {
   "codemirror_mode": {
    "name": "ipython",
    "version": 3
   },
   "file_extension": ".py",
   "mimetype": "text/x-python",
   "name": "python",
   "nbconvert_exporter": "python",
   "pygments_lexer": "ipython3",
   "version": "3.6.3"
  }
 },
 "nbformat": 4,
 "nbformat_minor": 2
}
