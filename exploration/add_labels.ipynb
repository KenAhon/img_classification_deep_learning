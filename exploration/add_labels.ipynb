{
 "cells": [
  {
   "cell_type": "code",
   "execution_count": 57,
   "metadata": {
    "collapsed": true
   },
   "outputs": [],
   "source": [
    "import pandas as pd \n",
    "import os\n",
    "import features as cl"
   ]
  },
  {
   "cell_type": "code",
   "execution_count": 84,
   "metadata": {
    "collapsed": false
   },
   "outputs": [],
   "source": [
    "def save_csv(lst, path):\n",
    "    \"\"\" Saves csv file with img names and labels\n",
    "    \"\"\"\n",
    "    df = pd.DataFrame(lst)\n",
    "    df.columns = ['img', 'label']\n",
    "    df.to_csv(path, index=False)\n",
    "    print(\"Saved to:\",path)"
   ]
  },
  {
   "cell_type": "code",
   "execution_count": 38,
   "metadata": {
    "collapsed": true
   },
   "outputs": [],
   "source": [
    "def labelize(dir_path):\n",
    "    \"\"\" Returns 2D list with img name and img label\n",
    "    \"\"\"\n",
    "    directory = dir_path\n",
    "    subdir_lst = os.listdir(dir_path)\n",
    "    lst = []\n",
    "    print(subdir_lst)\n",
    "    for subdir in subdir_lst:\n",
    "        imgs = os.listdir(directory+\"/\"+subdir) \n",
    "        for i in imgs: \n",
    "            lst.append([i, subdir])\n",
    "    return lst"
   ]
  },
  {
   "cell_type": "markdown",
   "metadata": {},
   "source": [
    "# Save label data"
   ]
  },
  {
   "cell_type": "code",
   "execution_count": 53,
   "metadata": {
    "collapsed": false
   },
   "outputs": [],
   "source": [
    "vehicle_path = \"./clusters/vehicles20\"\n",
    "animals_path = \"./clusters/animals20\"\n",
    "food_path = \"./clusters/food40\"\n",
    "# directory = vehicle_path\n",
    "# subdir = os.listdir(vehicle_path)[0]\n",
    "# os.listdir(directory+\"/\"+subdir)"
   ]
  },
  {
   "cell_type": "code",
   "execution_count": 74,
   "metadata": {
    "collapsed": false
   },
   "outputs": [
    {
     "name": "stdout",
     "output_type": "stream",
     "text": [
      "['bus', 'car', 'else', 'motorcycle', 'train', 'truck', 'utility']\n",
      "['bear', 'birds', 'cat', 'deer', 'dog', 'ducks', 'fox', 'monkey', 'pets', 'racoon', 'squirell', 'wild_cats']\n",
      "['bread', 'desert', 'drink', 'else', 'fruit', 'meal']\n"
     ]
    }
   ],
   "source": [
    "vehicles = labelize(vehicle_path)\n",
    "animals = labelize(animals_path)\n",
    "food = labelize(food_path)"
   ]
  },
  {
   "cell_type": "code",
   "execution_count": 85,
   "metadata": {
    "collapsed": false
   },
   "outputs": [
    {
     "name": "stdout",
     "output_type": "stream",
     "text": [
      "('Saved to:', 'labels/vehicles.csv')\n",
      "('Saved to:', 'labels/animals.csv')\n",
      "('Saved to:', 'labels/food.csv')\n"
     ]
    }
   ],
   "source": [
    "save_csv(vehicles, \"labels/vehicles.csv\")\n",
    "save_csv(animals, \"labels/animals.csv\")\n",
    "save_csv(food, \"labels/food.csv\")"
   ]
  },
  {
   "cell_type": "code",
   "execution_count": 86,
   "metadata": {
    "collapsed": false
   },
   "outputs": [
    {
     "name": "stdout",
     "output_type": "stream",
     "text": [
      "('Saved to:', 'labels/all.csv')\n"
     ]
    }
   ],
   "source": [
    "all_labels = vehicles+animals+food \n",
    "save_csv(all_labels, \"labels/all.csv\")"
   ]
  },
  {
   "cell_type": "markdown",
   "metadata": {},
   "source": [
    "# Add Features "
   ]
  },
  {
   "cell_type": "code",
   "execution_count": 62,
   "metadata": {
    "collapsed": false
   },
   "outputs": [],
   "source": [
    "img_files = os.listdir('.') # these are image files\n",
    "img_files = [f for f in img_files if f.endswith(\".jpg\")]"
   ]
  },
  {
   "cell_type": "code",
   "execution_count": null,
   "metadata": {
    "collapsed": true
   },
   "outputs": [],
   "source": [
    "fc8 = \"fc8/\"\n",
    "fc7 = \"fc7/\""
   ]
  },
  {
   "cell_type": "code",
   "execution_count": null,
   "metadata": {
    "collapsed": true
   },
   "outputs": [],
   "source": [
    "fc8_files = cl.load_files(fc8, 8000)"
   ]
  },
  {
   "cell_type": "code",
   "execution_count": 64,
   "metadata": {
    "collapsed": false
   },
   "outputs": [],
   "source": [
    "fc7_files = cl.load_files(fc7, 8000)"
   ]
  },
  {
   "cell_type": "code",
   "execution_count": 65,
   "metadata": {
    "collapsed": false
   },
   "outputs": [
    {
     "data": {
      "text/html": [
       "<div>\n",
       "<style>\n",
       "    .dataframe thead tr:only-child th {\n",
       "        text-align: right;\n",
       "    }\n",
       "\n",
       "    .dataframe thead th {\n",
       "        text-align: left;\n",
       "    }\n",
       "\n",
       "    .dataframe tbody tr th {\n",
       "        vertical-align: top;\n",
       "    }\n",
       "</style>\n",
       "<table border=\"1\" class=\"dataframe\">\n",
       "  <thead>\n",
       "    <tr style=\"text-align: right;\">\n",
       "      <th></th>\n",
       "      <th>0</th>\n",
       "      <th>1</th>\n",
       "      <th>2</th>\n",
       "      <th>3</th>\n",
       "      <th>4</th>\n",
       "      <th>5</th>\n",
       "      <th>6</th>\n",
       "      <th>7</th>\n",
       "      <th>8</th>\n",
       "      <th>9</th>\n",
       "      <th>...</th>\n",
       "      <th>990</th>\n",
       "      <th>991</th>\n",
       "      <th>992</th>\n",
       "      <th>993</th>\n",
       "      <th>994</th>\n",
       "      <th>995</th>\n",
       "      <th>996</th>\n",
       "      <th>997</th>\n",
       "      <th>998</th>\n",
       "      <th>999</th>\n",
       "    </tr>\n",
       "  </thead>\n",
       "  <tbody>\n",
       "    <tr>\n",
       "      <th>000000.jpg</th>\n",
       "      <td>1.792246</td>\n",
       "      <td>1.214735</td>\n",
       "      <td>0.090723</td>\n",
       "      <td>3.605963</td>\n",
       "      <td>0.980392</td>\n",
       "      <td>5.922396</td>\n",
       "      <td>3.844389</td>\n",
       "      <td>0.191532</td>\n",
       "      <td>1.462952</td>\n",
       "      <td>0.763315</td>\n",
       "      <td>...</td>\n",
       "      <td>4.107993</td>\n",
       "      <td>3.483368</td>\n",
       "      <td>2.380340</td>\n",
       "      <td>1.875716</td>\n",
       "      <td>2.821652</td>\n",
       "      <td>0.767298</td>\n",
       "      <td>1.686145</td>\n",
       "      <td>2.102949</td>\n",
       "      <td>5.584599</td>\n",
       "      <td>1.100587</td>\n",
       "    </tr>\n",
       "    <tr>\n",
       "      <th>000001.jpg</th>\n",
       "      <td>1.465299</td>\n",
       "      <td>3.259567</td>\n",
       "      <td>2.282358</td>\n",
       "      <td>3.267398</td>\n",
       "      <td>1.294655</td>\n",
       "      <td>3.418684</td>\n",
       "      <td>1.526095</td>\n",
       "      <td>0.631379</td>\n",
       "      <td>0.189938</td>\n",
       "      <td>1.870045</td>\n",
       "      <td>...</td>\n",
       "      <td>2.540759</td>\n",
       "      <td>0.878945</td>\n",
       "      <td>2.826976</td>\n",
       "      <td>2.667773</td>\n",
       "      <td>0.177334</td>\n",
       "      <td>1.915311</td>\n",
       "      <td>4.440604</td>\n",
       "      <td>2.447156</td>\n",
       "      <td>5.011928</td>\n",
       "      <td>0.808661</td>\n",
       "    </tr>\n",
       "    <tr>\n",
       "      <th>000002.jpg</th>\n",
       "      <td>0.144026</td>\n",
       "      <td>0.703179</td>\n",
       "      <td>5.422544</td>\n",
       "      <td>4.675078</td>\n",
       "      <td>5.374063</td>\n",
       "      <td>3.939137</td>\n",
       "      <td>2.914798</td>\n",
       "      <td>1.376190</td>\n",
       "      <td>3.536319</td>\n",
       "      <td>2.681049</td>\n",
       "      <td>...</td>\n",
       "      <td>3.472848</td>\n",
       "      <td>1.971740</td>\n",
       "      <td>2.887516</td>\n",
       "      <td>3.914970</td>\n",
       "      <td>2.856653</td>\n",
       "      <td>3.360607</td>\n",
       "      <td>3.044907</td>\n",
       "      <td>2.871434</td>\n",
       "      <td>1.440381</td>\n",
       "      <td>2.869741</td>\n",
       "    </tr>\n",
       "    <tr>\n",
       "      <th>000003.jpg</th>\n",
       "      <td>1.074757</td>\n",
       "      <td>0.350523</td>\n",
       "      <td>0.598255</td>\n",
       "      <td>2.298177</td>\n",
       "      <td>0.192704</td>\n",
       "      <td>1.590180</td>\n",
       "      <td>2.922283</td>\n",
       "      <td>1.588892</td>\n",
       "      <td>4.047737</td>\n",
       "      <td>5.627380</td>\n",
       "      <td>...</td>\n",
       "      <td>3.613640</td>\n",
       "      <td>1.986378</td>\n",
       "      <td>0.134821</td>\n",
       "      <td>3.231081</td>\n",
       "      <td>2.087324</td>\n",
       "      <td>2.718664</td>\n",
       "      <td>2.881108</td>\n",
       "      <td>3.070374</td>\n",
       "      <td>0.837293</td>\n",
       "      <td>4.851051</td>\n",
       "    </tr>\n",
       "    <tr>\n",
       "      <th>000004.jpg</th>\n",
       "      <td>1.896600</td>\n",
       "      <td>1.783510</td>\n",
       "      <td>2.347054</td>\n",
       "      <td>4.819045</td>\n",
       "      <td>4.995497</td>\n",
       "      <td>3.064835</td>\n",
       "      <td>2.309812</td>\n",
       "      <td>3.121055</td>\n",
       "      <td>2.820309</td>\n",
       "      <td>3.516807</td>\n",
       "      <td>...</td>\n",
       "      <td>0.214254</td>\n",
       "      <td>1.514517</td>\n",
       "      <td>2.099806</td>\n",
       "      <td>3.209898</td>\n",
       "      <td>1.776975</td>\n",
       "      <td>0.306610</td>\n",
       "      <td>2.363331</td>\n",
       "      <td>2.865939</td>\n",
       "      <td>0.807545</td>\n",
       "      <td>0.804842</td>\n",
       "    </tr>\n",
       "  </tbody>\n",
       "</table>\n",
       "<p>5 rows × 1000 columns</p>\n",
       "</div>"
      ],
      "text/plain": [
       "                 0         1         2         3         4         5    \\\n",
       "000000.jpg  1.792246  1.214735  0.090723  3.605963  0.980392  5.922396   \n",
       "000001.jpg  1.465299  3.259567  2.282358  3.267398  1.294655  3.418684   \n",
       "000002.jpg  0.144026  0.703179  5.422544  4.675078  5.374063  3.939137   \n",
       "000003.jpg  1.074757  0.350523  0.598255  2.298177  0.192704  1.590180   \n",
       "000004.jpg  1.896600  1.783510  2.347054  4.819045  4.995497  3.064835   \n",
       "\n",
       "                 6         7         8         9      ...          990  \\\n",
       "000000.jpg  3.844389  0.191532  1.462952  0.763315    ...     4.107993   \n",
       "000001.jpg  1.526095  0.631379  0.189938  1.870045    ...     2.540759   \n",
       "000002.jpg  2.914798  1.376190  3.536319  2.681049    ...     3.472848   \n",
       "000003.jpg  2.922283  1.588892  4.047737  5.627380    ...     3.613640   \n",
       "000004.jpg  2.309812  3.121055  2.820309  3.516807    ...     0.214254   \n",
       "\n",
       "                 991       992       993       994       995       996  \\\n",
       "000000.jpg  3.483368  2.380340  1.875716  2.821652  0.767298  1.686145   \n",
       "000001.jpg  0.878945  2.826976  2.667773  0.177334  1.915311  4.440604   \n",
       "000002.jpg  1.971740  2.887516  3.914970  2.856653  3.360607  3.044907   \n",
       "000003.jpg  1.986378  0.134821  3.231081  2.087324  2.718664  2.881108   \n",
       "000004.jpg  1.514517  2.099806  3.209898  1.776975  0.306610  2.363331   \n",
       "\n",
       "                 997       998       999  \n",
       "000000.jpg  2.102949  5.584599  1.100587  \n",
       "000001.jpg  2.447156  5.011928  0.808661  \n",
       "000002.jpg  2.871434  1.440381  2.869741  \n",
       "000003.jpg  3.070374  0.837293  4.851051  \n",
       "000004.jpg  2.865939  0.807545  0.804842  \n",
       "\n",
       "[5 rows x 1000 columns]"
      ]
     },
     "execution_count": 65,
     "metadata": {},
     "output_type": "execute_result"
    }
   ],
   "source": [
    "fc8_files.index = img_files[:8000]\n",
    "fc8_files.head()"
   ]
  },
  {
   "cell_type": "code",
   "execution_count": 67,
   "metadata": {
    "collapsed": false
   },
   "outputs": [
    {
     "data": {
      "text/html": [
       "<div>\n",
       "<style>\n",
       "    .dataframe thead tr:only-child th {\n",
       "        text-align: right;\n",
       "    }\n",
       "\n",
       "    .dataframe thead th {\n",
       "        text-align: left;\n",
       "    }\n",
       "\n",
       "    .dataframe tbody tr th {\n",
       "        vertical-align: top;\n",
       "    }\n",
       "</style>\n",
       "<table border=\"1\" class=\"dataframe\">\n",
       "  <thead>\n",
       "    <tr style=\"text-align: right;\">\n",
       "      <th></th>\n",
       "      <th>0</th>\n",
       "      <th>1</th>\n",
       "      <th>2</th>\n",
       "      <th>3</th>\n",
       "      <th>4</th>\n",
       "      <th>5</th>\n",
       "      <th>6</th>\n",
       "      <th>7</th>\n",
       "      <th>8</th>\n",
       "      <th>9</th>\n",
       "      <th>...</th>\n",
       "      <th>4086</th>\n",
       "      <th>4087</th>\n",
       "      <th>4088</th>\n",
       "      <th>4089</th>\n",
       "      <th>4090</th>\n",
       "      <th>4091</th>\n",
       "      <th>4092</th>\n",
       "      <th>4093</th>\n",
       "      <th>4094</th>\n",
       "      <th>4095</th>\n",
       "    </tr>\n",
       "  </thead>\n",
       "  <tbody>\n",
       "    <tr>\n",
       "      <th>000000.jpg</th>\n",
       "      <td>0.000000</td>\n",
       "      <td>2.046612</td>\n",
       "      <td>0.000000</td>\n",
       "      <td>0.0</td>\n",
       "      <td>0.0</td>\n",
       "      <td>0.0</td>\n",
       "      <td>0.0</td>\n",
       "      <td>0.0</td>\n",
       "      <td>0.0</td>\n",
       "      <td>0.0</td>\n",
       "      <td>...</td>\n",
       "      <td>4.212679</td>\n",
       "      <td>0.0</td>\n",
       "      <td>0.000000</td>\n",
       "      <td>0.000000</td>\n",
       "      <td>0.0</td>\n",
       "      <td>0.00000</td>\n",
       "      <td>0.0</td>\n",
       "      <td>0.000000</td>\n",
       "      <td>0.0</td>\n",
       "      <td>2.622912</td>\n",
       "    </tr>\n",
       "    <tr>\n",
       "      <th>000001.jpg</th>\n",
       "      <td>0.000000</td>\n",
       "      <td>0.000000</td>\n",
       "      <td>0.000000</td>\n",
       "      <td>0.0</td>\n",
       "      <td>0.0</td>\n",
       "      <td>0.0</td>\n",
       "      <td>0.0</td>\n",
       "      <td>0.0</td>\n",
       "      <td>0.0</td>\n",
       "      <td>0.0</td>\n",
       "      <td>...</td>\n",
       "      <td>0.000000</td>\n",
       "      <td>0.0</td>\n",
       "      <td>0.000000</td>\n",
       "      <td>0.000000</td>\n",
       "      <td>0.0</td>\n",
       "      <td>0.00000</td>\n",
       "      <td>0.0</td>\n",
       "      <td>2.123357</td>\n",
       "      <td>0.0</td>\n",
       "      <td>2.621346</td>\n",
       "    </tr>\n",
       "    <tr>\n",
       "      <th>000002.jpg</th>\n",
       "      <td>1.020148</td>\n",
       "      <td>0.000000</td>\n",
       "      <td>0.169499</td>\n",
       "      <td>0.0</td>\n",
       "      <td>0.0</td>\n",
       "      <td>0.0</td>\n",
       "      <td>0.0</td>\n",
       "      <td>0.0</td>\n",
       "      <td>0.0</td>\n",
       "      <td>0.0</td>\n",
       "      <td>...</td>\n",
       "      <td>0.000000</td>\n",
       "      <td>0.0</td>\n",
       "      <td>0.000000</td>\n",
       "      <td>0.000000</td>\n",
       "      <td>0.0</td>\n",
       "      <td>0.00000</td>\n",
       "      <td>0.0</td>\n",
       "      <td>0.000000</td>\n",
       "      <td>0.0</td>\n",
       "      <td>0.000000</td>\n",
       "    </tr>\n",
       "    <tr>\n",
       "      <th>000003.jpg</th>\n",
       "      <td>0.000000</td>\n",
       "      <td>0.000000</td>\n",
       "      <td>0.000000</td>\n",
       "      <td>0.0</td>\n",
       "      <td>0.0</td>\n",
       "      <td>0.0</td>\n",
       "      <td>0.0</td>\n",
       "      <td>0.0</td>\n",
       "      <td>0.0</td>\n",
       "      <td>0.0</td>\n",
       "      <td>...</td>\n",
       "      <td>0.000000</td>\n",
       "      <td>0.0</td>\n",
       "      <td>0.000000</td>\n",
       "      <td>0.000000</td>\n",
       "      <td>0.0</td>\n",
       "      <td>0.00000</td>\n",
       "      <td>0.0</td>\n",
       "      <td>0.000000</td>\n",
       "      <td>0.0</td>\n",
       "      <td>0.000000</td>\n",
       "    </tr>\n",
       "    <tr>\n",
       "      <th>000004.jpg</th>\n",
       "      <td>0.000000</td>\n",
       "      <td>1.439687</td>\n",
       "      <td>0.000000</td>\n",
       "      <td>0.0</td>\n",
       "      <td>0.0</td>\n",
       "      <td>0.0</td>\n",
       "      <td>0.0</td>\n",
       "      <td>0.0</td>\n",
       "      <td>0.0</td>\n",
       "      <td>0.0</td>\n",
       "      <td>...</td>\n",
       "      <td>0.000000</td>\n",
       "      <td>0.0</td>\n",
       "      <td>8.096107</td>\n",
       "      <td>0.733521</td>\n",
       "      <td>0.0</td>\n",
       "      <td>0.45867</td>\n",
       "      <td>0.0</td>\n",
       "      <td>0.000000</td>\n",
       "      <td>0.0</td>\n",
       "      <td>1.038407</td>\n",
       "    </tr>\n",
       "  </tbody>\n",
       "</table>\n",
       "<p>5 rows × 4096 columns</p>\n",
       "</div>"
      ],
      "text/plain": [
       "                0         1         2     3     4     5     6     7     8     \\\n",
       "000000.jpg  0.000000  2.046612  0.000000   0.0   0.0   0.0   0.0   0.0   0.0   \n",
       "000001.jpg  0.000000  0.000000  0.000000   0.0   0.0   0.0   0.0   0.0   0.0   \n",
       "000002.jpg  1.020148  0.000000  0.169499   0.0   0.0   0.0   0.0   0.0   0.0   \n",
       "000003.jpg  0.000000  0.000000  0.000000   0.0   0.0   0.0   0.0   0.0   0.0   \n",
       "000004.jpg  0.000000  1.439687  0.000000   0.0   0.0   0.0   0.0   0.0   0.0   \n",
       "\n",
       "            9       ...         4086  4087      4088      4089  4090     4091  \\\n",
       "000000.jpg   0.0    ...     4.212679   0.0  0.000000  0.000000   0.0  0.00000   \n",
       "000001.jpg   0.0    ...     0.000000   0.0  0.000000  0.000000   0.0  0.00000   \n",
       "000002.jpg   0.0    ...     0.000000   0.0  0.000000  0.000000   0.0  0.00000   \n",
       "000003.jpg   0.0    ...     0.000000   0.0  0.000000  0.000000   0.0  0.00000   \n",
       "000004.jpg   0.0    ...     0.000000   0.0  8.096107  0.733521   0.0  0.45867   \n",
       "\n",
       "            4092      4093  4094      4095  \n",
       "000000.jpg   0.0  0.000000   0.0  2.622912  \n",
       "000001.jpg   0.0  2.123357   0.0  2.621346  \n",
       "000002.jpg   0.0  0.000000   0.0  0.000000  \n",
       "000003.jpg   0.0  0.000000   0.0  0.000000  \n",
       "000004.jpg   0.0  0.000000   0.0  1.038407  \n",
       "\n",
       "[5 rows x 4096 columns]"
      ]
     },
     "execution_count": 67,
     "metadata": {},
     "output_type": "execute_result"
    }
   ],
   "source": [
    "fc7_files.index = img_files[:8000]\n",
    "fc7_files.head()"
   ]
  },
  {
   "cell_type": "code",
   "execution_count": 95,
   "metadata": {
    "collapsed": false
   },
   "outputs": [],
   "source": [
    "veh_df = pd.read_csv(\"labels/vehicles.csv\")\n",
    "anim_df = pd.read_csv(\"labels/animals.csv\")\n",
    "food_df = pd.read_csv(\"labels/food.csv\")\n",
    "all_df = pd.read_csv(\"labels/food.csv\")"
   ]
  },
  {
   "cell_type": "code",
   "execution_count": 100,
   "metadata": {
    "collapsed": false
   },
   "outputs": [],
   "source": [
    "# v_fc7 = veh_df.join(fc7_files, on=\"img\")\n",
    "# v_fc7.to_csv(path)"
   ]
  },
  {
   "cell_type": "code",
   "execution_count": 105,
   "metadata": {
    "collapsed": true
   },
   "outputs": [],
   "source": [
    "def save_flab(path, fc, lab):\n",
    "    \"\"\" Saves csv with features and labels df in specified path\n",
    "    \"\"\"\n",
    "    v_fc7 = lab.join(fc, on=\"img\")\n",
    "    v_fc7.to_csv(path,index=False)"
   ]
  },
  {
   "cell_type": "markdown",
   "metadata": {},
   "source": [
    "## FC8"
   ]
  },
  {
   "cell_type": "code",
   "execution_count": 106,
   "metadata": {
    "collapsed": false
   },
   "outputs": [],
   "source": [
    "fc = fc8_files\n",
    "save_flab(\"features/vehicles_8\",fc,veh_df)\n",
    "save_flab(\"features/animals_8\",fc,anim_df)\n",
    "save_flab(\"features/food_8\",fc,food_df)\n",
    "save_flab(\"features/all_8\",fc,all_df)"
   ]
  },
  {
   "cell_type": "markdown",
   "metadata": {},
   "source": [
    "## FC7"
   ]
  },
  {
   "cell_type": "code",
   "execution_count": 107,
   "metadata": {
    "collapsed": true
   },
   "outputs": [],
   "source": [
    "fc = fc7_files\n",
    "save_flab(\"features/vehicles_7\",fc,veh_df)\n",
    "save_flab(\"features/animals_7\",fc,anim_df)\n",
    "save_flab(\"features/food_7\",fc,food_df)\n",
    "save_flab(\"features/all_7\",fc,all_df)"
   ]
  },
  {
   "cell_type": "code",
   "execution_count": 109,
   "metadata": {
    "collapsed": false
   },
   "outputs": [
    {
     "data": {
      "text/html": [
       "<div>\n",
       "<style>\n",
       "    .dataframe thead tr:only-child th {\n",
       "        text-align: right;\n",
       "    }\n",
       "\n",
       "    .dataframe thead th {\n",
       "        text-align: left;\n",
       "    }\n",
       "\n",
       "    .dataframe tbody tr th {\n",
       "        vertical-align: top;\n",
       "    }\n",
       "</style>\n",
       "<table border=\"1\" class=\"dataframe\">\n",
       "  <thead>\n",
       "    <tr style=\"text-align: right;\">\n",
       "      <th></th>\n",
       "      <th>img</th>\n",
       "      <th>label</th>\n",
       "      <th>0</th>\n",
       "      <th>1</th>\n",
       "      <th>2</th>\n",
       "      <th>3</th>\n",
       "      <th>4</th>\n",
       "      <th>5</th>\n",
       "      <th>6</th>\n",
       "      <th>7</th>\n",
       "      <th>...</th>\n",
       "      <th>990</th>\n",
       "      <th>991</th>\n",
       "      <th>992</th>\n",
       "      <th>993</th>\n",
       "      <th>994</th>\n",
       "      <th>995</th>\n",
       "      <th>996</th>\n",
       "      <th>997</th>\n",
       "      <th>998</th>\n",
       "      <th>999</th>\n",
       "    </tr>\n",
       "  </thead>\n",
       "  <tbody>\n",
       "    <tr>\n",
       "      <th>0</th>\n",
       "      <td>000929.jpg</td>\n",
       "      <td>bus</td>\n",
       "      <td>1.627218</td>\n",
       "      <td>0.377880</td>\n",
       "      <td>0.307824</td>\n",
       "      <td>2.627416</td>\n",
       "      <td>2.429102</td>\n",
       "      <td>2.840889</td>\n",
       "      <td>1.642233</td>\n",
       "      <td>0.292658</td>\n",
       "      <td>...</td>\n",
       "      <td>1.452659</td>\n",
       "      <td>1.927197</td>\n",
       "      <td>0.551249</td>\n",
       "      <td>2.822479</td>\n",
       "      <td>2.331952</td>\n",
       "      <td>3.114079</td>\n",
       "      <td>2.070934</td>\n",
       "      <td>2.101460</td>\n",
       "      <td>0.122191</td>\n",
       "      <td>0.714432</td>\n",
       "    </tr>\n",
       "    <tr>\n",
       "      <th>1</th>\n",
       "      <td>001029.jpg</td>\n",
       "      <td>bus</td>\n",
       "      <td>4.512738</td>\n",
       "      <td>0.661460</td>\n",
       "      <td>2.611738</td>\n",
       "      <td>3.117225</td>\n",
       "      <td>3.452962</td>\n",
       "      <td>4.998893</td>\n",
       "      <td>4.596118</td>\n",
       "      <td>0.965162</td>\n",
       "      <td>...</td>\n",
       "      <td>4.337714</td>\n",
       "      <td>3.225806</td>\n",
       "      <td>2.257134</td>\n",
       "      <td>5.295344</td>\n",
       "      <td>4.487148</td>\n",
       "      <td>4.701539</td>\n",
       "      <td>3.946851</td>\n",
       "      <td>5.127711</td>\n",
       "      <td>2.287492</td>\n",
       "      <td>0.463631</td>\n",
       "    </tr>\n",
       "    <tr>\n",
       "      <th>2</th>\n",
       "      <td>002814.jpg</td>\n",
       "      <td>bus</td>\n",
       "      <td>2.604244</td>\n",
       "      <td>0.323149</td>\n",
       "      <td>2.552835</td>\n",
       "      <td>2.709335</td>\n",
       "      <td>3.002109</td>\n",
       "      <td>3.600496</td>\n",
       "      <td>2.440485</td>\n",
       "      <td>2.265169</td>\n",
       "      <td>...</td>\n",
       "      <td>2.279765</td>\n",
       "      <td>3.550018</td>\n",
       "      <td>2.353019</td>\n",
       "      <td>4.766788</td>\n",
       "      <td>4.149428</td>\n",
       "      <td>3.594605</td>\n",
       "      <td>3.127750</td>\n",
       "      <td>3.617964</td>\n",
       "      <td>0.226811</td>\n",
       "      <td>1.952746</td>\n",
       "    </tr>\n",
       "    <tr>\n",
       "      <th>3</th>\n",
       "      <td>003471.jpg</td>\n",
       "      <td>bus</td>\n",
       "      <td>2.798012</td>\n",
       "      <td>0.355771</td>\n",
       "      <td>0.485234</td>\n",
       "      <td>3.587728</td>\n",
       "      <td>3.029707</td>\n",
       "      <td>4.233265</td>\n",
       "      <td>4.273107</td>\n",
       "      <td>0.028112</td>\n",
       "      <td>...</td>\n",
       "      <td>2.806098</td>\n",
       "      <td>2.276053</td>\n",
       "      <td>1.335495</td>\n",
       "      <td>5.033137</td>\n",
       "      <td>4.004633</td>\n",
       "      <td>3.872140</td>\n",
       "      <td>3.425919</td>\n",
       "      <td>3.769513</td>\n",
       "      <td>1.894590</td>\n",
       "      <td>0.701988</td>\n",
       "    </tr>\n",
       "    <tr>\n",
       "      <th>4</th>\n",
       "      <td>003646.jpg</td>\n",
       "      <td>bus</td>\n",
       "      <td>2.584646</td>\n",
       "      <td>1.396602</td>\n",
       "      <td>2.251863</td>\n",
       "      <td>1.183023</td>\n",
       "      <td>0.711098</td>\n",
       "      <td>2.932277</td>\n",
       "      <td>2.163361</td>\n",
       "      <td>1.587651</td>\n",
       "      <td>...</td>\n",
       "      <td>2.375180</td>\n",
       "      <td>0.990019</td>\n",
       "      <td>1.497343</td>\n",
       "      <td>3.007614</td>\n",
       "      <td>2.136327</td>\n",
       "      <td>1.764058</td>\n",
       "      <td>1.369212</td>\n",
       "      <td>3.070705</td>\n",
       "      <td>0.145640</td>\n",
       "      <td>1.415545</td>\n",
       "    </tr>\n",
       "  </tbody>\n",
       "</table>\n",
       "<p>5 rows × 1002 columns</p>\n",
       "</div>"
      ],
      "text/plain": [
       "          img label         0         1         2         3         4  \\\n",
       "0  000929.jpg   bus  1.627218  0.377880  0.307824  2.627416  2.429102   \n",
       "1  001029.jpg   bus  4.512738  0.661460  2.611738  3.117225  3.452962   \n",
       "2  002814.jpg   bus  2.604244  0.323149  2.552835  2.709335  3.002109   \n",
       "3  003471.jpg   bus  2.798012  0.355771  0.485234  3.587728  3.029707   \n",
       "4  003646.jpg   bus  2.584646  1.396602  2.251863  1.183023  0.711098   \n",
       "\n",
       "          5         6         7    ...          990       991       992  \\\n",
       "0  2.840889  1.642233  0.292658    ...     1.452659  1.927197  0.551249   \n",
       "1  4.998893  4.596118  0.965162    ...     4.337714  3.225806  2.257134   \n",
       "2  3.600496  2.440485  2.265169    ...     2.279765  3.550018  2.353019   \n",
       "3  4.233265  4.273107  0.028112    ...     2.806098  2.276053  1.335495   \n",
       "4  2.932277  2.163361  1.587651    ...     2.375180  0.990019  1.497343   \n",
       "\n",
       "        993       994       995       996       997       998       999  \n",
       "0  2.822479  2.331952  3.114079  2.070934  2.101460  0.122191  0.714432  \n",
       "1  5.295344  4.487148  4.701539  3.946851  5.127711  2.287492  0.463631  \n",
       "2  4.766788  4.149428  3.594605  3.127750  3.617964  0.226811  1.952746  \n",
       "3  5.033137  4.004633  3.872140  3.425919  3.769513  1.894590  0.701988  \n",
       "4  3.007614  2.136327  1.764058  1.369212  3.070705  0.145640  1.415545  \n",
       "\n",
       "[5 rows x 1002 columns]"
      ]
     },
     "execution_count": 109,
     "metadata": {},
     "output_type": "execute_result"
    }
   ],
   "source": [
    "pd.read_csv(\"features/vehicles_8\").head()"
   ]
  },
  {
   "cell_type": "code",
   "execution_count": null,
   "metadata": {
    "collapsed": true
   },
   "outputs": [],
   "source": []
  }
 ],
 "metadata": {
  "kernelspec": {
   "display_name": "Python 2",
   "language": "python",
   "name": "python2"
  },
  "language_info": {
   "codemirror_mode": {
    "name": "ipython",
    "version": 2
   },
   "file_extension": ".py",
   "mimetype": "text/x-python",
   "name": "python",
   "nbconvert_exporter": "python",
   "pygments_lexer": "ipython2",
   "version": "2.7.13"
  }
 },
 "nbformat": 4,
 "nbformat_minor": 2
}
