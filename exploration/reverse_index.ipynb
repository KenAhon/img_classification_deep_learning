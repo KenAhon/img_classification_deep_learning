{
 "cells": [
  {
   "cell_type": "code",
   "execution_count": 26,
   "metadata": {},
   "outputs": [],
   "source": [
    "# import spacy\n",
    "import pandas as pd\n",
    "import pickle as pk\n",
    "# import gensim"
   ]
  },
  {
   "cell_type": "code",
   "execution_count": 27,
   "metadata": {},
   "outputs": [],
   "source": [
    "vocab=pd.read_csv(\"../dataset/vocab.csv\")[\"vocab\"]"
   ]
  },
  {
   "cell_type": "code",
   "execution_count": 28,
   "metadata": {},
   "outputs": [
    {
     "data": {
      "text/plain": [
       "0                leopard\n",
       "1                 potter\n",
       "2    varanus komodoensis\n",
       "3                thunder\n",
       "4             plate rack\n",
       "Name: vocab, dtype: object"
      ]
     },
     "execution_count": 28,
     "metadata": {},
     "output_type": "execute_result"
    }
   ],
   "source": [
    "vocab.head()"
   ]
  },
  {
   "cell_type": "code",
   "execution_count": 29,
   "metadata": {},
   "outputs": [],
   "source": [
    "output = pd.read_pickle(\"../dataset/inception_output_layer_f2\")"
   ]
  },
  {
   "cell_type": "code",
   "execution_count": 30,
   "metadata": {},
   "outputs": [
    {
     "data": {
      "text/html": [
       "<div>\n",
       "<style scoped>\n",
       "    .dataframe tbody tr th:only-of-type {\n",
       "        vertical-align: middle;\n",
       "    }\n",
       "\n",
       "    .dataframe tbody tr th {\n",
       "        vertical-align: top;\n",
       "    }\n",
       "\n",
       "    .dataframe thead th {\n",
       "        text-align: right;\n",
       "    }\n",
       "</style>\n",
       "<table border=\"1\" class=\"dataframe\">\n",
       "  <thead>\n",
       "    <tr style=\"text-align: right;\">\n",
       "      <th></th>\n",
       "      <th>img</th>\n",
       "      <th>output layer</th>\n",
       "      <th>scores</th>\n",
       "    </tr>\n",
       "  </thead>\n",
       "  <tbody>\n",
       "    <tr>\n",
       "      <th>0</th>\n",
       "      <td>029599.jpg</td>\n",
       "      <td>[8.56041e-06, 7.97617e-06, 1.79152e-05, 3.7247...</td>\n",
       "      <td>{'alp': 0.967034, 'valley': 0.0136182, 'mounta...</td>\n",
       "    </tr>\n",
       "    <tr>\n",
       "      <th>1</th>\n",
       "      <td>013369.jpg</td>\n",
       "      <td>[2.58352e-05, 1.43098e-05, 3.03804e-05, 1.8103...</td>\n",
       "      <td>{'groin': 0.952986, 'groyne': 0.952986, 'mole'...</td>\n",
       "    </tr>\n",
       "    <tr>\n",
       "      <th>2</th>\n",
       "      <td>023620.jpg</td>\n",
       "      <td>[2.48684e-05, 2.80843e-05, 1.79409e-05, 1.1612...</td>\n",
       "      <td>{'barn': 0.948197, 'boathouse': 0.010576, 'wor...</td>\n",
       "    </tr>\n",
       "    <tr>\n",
       "      <th>3</th>\n",
       "      <td>004139.jpg</td>\n",
       "      <td>[0.00025399, 0.000173421, 0.000117245, 0.00025...</td>\n",
       "      <td>{'pot': 0.346745, 'flowerpot': 0.346745, 'terr...</td>\n",
       "    </tr>\n",
       "    <tr>\n",
       "      <th>4</th>\n",
       "      <td>036728.jpg</td>\n",
       "      <td>[0.000127009, 5.8184e-05, 0.000140877, 0.00025...</td>\n",
       "      <td>{'jean': 0.312845, 'denim': 0.312845, 'telepho...</td>\n",
       "    </tr>\n",
       "  </tbody>\n",
       "</table>\n",
       "</div>"
      ],
      "text/plain": [
       "          img                                       output layer  \\\n",
       "0  029599.jpg  [8.56041e-06, 7.97617e-06, 1.79152e-05, 3.7247...   \n",
       "1  013369.jpg  [2.58352e-05, 1.43098e-05, 3.03804e-05, 1.8103...   \n",
       "2  023620.jpg  [2.48684e-05, 2.80843e-05, 1.79409e-05, 1.1612...   \n",
       "3  004139.jpg  [0.00025399, 0.000173421, 0.000117245, 0.00025...   \n",
       "4  036728.jpg  [0.000127009, 5.8184e-05, 0.000140877, 0.00025...   \n",
       "\n",
       "                                              scores  \n",
       "0  {'alp': 0.967034, 'valley': 0.0136182, 'mounta...  \n",
       "1  {'groin': 0.952986, 'groyne': 0.952986, 'mole'...  \n",
       "2  {'barn': 0.948197, 'boathouse': 0.010576, 'wor...  \n",
       "3  {'pot': 0.346745, 'flowerpot': 0.346745, 'terr...  \n",
       "4  {'jean': 0.312845, 'denim': 0.312845, 'telepho...  "
      ]
     },
     "execution_count": 30,
     "metadata": {},
     "output_type": "execute_result"
    }
   ],
   "source": [
    "output.head()"
   ]
  },
  {
   "cell_type": "code",
   "execution_count": 31,
   "metadata": {},
   "outputs": [
    {
     "data": {
      "text/html": [
       "<div>\n",
       "<style scoped>\n",
       "    .dataframe tbody tr th:only-of-type {\n",
       "        vertical-align: middle;\n",
       "    }\n",
       "\n",
       "    .dataframe tbody tr th {\n",
       "        vertical-align: top;\n",
       "    }\n",
       "\n",
       "    .dataframe thead th {\n",
       "        text-align: right;\n",
       "    }\n",
       "</style>\n",
       "<table border=\"1\" class=\"dataframe\">\n",
       "  <thead>\n",
       "    <tr style=\"text-align: right;\">\n",
       "      <th></th>\n",
       "      <th>image</th>\n",
       "    </tr>\n",
       "    <tr>\n",
       "      <th>vocab</th>\n",
       "      <th></th>\n",
       "    </tr>\n",
       "  </thead>\n",
       "  <tbody>\n",
       "    <tr>\n",
       "      <th>leopard</th>\n",
       "      <td>NaN</td>\n",
       "    </tr>\n",
       "    <tr>\n",
       "      <th>potter</th>\n",
       "      <td>NaN</td>\n",
       "    </tr>\n",
       "    <tr>\n",
       "      <th>varanus komodoensis</th>\n",
       "      <td>NaN</td>\n",
       "    </tr>\n",
       "    <tr>\n",
       "      <th>thunder</th>\n",
       "      <td>NaN</td>\n",
       "    </tr>\n",
       "    <tr>\n",
       "      <th>plate rack</th>\n",
       "      <td>NaN</td>\n",
       "    </tr>\n",
       "  </tbody>\n",
       "</table>\n",
       "</div>"
      ],
      "text/plain": [
       "                    image\n",
       "vocab                    \n",
       "leopard               NaN\n",
       "potter                NaN\n",
       "varanus komodoensis   NaN\n",
       "thunder               NaN\n",
       "plate rack            NaN"
      ]
     },
     "execution_count": 31,
     "metadata": {},
     "output_type": "execute_result"
    }
   ],
   "source": [
    "inverted_index = pd.DataFrame(index=vocab, columns=[\"image\"])\n",
    "inverted_index.head()"
   ]
  },
  {
   "cell_type": "code",
   "execution_count": 32,
   "metadata": {},
   "outputs": [],
   "source": [
    "def invert_index(row):\n",
    "    scores = row[\"scores\"]\n",
    "    for key, value in scores.items():\n",
    "        if pd.isna(inverted_index.loc[key]).any():\n",
    "            inverted_index.loc[key][\"image\"] = {value: row.img}\n",
    "        else :\n",
    "            inverted_index.loc[key][\"image\"].update({value: row.img})"
   ]
  },
  {
   "cell_type": "code",
   "execution_count": null,
   "metadata": {},
   "outputs": [],
   "source": []
  },
  {
   "cell_type": "code",
   "execution_count": 33,
   "metadata": {},
   "outputs": [
    {
     "data": {
      "text/plain": [
       "0        None\n",
       "1        None\n",
       "2        None\n",
       "3        None\n",
       "4        None\n",
       "5        None\n",
       "6        None\n",
       "7        None\n",
       "8        None\n",
       "9        None\n",
       "10       None\n",
       "11       None\n",
       "12       None\n",
       "13       None\n",
       "14       None\n",
       "15       None\n",
       "16       None\n",
       "17       None\n",
       "18       None\n",
       "19       None\n",
       "20       None\n",
       "21       None\n",
       "22       None\n",
       "23       None\n",
       "24       None\n",
       "25       None\n",
       "26       None\n",
       "27       None\n",
       "28       None\n",
       "29       None\n",
       "         ... \n",
       "37515    None\n",
       "37516    None\n",
       "37517    None\n",
       "37518    None\n",
       "37519    None\n",
       "37520    None\n",
       "37521    None\n",
       "37522    None\n",
       "37523    None\n",
       "37524    None\n",
       "37525    None\n",
       "37526    None\n",
       "37527    None\n",
       "37528    None\n",
       "37529    None\n",
       "37530    None\n",
       "37531    None\n",
       "37532    None\n",
       "37533    None\n",
       "37534    None\n",
       "37535    None\n",
       "37536    None\n",
       "37537    None\n",
       "37538    None\n",
       "37539    None\n",
       "37540    None\n",
       "37541    None\n",
       "37542    None\n",
       "37543    None\n",
       "37544    None\n",
       "Length: 37545, dtype: object"
      ]
     },
     "execution_count": 33,
     "metadata": {},
     "output_type": "execute_result"
    }
   ],
   "source": [
    "inverted_index = pd.DataFrame(index=vocab, columns=[\"image\"])\n",
    "output.apply(invert_index, axis = 1)"
   ]
  },
  {
   "cell_type": "code",
   "execution_count": 34,
   "metadata": {},
   "outputs": [
    {
     "data": {
      "text/html": [
       "<div>\n",
       "<style scoped>\n",
       "    .dataframe tbody tr th:only-of-type {\n",
       "        vertical-align: middle;\n",
       "    }\n",
       "\n",
       "    .dataframe tbody tr th {\n",
       "        vertical-align: top;\n",
       "    }\n",
       "\n",
       "    .dataframe thead th {\n",
       "        text-align: right;\n",
       "    }\n",
       "</style>\n",
       "<table border=\"1\" class=\"dataframe\">\n",
       "  <thead>\n",
       "    <tr style=\"text-align: right;\">\n",
       "      <th></th>\n",
       "      <th>image</th>\n",
       "    </tr>\n",
       "    <tr>\n",
       "      <th>vocab</th>\n",
       "      <th></th>\n",
       "    </tr>\n",
       "  </thead>\n",
       "  <tbody>\n",
       "    <tr>\n",
       "      <th>leopard</th>\n",
       "      <td>{0.000352009: '013650.jpg', 0.00103964: '02672...</td>\n",
       "    </tr>\n",
       "    <tr>\n",
       "      <th>potter</th>\n",
       "      <td>{0.262947: '016122.jpg', 0.0380334: '012267.jp...</td>\n",
       "    </tr>\n",
       "    <tr>\n",
       "      <th>varanus komodoensis</th>\n",
       "      <td>{0.0370052: '035762.jpg', 0.00179766: '010585....</td>\n",
       "    </tr>\n",
       "    <tr>\n",
       "      <th>thunder</th>\n",
       "      <td>{0.0786094: '037468.jpg', 0.358049: '027463.jp...</td>\n",
       "    </tr>\n",
       "    <tr>\n",
       "      <th>plate rack</th>\n",
       "      <td>{0.18627: '026644.jpg', 0.000332891: '025402.j...</td>\n",
       "    </tr>\n",
       "  </tbody>\n",
       "</table>\n",
       "</div>"
      ],
      "text/plain": [
       "                                                                 image\n",
       "vocab                                                                 \n",
       "leopard              {0.000352009: '013650.jpg', 0.00103964: '02672...\n",
       "potter               {0.262947: '016122.jpg', 0.0380334: '012267.jp...\n",
       "varanus komodoensis  {0.0370052: '035762.jpg', 0.00179766: '010585....\n",
       "thunder              {0.0786094: '037468.jpg', 0.358049: '027463.jp...\n",
       "plate rack           {0.18627: '026644.jpg', 0.000332891: '025402.j..."
      ]
     },
     "execution_count": 34,
     "metadata": {},
     "output_type": "execute_result"
    }
   ],
   "source": [
    "inverted_index.head()"
   ]
  },
  {
   "cell_type": "code",
   "execution_count": 35,
   "metadata": {},
   "outputs": [],
   "source": [
    "with open(\"../dataset/inverted_index\", 'wb') as f:\n",
    "    pk.dump(inverted_index, f, protocol=2)"
   ]
  },
  {
   "cell_type": "code",
   "execution_count": 11,
   "metadata": {},
   "outputs": [],
   "source": [
    "unsorted_image = pd.read_pickle(\"../dataset/inverted_index\")\n",
    "# unsorted_image.loc[\"boot\"].image[sorted(unsorted_image.loc[\"boot\"].image, reverse=True)]"
   ]
  },
  {
   "cell_type": "code",
   "execution_count": 25,
   "metadata": {},
   "outputs": [
    {
     "data": {
      "text/plain": [
       "(0.99324858, '004487.jpg')"
      ]
     },
     "execution_count": 25,
     "metadata": {},
     "output_type": "execute_result"
    }
   ],
   "source": [
    "sorted(unsorted_image.loc[\"mountain\"].image.items(), key=lambda x: x[0], reverse = True)"
   ]
  }
 ],
 "metadata": {
  "kernelspec": {
   "display_name": "Python 3",
   "language": "python",
   "name": "python3"
  },
  "language_info": {
   "codemirror_mode": {
    "name": "ipython",
    "version": 3
   },
   "file_extension": ".py",
   "mimetype": "text/x-python",
   "name": "python",
   "nbconvert_exporter": "python",
   "pygments_lexer": "ipython3",
   "version": "3.6.3"
  }
 },
 "nbformat": 4,
 "nbformat_minor": 2
}
