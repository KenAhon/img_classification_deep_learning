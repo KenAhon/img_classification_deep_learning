{
 "cells": [
  {
   "cell_type": "code",
   "execution_count": 1,
   "metadata": {
    "collapsed": true
   },
   "outputs": [],
   "source": [
    "import pandas as pd \n",
    "import numpy as np\n",
    "from os import listdir\n",
    "from os.path import isfile, join"
   ]
  },
  {
   "cell_type": "code",
   "execution_count": 2,
   "metadata": {
    "collapsed": false
   },
   "outputs": [],
   "source": [
    "mypath_lst = [\"stefan\", \"shohel\",\"almat\", \"kindy\", \"vamshi\", \"igor\"]\n",
    "# onlyfiles = [f for f in listdir(mypath)]"
   ]
  },
  {
   "cell_type": "code",
   "execution_count": 3,
   "metadata": {
    "collapsed": true
   },
   "outputs": [],
   "source": [
    "file_name = \"o_c.csv\""
   ]
  },
  {
   "cell_type": "code",
   "execution_count": 4,
   "metadata": {
    "collapsed": false
   },
   "outputs": [],
   "source": [
    "def load_paths(mypath_list, file_name):\n",
    "    \"\"\" Returns list with paths to all the files with given file name\n",
    "    \"\"\"\n",
    "    paths = []\n",
    "    for mypath in mypath_list:\n",
    "        files = [f for f in listdir(mypath)]\n",
    "        for f in files:\n",
    "            if file_name in listdir(join(mypath,f)):\n",
    "                paths.append(join(join(mypath,f), file_name))\n",
    "    #         print(listdir(join(path,f)))\n",
    "    return paths"
   ]
  },
  {
   "cell_type": "code",
   "execution_count": 5,
   "metadata": {
    "collapsed": false
   },
   "outputs": [],
   "source": [
    "# pd.read_csv(load_paths(mypath_lst, file_name)[1], header = None, names = [\"img\",\"r@5\",\"r@10\",\"r@20\"])"
   ]
  },
  {
   "cell_type": "code",
   "execution_count": 6,
   "metadata": {
    "collapsed": false
   },
   "outputs": [],
   "source": [
    "# load_paths(mypath_lst, file_name)"
   ]
  },
  {
   "cell_type": "code",
   "execution_count": 7,
   "metadata": {
    "collapsed": false
   },
   "outputs": [],
   "source": [
    "def load_dataframes(mypath_lst, file_name):\n",
    "    \"\"\" Returns a data frame with all scores collected for the given file name\n",
    "    \"\"\"\n",
    "    df_lst = []\n",
    "    paths = load_paths(mypath_lst, file_name)\n",
    "    for path in paths:\n",
    "#         print(path)\n",
    "        df = pd.read_csv(path, header = None, names = [\"img\",\"r@5\",\"r@10\",\"r@20\"])\n",
    "#         print(df)\n",
    "        df_lst.append(df)\n",
    "    return pd.concat(df_lst)"
   ]
  },
  {
   "cell_type": "code",
   "execution_count": 8,
   "metadata": {
    "collapsed": false,
    "scrolled": false
   },
   "outputs": [],
   "source": [
    "df = load_dataframes(mypath_lst, \"t_c.csv\")"
   ]
  },
  {
   "cell_type": "code",
   "execution_count": 9,
   "metadata": {
    "collapsed": false
   },
   "outputs": [],
   "source": [
    "# groups = df.groupby('img')"
   ]
  },
  {
   "cell_type": "code",
   "execution_count": 10,
   "metadata": {
    "collapsed": false
   },
   "outputs": [],
   "source": [
    "# df = groups.agg({'r@5':np.mean,\"r@10\":np.mean ,\"r@20\":np.mean})"
   ]
  },
  {
   "cell_type": "code",
   "execution_count": 11,
   "metadata": {
    "collapsed": false
   },
   "outputs": [],
   "source": [
    "# cols = df.mean().index\n",
    "# values = df.mean().values\n",
    "# dff = pd.DataFrame(values).T\n",
    "# dff.columns = cols\n",
    "# dff.to_csv(\"patka.csv\", index=False)"
   ]
  },
  {
   "cell_type": "code",
   "execution_count": 12,
   "metadata": {
    "collapsed": false
   },
   "outputs": [
    {
     "data": {
      "text/html": [
       "<div>\n",
       "<style>\n",
       "    .dataframe thead tr:only-child th {\n",
       "        text-align: right;\n",
       "    }\n",
       "\n",
       "    .dataframe thead th {\n",
       "        text-align: left;\n",
       "    }\n",
       "\n",
       "    .dataframe tbody tr th {\n",
       "        vertical-align: top;\n",
       "    }\n",
       "</style>\n",
       "<table border=\"1\" class=\"dataframe\">\n",
       "  <thead>\n",
       "    <tr style=\"text-align: right;\">\n",
       "      <th></th>\n",
       "      <th>r@5</th>\n",
       "      <th>r@10</th>\n",
       "      <th>r@20</th>\n",
       "    </tr>\n",
       "  </thead>\n",
       "  <tbody>\n",
       "    <tr>\n",
       "      <th>0</th>\n",
       "      <td>58.56456</td>\n",
       "      <td>45.630495</td>\n",
       "      <td>34.26511</td>\n",
       "    </tr>\n",
       "  </tbody>\n",
       "</table>\n",
       "</div>"
      ],
      "text/plain": [
       "        r@5       r@10      r@20\n",
       "0  58.56456  45.630495  34.26511"
      ]
     },
     "execution_count": 12,
     "metadata": {},
     "output_type": "execute_result"
    }
   ],
   "source": [
    "pd.read_csv('patka.csv')"
   ]
  },
  {
   "cell_type": "code",
   "execution_count": 19,
   "metadata": {
    "collapsed": true
   },
   "outputs": [],
   "source": [
    "def save_mean_average_results(mypath_lst, directory,file_name):\n",
    "    print(file_name)\n",
    "    df = load_dataframes(mypath_lst, file_name)\n",
    "    df = df[df[\"img\"] != \"001730.jpg\"]\n",
    "    print(len(df[\"r@5\"].unique()))\n",
    "    groups = df.groupby('img')\n",
    "    df = groups.agg({'r@5':np.mean,\"r@10\":np.mean ,\"r@20\":np.mean})\n",
    "    print(df.describe())\n",
    "    cols = df.mean().index\n",
    "    values = df.mean().values\n",
    "    dff = pd.DataFrame(values).T\n",
    "    dff.columns = cols\n",
    "    dff.to_csv(join(directory,file_name), index=False)"
   ]
  },
  {
   "cell_type": "code",
   "execution_count": 20,
   "metadata": {
    "collapsed": false
   },
   "outputs": [
    {
     "name": "stdout",
     "output_type": "stream",
     "text": [
      "o_c.csv\n",
      "21\n",
      "             r@5       r@10       r@20\n",
      "count   9.000000   9.000000   9.000000\n",
      "mean   51.736111  49.515873  47.048611\n",
      "std    25.039862  25.933481  25.305590\n",
      "min    18.125000  11.187500   7.125000\n",
      "25%    22.857143  23.437500  29.937500\n",
      "50%    62.812500  62.687500  52.571429\n",
      "75%    66.428571  64.687500  64.857143\n",
      "max    84.285714  77.142857  79.000000\n",
      "t_c.csv\n",
      "20\n",
      "             r@5       r@10       r@20\n",
      "count   9.000000   9.000000   9.000000\n",
      "mean   62.212302  53.990079  43.319444\n",
      "std    14.674504  20.004108  19.512504\n",
      "min    36.875000  19.562500  10.437500\n",
      "25%    61.562500  53.142857  33.571429\n",
      "50%    69.285714  60.437500  48.571429\n",
      "75%    70.312500  66.500000  54.750000\n",
      "max    76.428571  72.142857  64.000000\n",
      "o_m.csv\n",
      "21\n",
      "             r@5       r@10       r@20\n",
      "count   9.000000   9.000000   9.000000\n",
      "mean   52.708333  49.880026  47.755291\n",
      "std    21.166647  19.973945  19.779505\n",
      "min    22.142857  17.714286  15.428571\n",
      "25%    35.000000  27.750000  29.000000\n",
      "50%    55.937500  60.000000  55.437500\n",
      "75%    66.562500  62.500000  59.000000\n",
      "max    82.142857  69.142857  73.142857\n",
      "t_m.csv\n",
      "21\n",
      "             r@5       r@10       r@20\n",
      "count   9.000000   9.000000   9.000000\n",
      "mean   58.596230  55.198413  41.889881\n",
      "std    18.770969  21.592562  18.711738\n",
      "min    25.714286  18.142857  13.428571\n",
      "25%    46.875000  39.375000  31.750000\n",
      "50%    64.375000  60.937500  40.000000\n",
      "75%    72.142857  73.000000  55.562500\n",
      "max    80.714286  78.857143  67.142857\n",
      "o_e.csv\n",
      "20\n",
      "             r@5       r@10       r@20\n",
      "count   9.000000   9.000000   9.000000\n",
      "mean   45.739087  41.228175  39.552579\n",
      "std    26.996530  27.728631  24.801149\n",
      "min    12.812500   6.750000   3.375000\n",
      "25%    20.000000  14.312500  17.500000\n",
      "50%    56.428571  52.714286  50.285714\n",
      "75%    66.250000  65.437500  56.687500\n",
      "max    81.428571  77.571429  77.285714\n",
      "t_e.csv\n",
      "21\n",
      "             r@5       r@10       r@20\n",
      "count   9.000000   9.000000   9.000000\n",
      "mean   57.356151  54.951389  42.979167\n",
      "std    21.252588  20.370999  20.791845\n",
      "min    15.714286  19.857143  10.857143\n",
      "25%    45.937500  41.312500  35.375000\n",
      "50%    66.428571  61.250000  37.571429\n",
      "75%    70.937500  70.000000  59.285714\n",
      "max    76.428571  74.428571  70.062500\n"
     ]
    }
   ],
   "source": [
    "file_names = [\"o_c.csv\", \"t_c.csv\", \"o_m.csv\", \"t_m.csv\", \"o_e.csv\", \"t_e.csv\"]\n",
    "for file in file_names:\n",
    "    save_mean_average_results(mypath_lst, \"scores\", file)"
   ]
  }
 ],
 "metadata": {
  "kernelspec": {
   "display_name": "Python 3",
   "language": "python",
   "name": "python3"
  },
  "language_info": {
   "codemirror_mode": {
    "name": "ipython",
    "version": 3
   },
   "file_extension": ".py",
   "mimetype": "text/x-python",
   "name": "python",
   "nbconvert_exporter": "python",
   "pygments_lexer": "ipython3",
   "version": "3.6.0"
  }
 },
 "nbformat": 4,
 "nbformat_minor": 2
}
