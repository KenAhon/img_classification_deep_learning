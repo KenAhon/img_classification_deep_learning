{
 "cells": [
  {
   "cell_type": "code",
   "execution_count": 1,
   "metadata": {
    "collapsed": true
   },
   "outputs": [],
   "source": [
    "import pandas as pd \n",
    "import numpy as np\n",
    "from os import listdir\n",
    "from os.path import isfile, join"
   ]
  },
  {
   "cell_type": "code",
   "execution_count": 2,
   "metadata": {
    "collapsed": false
   },
   "outputs": [],
   "source": [
    "mypath_lst = [\"stefan\", \"shohel\",\"almat\", \"kindy\", \"vamshi\", \"igor\"]\n",
    "# onlyfiles = [f for f in listdir(mypath)]"
   ]
  },
  {
   "cell_type": "code",
   "execution_count": 3,
   "metadata": {
    "collapsed": true
   },
   "outputs": [],
   "source": [
    "file_name = \"o_c.csv\""
   ]
  },
  {
   "cell_type": "code",
   "execution_count": 4,
   "metadata": {
    "collapsed": false
   },
   "outputs": [],
   "source": [
    "def load_paths(mypath_list, file_name):\n",
    "    \"\"\" Returns list with paths to all the files with given file name\n",
    "    \"\"\"\n",
    "    paths = []\n",
    "    for mypath in mypath_list:\n",
    "        files = [f for f in listdir(mypath)]\n",
    "        for f in files:\n",
    "            if file_name in listdir(join(mypath,f)):\n",
    "                paths.append(join(join(mypath,f), file_name))\n",
    "    #         print(listdir(join(path,f)))\n",
    "    return paths"
   ]
  },
  {
   "cell_type": "code",
   "execution_count": 5,
   "metadata": {
    "collapsed": false
   },
   "outputs": [],
   "source": [
    "# pd.read_csv(load_paths(mypath_lst, file_name)[1], header = None, names = [\"img\",\"r@5\",\"r@10\",\"r@20\"])"
   ]
  },
  {
   "cell_type": "code",
   "execution_count": 6,
   "metadata": {
    "collapsed": false
   },
   "outputs": [],
   "source": [
    "# load_paths(mypath_lst, file_name)"
   ]
  },
  {
   "cell_type": "code",
   "execution_count": 7,
   "metadata": {
    "collapsed": false
   },
   "outputs": [],
   "source": [
    "def load_dataframes(mypath_lst, file_name):\n",
    "    \"\"\" Returns a data frame with all scores collected for the given file name\n",
    "    \"\"\"\n",
    "    df_lst = []\n",
    "    paths = load_paths(mypath_lst, file_name)\n",
    "    for path in paths:\n",
    "#         print(path)\n",
    "        df = pd.read_csv(path, header = None, names = [\"img\",\"r@5\",\"r@10\",\"r@20\"])\n",
    "#         print(df)\n",
    "        df_lst.append(df)\n",
    "    return pd.concat(df_lst)"
   ]
  },
  {
   "cell_type": "code",
   "execution_count": 8,
   "metadata": {
    "collapsed": false,
    "scrolled": false
   },
   "outputs": [],
   "source": [
    "df = load_dataframes(mypath_lst, \"t_c.csv\")"
   ]
  },
  {
   "cell_type": "code",
   "execution_count": 9,
   "metadata": {
    "collapsed": false
   },
   "outputs": [],
   "source": [
    "# groups = df.groupby('img')"
   ]
  },
  {
   "cell_type": "code",
   "execution_count": 10,
   "metadata": {
    "collapsed": false
   },
   "outputs": [],
   "source": [
    "# df = groups.agg({'r@5':np.mean,\"r@10\":np.mean ,\"r@20\":np.mean})"
   ]
  },
  {
   "cell_type": "code",
   "execution_count": 11,
   "metadata": {
    "collapsed": false
   },
   "outputs": [],
   "source": [
    "# cols = df.mean().index\n",
    "# values = df.mean().values\n",
    "# dff = pd.DataFrame(values).T\n",
    "# dff.columns = cols\n",
    "# dff.to_csv(\"patka.csv\", index=False)"
   ]
  },
  {
   "cell_type": "code",
   "execution_count": 12,
   "metadata": {
    "collapsed": false
   },
   "outputs": [
    {
     "data": {
      "text/html": [
       "<div>\n",
       "<style>\n",
       "    .dataframe thead tr:only-child th {\n",
       "        text-align: right;\n",
       "    }\n",
       "\n",
       "    .dataframe thead th {\n",
       "        text-align: left;\n",
       "    }\n",
       "\n",
       "    .dataframe tbody tr th {\n",
       "        vertical-align: top;\n",
       "    }\n",
       "</style>\n",
       "<table border=\"1\" class=\"dataframe\">\n",
       "  <thead>\n",
       "    <tr style=\"text-align: right;\">\n",
       "      <th></th>\n",
       "      <th>r@5</th>\n",
       "      <th>r@10</th>\n",
       "      <th>r@20</th>\n",
       "    </tr>\n",
       "  </thead>\n",
       "  <tbody>\n",
       "    <tr>\n",
       "      <th>0</th>\n",
       "      <td>58.56456</td>\n",
       "      <td>45.630495</td>\n",
       "      <td>34.26511</td>\n",
       "    </tr>\n",
       "  </tbody>\n",
       "</table>\n",
       "</div>"
      ],
      "text/plain": [
       "        r@5       r@10      r@20\n",
       "0  58.56456  45.630495  34.26511"
      ]
     },
     "execution_count": 12,
     "metadata": {},
     "output_type": "execute_result"
    }
   ],
   "source": [
    "pd.read_csv('patka.csv')"
   ]
  },
  {
   "cell_type": "code",
   "execution_count": 13,
   "metadata": {
    "collapsed": true
   },
   "outputs": [],
   "source": [
    "def save_mean_average_results(mypath_lst, directory,file_name):\n",
    "    print(file_name)\n",
    "    df = load_dataframes(mypath_lst, file_name)\n",
    "    df = df[df[\"img\"] != \"001730.jpg\"]\n",
    "    print(len(df[\"r@5\"].unique()))\n",
    "    groups = df.groupby('img')\n",
    "    df = groups.agg({'r@5':np.mean,\"r@10\":np.mean ,\"r@20\":np.mean})\n",
    "    print(df.describe())\n",
    "    cols = df.mean().index\n",
    "    values = df.mean().values\n",
    "    dff = pd.DataFrame(values).T\n",
    "    dff.columns = cols\n",
    "    dff.to_csv(join(directory,file_name), index=False)"
   ]
  },
  {
   "cell_type": "code",
   "execution_count": 14,
   "metadata": {
    "collapsed": false
   },
   "outputs": [
    {
     "name": "stdout",
     "output_type": "stream",
     "text": [
      "o_c.csv\n",
      "21\n",
      "             r@5       r@10       r@20\n",
      "count  16.000000  16.000000  16.000000\n",
      "mean   49.443824  48.257292  45.578683\n",
      "std    22.013571  22.757555  21.845674\n",
      "min    17.857143  11.187500   7.125000\n",
      "25%    30.375000  28.609375  28.578125\n",
      "50%    56.437500  57.335714  49.518750\n",
      "75%    63.962054  64.546875  59.613839\n",
      "max    84.166667  80.833333  75.285714\n",
      "t_c.csv\n",
      "21\n",
      "             r@5       r@10       r@20\n",
      "count  18.000000  18.000000  18.000000\n",
      "mean   60.083664  50.826257  40.575728\n",
      "std    15.587010  18.139495  19.900562\n",
      "min    20.000000  10.000000   5.000000\n",
      "25%    59.250000  44.089286  23.625000\n",
      "50%    62.928571  58.850000  42.750000\n",
      "75%    68.906250  63.007143  55.237500\n",
      "max    85.000000  72.642857  67.250000\n",
      "o_m.csv\n",
      "21\n",
      "             r@5       r@10       r@20\n",
      "count  17.000000  17.000000  17.000000\n",
      "mean   50.412465  47.496008  44.949230\n",
      "std    17.864730  17.880500  18.425022\n",
      "min    21.875000  16.750000  10.000000\n",
      "25%    35.000000  32.333333  30.833333\n",
      "50%    53.000000  52.714286  48.000000\n",
      "75%    66.562500  62.500000  56.500000\n",
      "max    76.785714  68.812500  70.642857\n",
      "t_m.csv\n",
      "21\n",
      "             r@5       r@10       r@20\n",
      "count  16.000000  16.000000  16.000000\n",
      "mean   60.679129  55.790179  46.119978\n",
      "std    14.491351  15.486653  14.820767\n",
      "min    28.750000  19.000000  13.375000\n",
      "25%    53.125000  48.400000  36.209821\n",
      "50%    64.151786  60.218750  51.468750\n",
      "75%    71.000000  67.157143  55.636161\n",
      "max    80.833333  72.666667  63.600000\n",
      "o_e.csv\n",
      "21\n",
      "             r@5       r@10       r@20\n",
      "count  16.000000  16.000000  16.000000\n",
      "mean   48.177641  43.834152  43.280766\n",
      "std    21.577657  21.318292  19.600032\n",
      "min    12.812500   6.750000   3.375000\n",
      "25%    31.171875  28.400000  27.703125\n",
      "50%    54.500000  48.800000  49.500000\n",
      "75%    66.562500  60.421875  56.546875\n",
      "max    77.500000  74.571429  74.214286\n",
      "t_e.csv\n",
      "21\n",
      "             r@5       r@10       r@20\n",
      "count  16.000000  16.000000  16.000000\n",
      "mean   59.942522  56.957775  45.633594\n",
      "std    16.489954  15.592091  17.806995\n",
      "min    16.875000  20.250000  10.875000\n",
      "25%    56.875000  52.900000  34.924107\n",
      "50%    62.812500  61.041667  46.566667\n",
      "75%    71.203125  67.859375  61.150000\n",
      "max    77.500000  73.500000  70.062500\n"
     ]
    }
   ],
   "source": [
    "file_names = [\"o_c.csv\", \"t_c.csv\", \"o_m.csv\", \"t_m.csv\", \"o_e.csv\", \"t_e.csv\"]\n",
    "for file in file_names:\n",
    "    save_mean_average_results(mypath_lst, \"scores\", file)"
   ]
  }
 ],
 "metadata": {
  "kernelspec": {
   "display_name": "Python 3",
   "language": "python",
   "name": "python3"
  },
  "language_info": {
   "codemirror_mode": {
    "name": "ipython",
    "version": 3
   },
   "file_extension": ".py",
   "mimetype": "text/x-python",
   "name": "python",
   "nbconvert_exporter": "python",
   "pygments_lexer": "ipython3",
   "version": "3.6.0"
  }
 },
 "nbformat": 4,
 "nbformat_minor": 2
}
