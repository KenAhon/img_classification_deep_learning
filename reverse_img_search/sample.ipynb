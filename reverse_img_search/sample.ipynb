{
 "cells": [
  {
   "cell_type": "code",
   "execution_count": 1,
   "metadata": {
    "collapsed": true
   },
   "outputs": [],
   "source": [
    "from annoy import AnnoyIndex\n",
    "import pandas as pd \n",
    "import numpy as np\n",
    "import os \n",
    "from os.path import join\n",
    "import gc"
   ]
  },
  {
   "cell_type": "markdown",
   "metadata": {},
   "source": [
    "# Path"
   ]
  },
  {
   "cell_type": "code",
   "execution_count": 2,
   "metadata": {
    "collapsed": true
   },
   "outputs": [],
   "source": [
    "path=\"../data/annoy_test/index.ann\"\n",
    "path_load = \"../data/annoy_test/index.ann\""
   ]
  },
  {
   "cell_type": "code",
   "execution_count": 3,
   "metadata": {
    "collapsed": true
   },
   "outputs": [],
   "source": [
    "def load_data_np(features_path):\n",
    "\t\"\"\" Loads pickled data into a np array, sorted by images ascending, returns np array of vectors and a np array of images (sorted)\n",
    "\t\"\"\"\n",
    "\tprint(\"Loading data..\\n\\n\")\n",
    "\n",
    "\tdata = pd.read_pickle(features_path)\n",
    "\n",
    "\t# data = data.head(1000)\n",
    "\n",
    "\tdata = data.sort_values(\"img\")\n",
    "\n",
    "\timg_lst = data[\"img\"].values\n",
    "\n",
    "\tif \"transfer layer\" in data.columns:\n",
    "\t\tdata = np.array(data[\"transfer layer\"].values)\n",
    "\telif \"output layer\" in data.columns:\n",
    "\t\tdata = np.array(data[\"output layer\"].values)\n",
    "\n",
    "\n",
    "\tdata = [np.array(row) for row in data]\n",
    "\n",
    "\tprint(\"LOADED\\n\")\n",
    "\n",
    "\tn = gc.collect()\n",
    "\n",
    "\treturn data, img_lst"
   ]
  },
  {
   "cell_type": "code",
   "execution_count": 4,
   "metadata": {},
   "outputs": [
    {
     "name": "stdout",
     "output_type": "stream",
     "text": [
      "Loading data..\n",
      "\n",
      "\n",
      "LOADED\n",
      "\n"
     ]
    }
   ],
   "source": [
    "data, img_lst = load_data_np(\"../data/transfer_layer\")"
   ]
  },
  {
   "cell_type": "code",
   "execution_count": 5,
   "metadata": {},
   "outputs": [],
   "source": [
    "# len(data[0])"
   ]
  },
  {
   "cell_type": "code",
   "execution_count": 6,
   "metadata": {
    "collapsed": true
   },
   "outputs": [],
   "source": [
    "def build_Index(data, vector_size, metric=\"euclidean\",trees=10):\n",
    "    \"\"\" Returns Annoy index for specified data, with specified number of trees\n",
    "    \"\"\"\n",
    "    t = AnnoyIndex(vector_size, metric=metric)  # Length of item vector that will be indexed\n",
    "    for count, v in enumerate(data): # 37k\n",
    "        t.add_item(count, v)\n",
    "    print(t)\n",
    "    t.build(trees)\n",
    "    print(t)\n",
    "    print(\"Indexs has been built!\\n\\n\")\n",
    "    return t"
   ]
  },
  {
   "cell_type": "code",
   "execution_count": 7,
   "metadata": {
    "collapsed": true
   },
   "outputs": [],
   "source": [
    "def save_index(t, path):\n",
    "    \"\"\" Saves index on specified path\n",
    "    \"\"\"\n",
    "    t.save(path)\n",
    "    \n",
    "    print(\"Index saved at {}\".format(path))"
   ]
  },
  {
   "cell_type": "code",
   "execution_count": 8,
   "metadata": {
    "collapsed": true
   },
   "outputs": [],
   "source": [
    "def load_index(path, vector_size=2048):\n",
    "    \"\"\" Loads index from specified file and returnes it \n",
    "    \"\"\"\n",
    "    t = AnnoyIndex(vector_size)\n",
    "    t.load(path)\n",
    "    return t"
   ]
  },
  {
   "cell_type": "code",
   "execution_count": 9,
   "metadata": {},
   "outputs": [
    {
     "name": "stdout",
     "output_type": "stream",
     "text": [
      "<annoy.Annoy object at 0x7f9e48bdee10>\n",
      "<annoy.Annoy object at 0x7f9e48bdee10>\n",
      "Indexs has been built!\n",
      "\n",
      "\n"
     ]
    }
   ],
   "source": [
    "t = build_Index(data, len(data[0]))"
   ]
  },
  {
   "cell_type": "code",
   "execution_count": 10,
   "metadata": {},
   "outputs": [
    {
     "name": "stdout",
     "output_type": "stream",
     "text": [
      "Index saved at ../data/annoy_test/index.ann\n"
     ]
    }
   ],
   "source": [
    "save_index(t,path)"
   ]
  },
  {
   "cell_type": "code",
   "execution_count": 11,
   "metadata": {
    "collapsed": true
   },
   "outputs": [],
   "source": [
    "n = gc.collect()"
   ]
  },
  {
   "cell_type": "code",
   "execution_count": null,
   "metadata": {
    "collapsed": true
   },
   "outputs": [],
   "source": [
    "t = load_index(path_load)"
   ]
  },
  {
   "cell_type": "code",
   "execution_count": null,
   "metadata": {
    "collapsed": true
   },
   "outputs": [],
   "source": [
    "x = t.get_nns_by_vector(data[0], n=50)"
   ]
  },
  {
   "cell_type": "code",
   "execution_count": null,
   "metadata": {
    "collapsed": true
   },
   "outputs": [],
   "source": []
  }
 ],
 "metadata": {
  "kernelspec": {
   "display_name": "Python 3",
   "language": "python",
   "name": "python3"
  },
  "language_info": {
   "codemirror_mode": {
    "name": "ipython",
    "version": 3
   },
   "file_extension": ".py",
   "mimetype": "text/x-python",
   "name": "python",
   "nbconvert_exporter": "python",
   "pygments_lexer": "ipython3",
   "version": "3.6.3"
  }
 },
 "nbformat": 4,
 "nbformat_minor": 2
}
