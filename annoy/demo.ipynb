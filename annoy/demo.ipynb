{
 "cells": [
  {
   "cell_type": "code",
   "execution_count": 2,
   "metadata": {
    "collapsed": true
   },
   "outputs": [],
   "source": [
    "from annoy import AnnoyIndex\n",
    "import pandas as pd \n",
    "import numpy as np\n",
    "import gc"
   ]
  },
  {
   "cell_type": "code",
   "execution_count": 3,
   "metadata": {
    "collapsed": true
   },
   "outputs": [],
   "source": [
    "def load_data_np(features_path):\n",
    "\t\"\"\" Loads pickled data into a np array, sorted by images ascending, returns np array of vectors and a np array of images (sorted)\n",
    "\t\"\"\"\n",
    "\tprint(\"Loading data..\\n\\n\")\n",
    "\n",
    "\tdata = pd.read_pickle(features_path)\n",
    "\n",
    "\t# data = data.head(1000)\n",
    "\n",
    "\tdata = data.sort_values(\"img\")\n",
    "\n",
    "\timg_lst = data[\"img\"].values\n",
    "\n",
    "\tif \"transfer layer\" in data.columns:\n",
    "\t\tdata = np.array(data[\"transfer layer\"].values)\n",
    "\telif \"output layer\" in data.columns:\n",
    "\t\tdata = np.array(data[\"output layer\"].values)\n",
    "\n",
    "\n",
    "\tdata = [np.array(row) for row in data]\n",
    "\n",
    "\tprint(\"LOADED\\n\")\n",
    "\n",
    "\tn = gc.collect()\n",
    "\n",
    "\treturn data, img_lst"
   ]
  },
  {
   "cell_type": "code",
   "execution_count": 4,
   "metadata": {},
   "outputs": [
    {
     "name": "stdout",
     "output_type": "stream",
     "text": [
      "Loading data..\n",
      "\n",
      "\n",
      "LOADED\n",
      "\n"
     ]
    }
   ],
   "source": [
    "data, img_lst = load_data_np(\"../data/transfer_layer\")"
   ]
  },
  {
   "cell_type": "code",
   "execution_count": 38,
   "metadata": {
    "collapsed": true
   },
   "outputs": [],
   "source": [
    "def build_Index(data, vector_size, metric=\"euclidean\",trees=10):\n",
    "    \"\"\" Returns Annoy index for specified data, with specified number of trees\n",
    "    \"\"\"\n",
    "    t = AnnoyIndex(vector_size, metric=metric)  # Length of item vector that will be indexed\n",
    "    for count, v in enumerate(data): # 37k\n",
    "        t.add_item(count, v)\n",
    "    print(t)\n",
    "    t.build(trees)\n",
    "    print(t)\n",
    "    print(\"Indexs has been built!\\n\\n\")\n",
    "    return t"
   ]
  },
  {
   "cell_type": "code",
   "execution_count": 85,
   "metadata": {
    "collapsed": true
   },
   "outputs": [],
   "source": [
    "def nhood_query(item_index,annoy_index, nn=51):\n",
    "    \"\"\" Returns list of tuple pairs neighbors and distances of specified items\n",
    "    \"\"\"\n",
    "    neighbors = annoy_index.get_nns_by_item(item_index, nn, include_distances=True)\n",
    "    return neighbors[0], neighbors[1]"
   ]
  },
  {
   "cell_type": "code",
   "execution_count": 81,
   "metadata": {
    "collapsed": true
   },
   "outputs": [],
   "source": [
    "# u = AnnoyIndex(len(instance))\n",
    "# t.load('test.ann') # super fast, will just mmap the file\n",
    "# print(t.get_nns_by_item(0, 51)) # will find the 1000 nearest neighbors"
   ]
  },
  {
   "cell_type": "code",
   "execution_count": 82,
   "metadata": {
    "collapsed": true
   },
   "outputs": [],
   "source": [
    "def get_indices_distances(data, metric=\"euclidean\", nn=51, trees=20):\n",
    "    \"\"\" Returns nested np array of indicies and distances \n",
    "    \"\"\"\n",
    "    indices_lst = []\n",
    "    distances_lst = []\n",
    "    t = build_Index(data, len(data[0]), metric=metric,trees=trees)\n",
    "    for count, v in enumerate(data): # 37k\n",
    "        indices, distances = nhood_query(count, t, nn=nn)\n",
    "        indices_lst.append(np.array(indices))\n",
    "        distances_lst.append(np.array(distances))\n",
    "    return np.array(indices_lst), np.array(distances_lst)"
   ]
  },
  {
   "cell_type": "code",
   "execution_count": 77,
   "metadata": {},
   "outputs": [
    {
     "name": "stdout",
     "output_type": "stream",
     "text": [
      "<annoy.Annoy object at 0x7fc85e0ede50>\n",
      "<annoy.Annoy object at 0x7fc85e0ede50>\n",
      "Indexs has been built!\n",
      "\n",
      "\n",
      "<annoy.Annoy object at 0x7fc85e0ed9b0>\n",
      "<annoy.Annoy object at 0x7fc85e0ed9b0>\n",
      "Indexs has been built!\n",
      "\n",
      "\n",
      "<annoy.Annoy object at 0x7fc85e0edfb0>\n",
      "<annoy.Annoy object at 0x7fc85e0edfb0>\n",
      "Indexs has been built!\n",
      "\n",
      "\n",
      "<annoy.Annoy object at 0x7fc85e5260d0>\n",
      "<annoy.Annoy object at 0x7fc85e5260d0>\n",
      "Indexs has been built!\n",
      "\n",
      "\n",
      "<annoy.Annoy object at 0x7fc85e0ed830>\n",
      "<annoy.Annoy object at 0x7fc85e0ed830>\n",
      "Indexs has been built!\n",
      "\n",
      "\n",
      "<annoy.Annoy object at 0x7fc85e0ed9d0>\n",
      "<annoy.Annoy object at 0x7fc85e0ed9d0>\n",
      "Indexs has been built!\n",
      "\n",
      "\n",
      "<annoy.Annoy object at 0x7fc85e5260d0>\n",
      "<annoy.Annoy object at 0x7fc85e5260d0>\n",
      "Indexs has been built!\n",
      "\n",
      "\n",
      "<annoy.Annoy object at 0x7fc85e5260d0>\n",
      "<annoy.Annoy object at 0x7fc85e5260d0>\n",
      "Indexs has been built!\n",
      "\n",
      "\n",
      "1min 28s ± 2.58 s per loop (mean ± std. dev. of 7 runs, 1 loop each)\n"
     ]
    }
   ],
   "source": [
    "%timeit indices, distances = get_indices_distances(data, metric=\"angular\")"
   ]
  },
  {
   "cell_type": "code",
   "execution_count": 78,
   "metadata": {},
   "outputs": [
    {
     "name": "stdout",
     "output_type": "stream",
     "text": [
      "<annoy.Annoy object at 0x7fc85e0edf70>\n",
      "<annoy.Annoy object at 0x7fc85e0edf70>\n",
      "Indexs has been built!\n",
      "\n",
      "\n",
      "<annoy.Annoy object at 0x7fc85e5260d0>\n",
      "<annoy.Annoy object at 0x7fc85e5260d0>\n",
      "Indexs has been built!\n",
      "\n",
      "\n",
      "<annoy.Annoy object at 0x7fc85e0edaf0>\n",
      "<annoy.Annoy object at 0x7fc85e0edaf0>\n",
      "Indexs has been built!\n",
      "\n",
      "\n",
      "<annoy.Annoy object at 0x7fc85e0ed810>\n",
      "<annoy.Annoy object at 0x7fc85e0ed810>\n",
      "Indexs has been built!\n",
      "\n",
      "\n",
      "<annoy.Annoy object at 0x7fc85e0edc30>\n",
      "<annoy.Annoy object at 0x7fc85e0edc30>\n",
      "Indexs has been built!\n",
      "\n",
      "\n",
      "<annoy.Annoy object at 0x7fc85e0eda10>\n",
      "<annoy.Annoy object at 0x7fc85e0eda10>\n",
      "Indexs has been built!\n",
      "\n",
      "\n",
      "<annoy.Annoy object at 0x7fc85e0edbf0>\n",
      "<annoy.Annoy object at 0x7fc85e0edbf0>\n",
      "Indexs has been built!\n",
      "\n",
      "\n",
      "<annoy.Annoy object at 0x7fc85e0eddf0>\n",
      "<annoy.Annoy object at 0x7fc85e0eddf0>\n",
      "Indexs has been built!\n",
      "\n",
      "\n",
      "1min 12s ± 721 ms per loop (mean ± std. dev. of 7 runs, 1 loop each)\n"
     ]
    }
   ],
   "source": [
    "%timeit indices, distances = get_indices_distances(data, metric=\"euclidean\")"
   ]
  },
  {
   "cell_type": "code",
   "execution_count": 87,
   "metadata": {},
   "outputs": [
    {
     "name": "stdout",
     "output_type": "stream",
     "text": [
      "<annoy.Annoy object at 0x7fc85e3af150>\n",
      "<annoy.Annoy object at 0x7fc85e3af150>\n",
      "Indexs has been built!\n",
      "\n",
      "\n",
      "<annoy.Annoy object at 0x7fc85e0eda90>\n",
      "<annoy.Annoy object at 0x7fc85e0eda90>\n",
      "Indexs has been built!\n",
      "\n",
      "\n",
      "<annoy.Annoy object at 0x7fc85e2efb50>\n",
      "<annoy.Annoy object at 0x7fc85e2efb50>\n",
      "Indexs has been built!\n",
      "\n",
      "\n",
      "<annoy.Annoy object at 0x7fc85e0eda90>\n",
      "<annoy.Annoy object at 0x7fc85e0eda90>\n",
      "Indexs has been built!\n",
      "\n",
      "\n",
      "<annoy.Annoy object at 0x7fc85e2efb50>\n",
      "<annoy.Annoy object at 0x7fc85e2efb50>\n",
      "Indexs has been built!\n",
      "\n",
      "\n",
      "<annoy.Annoy object at 0x7fc85e0eda90>\n",
      "<annoy.Annoy object at 0x7fc85e0eda90>\n",
      "Indexs has been built!\n",
      "\n",
      "\n",
      "<annoy.Annoy object at 0x7fc85e0eda90>\n",
      "<annoy.Annoy object at 0x7fc85e0eda90>\n",
      "Indexs has been built!\n",
      "\n",
      "\n",
      "<annoy.Annoy object at 0x7fc85e0ed9b0>\n",
      "<annoy.Annoy object at 0x7fc85e0ed9b0>\n",
      "Indexs has been built!\n",
      "\n",
      "\n",
      "1min 17s ± 778 ms per loop (mean ± std. dev. of 7 runs, 1 loop each)\n"
     ]
    }
   ],
   "source": [
    "%timeit indices, distances = get_indices_distances(data, metric=\"manhattan\")"
   ]
  },
  {
   "cell_type": "code",
   "execution_count": null,
   "metadata": {
    "collapsed": true
   },
   "outputs": [],
   "source": []
  }
 ],
 "metadata": {
  "kernelspec": {
   "display_name": "Python 3",
   "language": "python",
   "name": "python3"
  },
  "language_info": {
   "codemirror_mode": {
    "name": "ipython",
    "version": 3
   },
   "file_extension": ".py",
   "mimetype": "text/x-python",
   "name": "python",
   "nbconvert_exporter": "python",
   "pygments_lexer": "ipython3",
   "version": "3.6.3"
  }
 },
 "nbformat": 4,
 "nbformat_minor": 2
}
